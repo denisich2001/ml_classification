{
 "cells": [
  {
   "cell_type": "markdown",
   "id": "6e7a424c",
   "metadata": {},
   "source": [
    "## Замечания:\n",
    "Актуально:\n",
    "* С дисбалансом из-за полупустых классов можно бороться либо удалением маленьких классов, либо **пересемплированием**. Пока выбираю второй вариант, но в любом случае чудес ждать от предсказания маленьких по объему классов не стоит - если в обучающей выборке есть 1 строка какого-то класса, значит он будет предсказывать этот класс исключительно при полном соответствии тестовых строк данной одной строке. \n",
    "*\n",
    "\n",
    "\n",
    "Актуально для меня:\n",
    "* Можно улучшить обработку текстовых данных (можно попробовать в сыром виде запихать в кэтбуст)\n",
    "* Если лемматизация будет работать долго (есть такая вероятность) - можно поменять на стеммер\n",
    "\n",
    "Старое:\n",
    "* Время работы? - **нужно протестировать на больших датасетах**\n",
    "* Полупустые классы из-за которых возникает дисбаланс - **бороться**\n",
    "\n",
    "* Вариант с тем, что в одной колонке название характеристики, в другой значение будет работать плохо (вот пример), т.к. модели без разницы на порядок следования колонок\n",
    "* Правильно ли я понимаю, что все колонки кроме ХК 1 и целевой имеют тип данных String?\n",
    "* **Как предсказывать строки с пустыми значениями во всех колонках ХК? (может их сразу откидывать)?**\n",
    "* Названия первой колонки должны быть всегда одинаковые\n",
    "* !!!Важно!!! Будем заменять числовые факторы на категориальные, если в них маленькое количество уникальных значений или одно значение встречается очень часто\n",
    "* Были ошибки в названиях колонок: 'ХК_ка т_01'"
   ]
  },
  {
   "cell_type": "markdown",
   "id": "3c4d3e75-a660-479c-a05e-2dab064987f0",
   "metadata": {},
   "source": [
    "**Проблемы, решение которых нужно будет автоматизировать:**\n",
    "* Несбалансированность классов\n",
    "* Пропуски в данных\n",
    "* Автоматическое кодирование текстовых столбцов"
   ]
  },
  {
   "cell_type": "code",
   "execution_count": 186,
   "id": "10e9e331",
   "metadata": {},
   "outputs": [],
   "source": [
    "#!pip install loguru\n",
    "#!pip install imblearn\n",
    "#!pip install pymystem3\n",
    "#!pip install catboost\n",
    "#!pip install seaborn"
   ]
  },
  {
   "cell_type": "code",
   "execution_count": 2,
   "id": "04316d65",
   "metadata": {},
   "outputs": [],
   "source": [
    "import pandas as pd\n",
    "import numpy as np\n",
    "from loguru import logger\n",
    "import re\n",
    "from nltk.corpus import stopwords\n",
    "#from pymystem3 import Mystem\n",
    "from string import punctuation\n",
    "from sklearn.feature_extraction.text import CountVectorizer\n",
    "from sklearn.feature_extraction.text import TfidfVectorizer\n",
    "from nltk.stem.snowball import SnowballStemmer\n",
    "\n",
    "#nltk.download('punkt')\n",
    "#nltk.download('stopwords')"
   ]
  },
  {
   "cell_type": "markdown",
   "id": "07a94931",
   "metadata": {},
   "source": [
    "#### Глобальные переменные"
   ]
  },
  {
   "cell_type": "code",
   "execution_count": 3,
   "id": "6121d49e",
   "metadata": {},
   "outputs": [],
   "source": [
    "# Максимальное количество уникальных значений для категориального фактора, при котором он может обрабатываться методом one-hot encoding (добавится максимум столько столбцов)\n",
    "OneHotEncodingLimit = 30"
   ]
  },
  {
   "cell_type": "markdown",
   "id": "994b4d29",
   "metadata": {},
   "source": [
    "### Работа с данными"
   ]
  },
  {
   "cell_type": "code",
   "execution_count": 126,
   "id": "6d87f484",
   "metadata": {},
   "outputs": [],
   "source": [
    "#df = pd.read_excel('data/tubes_classificator_data.xlsx')\n",
    "df = pd.read_csv('data/tubes_classificator_data.csv',encoding='cp1251', sep=';')\n",
    "#df = pd.read_excel('data/paper_classificator_data.xlsx')"
   ]
  },
  {
   "cell_type": "code",
   "execution_count": 5,
   "id": "ac541b98",
   "metadata": {},
   "outputs": [],
   "source": [
    "#df = df.drop('Историческое наименование', axis = 1)"
   ]
  },
  {
   "cell_type": "code",
   "execution_count": 127,
   "id": "e945fa20",
   "metadata": {},
   "outputs": [],
   "source": [
    "#df = df[df['ID класса (ТАРГЕТ)'].notna()]\n",
    "df = df[df['ID класса'].notna()]"
   ]
  },
  {
   "cell_type": "code",
   "execution_count": 128,
   "id": "b81bd7f7",
   "metadata": {},
   "outputs": [
    {
     "data": {
      "text/html": [
       "<div>\n",
       "<style scoped>\n",
       "    .dataframe tbody tr th:only-of-type {\n",
       "        vertical-align: middle;\n",
       "    }\n",
       "\n",
       "    .dataframe tbody tr th {\n",
       "        vertical-align: top;\n",
       "    }\n",
       "\n",
       "    .dataframe thead th {\n",
       "        text-align: right;\n",
       "    }\n",
       "</style>\n",
       "<table border=\"1\" class=\"dataframe\">\n",
       "  <thead>\n",
       "    <tr style=\"text-align: right;\">\n",
       "      <th></th>\n",
       "      <th>ID класса</th>\n",
       "      <th>Наименование терминального класса</th>\n",
       "      <th>Код родительского класса</th>\n",
       "      <th>Наименование родительского класса</th>\n",
       "      <th>Историческое наименование</th>\n",
       "      <th>ХК_Кат_01</th>\n",
       "      <th>Значение ХК_Кат_01</th>\n",
       "      <th>ХК_Кат_02</th>\n",
       "      <th>Значение ХК_Кат_02</th>\n",
       "      <th>ХК_Кат_03</th>\n",
       "      <th>...</th>\n",
       "      <th>ХК_Стр_02</th>\n",
       "      <th>Значение ХК_Стр_02</th>\n",
       "      <th>ХК_Стр_03</th>\n",
       "      <th>Значение ХК_Стр_03</th>\n",
       "      <th>ХК_Стр_04</th>\n",
       "      <th>Значение ХК_Стр_04</th>\n",
       "      <th>ХК_Стр_05</th>\n",
       "      <th>Значение ХК_Стр_05</th>\n",
       "      <th>ХК_Стр_06</th>\n",
       "      <th>Значение ХК_Стр_06</th>\n",
       "    </tr>\n",
       "  </thead>\n",
       "  <tbody>\n",
       "    <tr>\n",
       "      <th>0</th>\n",
       "      <td>100100</td>\n",
       "      <td>Труба стальная</td>\n",
       "      <td>NaN</td>\n",
       "      <td>NaN</td>\n",
       "      <td>Труба 100х100х3 Ст3сп, 12м, 1шт/109кг, ГОСТ 30...</td>\n",
       "      <td>NaN</td>\n",
       "      <td>NaN</td>\n",
       "      <td>NaN</td>\n",
       "      <td>NaN</td>\n",
       "      <td>NaN</td>\n",
       "      <td>...</td>\n",
       "      <td>NaN</td>\n",
       "      <td>NaN</td>\n",
       "      <td>Длина</td>\n",
       "      <td>12м</td>\n",
       "      <td>Масса единицы</td>\n",
       "      <td>1шт/109кг</td>\n",
       "      <td>НТД</td>\n",
       "      <td>ГОСТ 30245</td>\n",
       "      <td>NaN</td>\n",
       "      <td>NaN</td>\n",
       "    </tr>\n",
       "  </tbody>\n",
       "</table>\n",
       "<p>1 rows × 31 columns</p>\n",
       "</div>"
      ],
      "text/plain": [
       "   ID класса Наименование терминального класса  Код родительского класса  \\\n",
       "0     100100                    Труба стальная                       NaN   \n",
       "\n",
       "   Наименование родительского класса  \\\n",
       "0                                NaN   \n",
       "\n",
       "                           Историческое наименование ХК_Кат_01  \\\n",
       "0  Труба 100х100х3 Ст3сп, 12м, 1шт/109кг, ГОСТ 30...       NaN   \n",
       "\n",
       "  Значение ХК_Кат_01 ХК_Кат_02 Значение ХК_Кат_02 ХК_Кат_03  ... ХК_Стр_02  \\\n",
       "0                NaN       NaN                NaN       NaN  ...       NaN   \n",
       "\n",
       "  Значение ХК_Стр_02 ХК_Стр_03 Значение ХК_Стр_03      ХК_Стр_04  \\\n",
       "0                NaN     Длина                12м  Масса единицы   \n",
       "\n",
       "  Значение ХК_Стр_04 ХК_Стр_05 Значение ХК_Стр_05 ХК_Стр_06 Значение ХК_Стр_06  \n",
       "0          1шт/109кг       НТД        ГОСТ 30245        NaN                NaN  \n",
       "\n",
       "[1 rows x 31 columns]"
      ]
     },
     "execution_count": 128,
     "metadata": {},
     "output_type": "execute_result"
    }
   ],
   "source": [
    "df.head(1)"
   ]
  },
  {
   "cell_type": "code",
   "execution_count": 130,
   "id": "f9af1d63",
   "metadata": {},
   "outputs": [],
   "source": [
    "target = df['ID класса']\n",
    "\n",
    "# Удалим все лишние текстовые столбцы кроме \"Исторического наименования\"\n",
    "trainset_columns = []\n",
    "for column in df.columns:\n",
    "    if (column == 'Историческое наименование') or (re.fullmatch(r'ХК_.*', column)!=None) or (re.fullmatch(r'Значение.*', column)!=None):\n",
    "        trainset_columns.append(column)\n",
    "\n",
    "factors_df = df[trainset_columns]"
   ]
  },
  {
   "cell_type": "markdown",
   "id": "f9c2355b",
   "metadata": {},
   "source": [
    "#### Работаем с типами данных столбцов"
   ]
  },
  {
   "cell_type": "code",
   "execution_count": 131,
   "id": "0cee265f",
   "metadata": {},
   "outputs": [],
   "source": [
    "def format_column_types(columns: list):\n",
    "    '''\n",
    "    Обрабатывает названия колонок из массива columns.\n",
    "    Возвращает словарь с парами: название колонки - ее тип данных  \n",
    "    '''\n",
    "    feature_types_dict = {}\n",
    "    for column in columns:\n",
    "        type_pattern = r'ХК_([^_]+)_.*'\n",
    "        if column[0:2] == 'ХК':\n",
    "            feature_types_dict[column] = 'Кат'\n",
    "        elif column[0:8]=='Значение':\n",
    "            column_type = re.findall(type_pattern, column)[0]\n",
    "            feature_types_dict[column] = column_type\n",
    "        else:\n",
    "            feature_types_dict[column] = 'Стр'\n",
    "    return feature_types_dict\n",
    "\n",
    "feature_types_dict = format_column_types(factors_df.columns)"
   ]
  },
  {
   "cell_type": "code",
   "execution_count": 132,
   "id": "79196d3b",
   "metadata": {},
   "outputs": [
    {
     "name": "stderr",
     "output_type": "stream",
     "text": [
      "C:\\Users\\User\\AppData\\Local\\Temp\\ipykernel_11932\\1022614043.py:20: SettingWithCopyWarning: \n",
      "A value is trying to be set on a copy of a slice from a DataFrame.\n",
      "Try using .loc[row_indexer,col_indexer] = value instead\n",
      "\n",
      "See the caveats in the documentation: https://pandas.pydata.org/pandas-docs/stable/user_guide/indexing.html#returning-a-view-versus-a-copy\n",
      "  factors_df[feature] = factors_df_copy[feature].astype(object)\n",
      "2023-10-23 18:35:11.329 | DEBUG    | __main__:<module>:33 - Категориальный фактор: ХК_Кат_01\n",
      "2023-10-23 18:35:11.330 | DEBUG    | __main__:<module>:33 - Категориальный фактор: Значение ХК_Кат_01\n",
      "2023-10-23 18:35:11.330 | DEBUG    | __main__:<module>:33 - Категориальный фактор: ХК_Кат_02\n",
      "2023-10-23 18:35:11.331 | DEBUG    | __main__:<module>:33 - Категориальный фактор: Значение ХК_Кат_02\n",
      "2023-10-23 18:35:11.331 | DEBUG    | __main__:<module>:33 - Категориальный фактор: ХК_Кат_03\n",
      "2023-10-23 18:35:11.332 | DEBUG    | __main__:<module>:33 - Категориальный фактор: Значение ХК_Кат_03\n",
      "2023-10-23 18:35:11.332 | DEBUG    | __main__:<module>:33 - Категориальный фактор: ХК_Кат_04\n",
      "2023-10-23 18:35:11.333 | DEBUG    | __main__:<module>:33 - Категориальный фактор: Значение ХК_Кат_04\n",
      "2023-10-23 18:35:11.333 | DEBUG    | __main__:<module>:33 - Категориальный фактор: ХК_Кат_05\n",
      "2023-10-23 18:35:11.334 | DEBUG    | __main__:<module>:33 - Категориальный фактор: Значение ХК_Кат_05\n",
      "2023-10-23 18:35:11.335 | DEBUG    | __main__:<module>:33 - Категориальный фактор: ХК_Кат_06\n",
      "2023-10-23 18:35:11.335 | DEBUG    | __main__:<module>:33 - Категориальный фактор: Значение ХК_Кат_06\n",
      "2023-10-23 18:35:11.336 | DEBUG    | __main__:<module>:33 - Категориальный фактор: ХК_Кат_07\n",
      "2023-10-23 18:35:11.336 | DEBUG    | __main__:<module>:33 - Категориальный фактор: Значение ХК_Кат_07\n",
      "2023-10-23 18:35:11.337 | DEBUG    | __main__:<module>:33 - Категориальный фактор: ХК_Стр_01\n",
      "C:\\Users\\User\\AppData\\Local\\Temp\\ipykernel_11932\\1022614043.py:20: SettingWithCopyWarning: \n",
      "A value is trying to be set on a copy of a slice from a DataFrame.\n",
      "Try using .loc[row_indexer,col_indexer] = value instead\n",
      "\n",
      "See the caveats in the documentation: https://pandas.pydata.org/pandas-docs/stable/user_guide/indexing.html#returning-a-view-versus-a-copy\n",
      "  factors_df[feature] = factors_df_copy[feature].astype(object)\n",
      "2023-10-23 18:35:11.339 | DEBUG    | __main__:<module>:33 - Категориальный фактор: ХК_Стр_02\n",
      "C:\\Users\\User\\AppData\\Local\\Temp\\ipykernel_11932\\1022614043.py:20: SettingWithCopyWarning: \n",
      "A value is trying to be set on a copy of a slice from a DataFrame.\n",
      "Try using .loc[row_indexer,col_indexer] = value instead\n",
      "\n",
      "See the caveats in the documentation: https://pandas.pydata.org/pandas-docs/stable/user_guide/indexing.html#returning-a-view-versus-a-copy\n",
      "  factors_df[feature] = factors_df_copy[feature].astype(object)\n",
      "2023-10-23 18:35:11.341 | DEBUG    | __main__:<module>:33 - Категориальный фактор: ХК_Стр_03\n",
      "C:\\Users\\User\\AppData\\Local\\Temp\\ipykernel_11932\\1022614043.py:20: SettingWithCopyWarning: \n",
      "A value is trying to be set on a copy of a slice from a DataFrame.\n",
      "Try using .loc[row_indexer,col_indexer] = value instead\n",
      "\n",
      "See the caveats in the documentation: https://pandas.pydata.org/pandas-docs/stable/user_guide/indexing.html#returning-a-view-versus-a-copy\n",
      "  factors_df[feature] = factors_df_copy[feature].astype(object)\n",
      "2023-10-23 18:35:11.344 | DEBUG    | __main__:<module>:33 - Категориальный фактор: ХК_Стр_04\n",
      "C:\\Users\\User\\AppData\\Local\\Temp\\ipykernel_11932\\1022614043.py:20: SettingWithCopyWarning: \n",
      "A value is trying to be set on a copy of a slice from a DataFrame.\n",
      "Try using .loc[row_indexer,col_indexer] = value instead\n",
      "\n",
      "See the caveats in the documentation: https://pandas.pydata.org/pandas-docs/stable/user_guide/indexing.html#returning-a-view-versus-a-copy\n",
      "  factors_df[feature] = factors_df_copy[feature].astype(object)\n",
      "2023-10-23 18:35:11.346 | DEBUG    | __main__:<module>:33 - Категориальный фактор: ХК_Стр_05\n",
      "C:\\Users\\User\\AppData\\Local\\Temp\\ipykernel_11932\\1022614043.py:20: SettingWithCopyWarning: \n",
      "A value is trying to be set on a copy of a slice from a DataFrame.\n",
      "Try using .loc[row_indexer,col_indexer] = value instead\n",
      "\n",
      "See the caveats in the documentation: https://pandas.pydata.org/pandas-docs/stable/user_guide/indexing.html#returning-a-view-versus-a-copy\n",
      "  factors_df[feature] = factors_df_copy[feature].astype(object)\n",
      "2023-10-23 18:35:11.348 | DEBUG    | __main__:<module>:33 - Категориальный фактор: ХК_Стр_06\n",
      "C:\\Users\\User\\AppData\\Local\\Temp\\ipykernel_11932\\1022614043.py:20: SettingWithCopyWarning: \n",
      "A value is trying to be set on a copy of a slice from a DataFrame.\n",
      "Try using .loc[row_indexer,col_indexer] = value instead\n",
      "\n",
      "See the caveats in the documentation: https://pandas.pydata.org/pandas-docs/stable/user_guide/indexing.html#returning-a-view-versus-a-copy\n",
      "  factors_df[feature] = factors_df_copy[feature].astype(object)\n"
     ]
    }
   ],
   "source": [
    "def check_number_to_categorical(column: str, factor: pd.Series):\n",
    "    logger.info(f'Начинаем проверку численного фактора {column}\\n')\n",
    "    logger.debug(f'Размер фактора:{factor.size}')\n",
    "    logger.debug(f'Количество уникальных значений: {factor.drop_duplicates().size}')\n",
    "    logger.debug(f'Процент заполненности фактора: {factor[factor.notnull()].size / factor.size * 100}%')\n",
    "    popular_value = pd.DataFrame(factor.value_counts().sort_values(ascending=False).head(1)/factor[factor.notnull()].size*100)\n",
    "    popular_value.columns = ['Частота']\n",
    "    logger.debug(f'Cамое частое значение фактора: \\n{popular_value}')\n",
    "    \n",
    "    if float(popular_value.iloc[0])>=50:\n",
    "        logger.info(f'Переводим числовой фактор {column} в категориальный')\n",
    "        return True\n",
    "    \n",
    "    \n",
    "for feature in feature_types_dict.keys():\n",
    "    if feature_types_dict.get(feature) == 'Стр':\n",
    "        #logger.debug(f'Строковый фактор: {feature}')\n",
    "        #todo ДОДЕЛАТЬ пока ничего не делаем, чтобы не потерять пропущенные значения при преобразовании в строковый формат\n",
    "        factors_df_copy = factors_df.copy()\n",
    "        factors_df[feature] = factors_df_copy[feature].astype(object)\n",
    "    elif feature_types_dict.get(feature) == 'Булево':\n",
    "        factors_df_copy = factors_df.copy()\n",
    "        factors_df[feature] = factors_df_copy[feature].astype(bool)\n",
    "    elif feature_types_dict.get(feature) == 'Числ':\n",
    "        if check_number_to_categorical(feature, factors_df[feature]):\n",
    "            feature_types_dict[feature] = 'Кат'\n",
    "            factors_df_copy = factors_df.copy()\n",
    "            factors_df[feature] = factors_df_copy[feature].astype(object)\n",
    "        else:\n",
    "            factors_df_copy = factors_df.copy()\n",
    "            factors_df[feature] = factors_df_copy[feature].astype(float)\n",
    "    elif feature_types_dict.get(feature) == 'Кат':\n",
    "        logger.debug(f'Категориальный фактор: {feature}')\n",
    "        #todo ДОДЕЛАТЬ преобразование категориальных колонок (пока не делаем, т.к. возможно будет catboost)\n"
   ]
  },
  {
   "cell_type": "markdown",
   "id": "4cf5a9e5",
   "metadata": {},
   "source": [
    "#### Заполняем пропуски в данных\n",
    "В зависимости от типа данных колонки заполняем пропуски по-разному:\n",
    "*   Стр -  т.к. переводим строки в числа, то пропущенные значение пусть будут = 0\n",
    "*   Числ - #todo По умолчанию = 0. Если присутствует значение, количество которого в заполненных строках >=50% => то фактор станет категориальным, а не численным. \n",
    "*   Булево - #todo будем считать, что у нас всегда такие столбцы отвечают на вопрос: \"Есть что-то? - Да/Нет\". Если нет ответа => Нет\n",
    "*   Кат - 'Emptyclass'"
   ]
  },
  {
   "cell_type": "code",
   "execution_count": 134,
   "id": "e8832904",
   "metadata": {},
   "outputs": [
    {
     "data": {
      "text/plain": [
       "Историческое наименование    1665\n",
       "ХК_Кат_01                     478\n",
       "Значение ХК_Кат_01            478\n",
       "ХК_Кат_02                     724\n",
       "Значение ХК_Кат_02            724\n",
       "ХК_Кат_03                      97\n",
       "Значение ХК_Кат_03             97\n",
       "ХК_Кат_04                     315\n",
       "Значение ХК_Кат_04            315\n",
       "ХК_Кат_05                     436\n",
       "Значение ХК_Кат_05            436\n",
       "ХК_Кат_06                    1434\n",
       "Значение ХК_Кат_06           1434\n",
       "ХК_Кат_07                    1665\n",
       "Значение ХК_Кат_07           1665\n",
       "ХК_Стр_01                    1651\n",
       "Значение ХК_Стр_01           1651\n",
       "ХК_Стр_02                     521\n",
       "Значение ХК_Стр_02            521\n",
       "ХК_Стр_03                     673\n",
       "Значение ХК_Стр_03            673\n",
       "ХК_Стр_04                     294\n",
       "Значение ХК_Стр_04            294\n",
       "ХК_Стр_05                     719\n",
       "Значение ХК_Стр_05            719\n",
       "ХК_Стр_06                     214\n",
       "Значение ХК_Стр_06            214\n",
       "dtype: int64"
      ]
     },
     "execution_count": 134,
     "metadata": {},
     "output_type": "execute_result"
    }
   ],
   "source": [
    "factors_df.count()"
   ]
  },
  {
   "cell_type": "code",
   "execution_count": 133,
   "id": "5af29dc7",
   "metadata": {},
   "outputs": [
    {
     "data": {
      "text/plain": [
       "Историческое наименование       0\n",
       "ХК_Кат_01                    1187\n",
       "Значение ХК_Кат_01           1187\n",
       "ХК_Кат_02                     941\n",
       "Значение ХК_Кат_02            941\n",
       "ХК_Кат_03                    1568\n",
       "Значение ХК_Кат_03           1568\n",
       "ХК_Кат_04                    1350\n",
       "Значение ХК_Кат_04           1350\n",
       "ХК_Кат_05                    1229\n",
       "Значение ХК_Кат_05           1229\n",
       "ХК_Кат_06                     231\n",
       "Значение ХК_Кат_06            231\n",
       "ХК_Кат_07                       0\n",
       "Значение ХК_Кат_07              0\n",
       "ХК_Стр_01                      14\n",
       "Значение ХК_Стр_01             14\n",
       "ХК_Стр_02                    1144\n",
       "Значение ХК_Стр_02           1144\n",
       "ХК_Стр_03                     992\n",
       "Значение ХК_Стр_03            992\n",
       "ХК_Стр_04                    1371\n",
       "Значение ХК_Стр_04           1371\n",
       "ХК_Стр_05                     946\n",
       "Значение ХК_Стр_05            946\n",
       "ХК_Стр_06                    1451\n",
       "Значение ХК_Стр_06           1451\n",
       "dtype: int64"
      ]
     },
     "execution_count": 133,
     "metadata": {},
     "output_type": "execute_result"
    }
   ],
   "source": [
    "factors_df.isna().sum()"
   ]
  },
  {
   "cell_type": "code",
   "execution_count": 135,
   "id": "3fcd845c",
   "metadata": {},
   "outputs": [],
   "source": [
    "not_empty_factors_df = factors_df.copy()\n",
    "for column in not_empty_factors_df.columns:\n",
    "    if feature_types_dict.get(column) == 'Кат':\n",
    "        not_empty_factors_df.loc[not_empty_factors_df[column].isna(), column] = f'EmptyCat'\n",
    "    elif feature_types_dict.get(column) == 'Числ':\n",
    "        not_empty_factors_df.loc[not_empty_factors_df[column].isna(), column] = 0\n",
    "    elif feature_types_dict.get(column) == 'Стр':\n",
    "        not_empty_factors_df.loc[not_empty_factors_df[column].isna(), column] = ''\n",
    "    elif feature_types_dict.get(column) == 'Булево':\n",
    "        not_empty_factors_df.loc[not_empty_factors_df[column].isna(), column] = 0\n"
   ]
  },
  {
   "cell_type": "code",
   "execution_count": 136,
   "id": "06b664ad",
   "metadata": {},
   "outputs": [
    {
     "data": {
      "text/plain": [
       "Историческое наименование    0\n",
       "ХК_Кат_01                    0\n",
       "Значение ХК_Кат_01           0\n",
       "ХК_Кат_02                    0\n",
       "Значение ХК_Кат_02           0\n",
       "ХК_Кат_03                    0\n",
       "Значение ХК_Кат_03           0\n",
       "ХК_Кат_04                    0\n",
       "Значение ХК_Кат_04           0\n",
       "ХК_Кат_05                    0\n",
       "Значение ХК_Кат_05           0\n",
       "ХК_Кат_06                    0\n",
       "Значение ХК_Кат_06           0\n",
       "ХК_Кат_07                    0\n",
       "Значение ХК_Кат_07           0\n",
       "ХК_Стр_01                    0\n",
       "Значение ХК_Стр_01           0\n",
       "ХК_Стр_02                    0\n",
       "Значение ХК_Стр_02           0\n",
       "ХК_Стр_03                    0\n",
       "Значение ХК_Стр_03           0\n",
       "ХК_Стр_04                    0\n",
       "Значение ХК_Стр_04           0\n",
       "ХК_Стр_05                    0\n",
       "Значение ХК_Стр_05           0\n",
       "ХК_Стр_06                    0\n",
       "Значение ХК_Стр_06           0\n",
       "dtype: int64"
      ]
     },
     "execution_count": 136,
     "metadata": {},
     "output_type": "execute_result"
    }
   ],
   "source": [
    "not_empty_factors_df.isna().sum()"
   ]
  },
  {
   "cell_type": "markdown",
   "id": "f84ae2be",
   "metadata": {},
   "source": [
    "#### Кодируем переменные\n",
    "* bag_of_words - пока остановимся на нем"
   ]
  },
  {
   "cell_type": "code",
   "execution_count": 137,
   "id": "406e478d",
   "metadata": {},
   "outputs": [],
   "source": [
    "russian_stopwords = stopwords.words(\"russian\")\n",
    "stemmer = SnowballStemmer(\"russian\")\n",
    "\n",
    "def text_preprocessing(text):\n",
    "    #tokens = mystem.lemmatize(text)\n",
    "    tokens = [stemmer.stem(token) for token in text.split() if token not in russian_stopwords and token != \" \"  and token.strip() not in punctuation]\n",
    "    tokens = ' '.join(tokens)\n",
    "    return tokens\n",
    "\n",
    "def text_feature_preprocessing(text_feature):\n",
    "    '''\n",
    "    Функция преобразования текстовых факторов\n",
    "    - Переводим в нижний регистр\n",
    "    - Удаляем знаки препинания\n",
    "    - Удаляем стоп слова\n",
    "    - Проводим лемматизацию\n",
    "    '''\n",
    "    processed_feature = []\n",
    "    text_feature = text_feature.replace(r'[^\\w\\s]',' ', regex=True).replace(r'\\s+',' ', regex=True).str.lower()\n",
    "    processed_text_feature = text_feature.apply(text_preprocessing)\n",
    "    return processed_text_feature\n",
    "    #return text_feature\n",
    "\n",
    "vectorizer = TfidfVectorizer(\n",
    "        min_df = 20,\n",
    "        max_features=20,\n",
    "        analyzer='word',\n",
    "        stop_words = russian_stopwords\n",
    ")\n",
    "\n",
    "def handle_text_feature(text_feature: pd.Series):\n",
    "    '''\n",
    "    Функция обработки строкового фактора:\n",
    "    - Проводим препроцессинг\n",
    "    - Формируем \"Мешок строк\" (bag of words)\n",
    "    '''\n",
    "    #text_feature = text_feature.drop_duplicates()\n",
    "    processed_text_feature = text_feature_preprocessing(text_feature)\n",
    "    \n",
    "    vectorizer.fit(processed_text_feature)\n",
    "    vectorized_text_feature = pd.DataFrame(vectorizer.transform(processed_text_feature).toarray())\n",
    "\n",
    "    # Удалим неинформативные столбцы\n",
    "    informative_word_columns = vectorized_text_feature.sum()[\n",
    "            (vectorized_text_feature.sum()>=vectorized_text_feature.shape[1]*0.01) &\n",
    "            (vectorized_text_feature.sum()!=vectorized_text_feature.shape[1])\n",
    "        ].index \n",
    "    handled_text_feature = vectorized_text_feature[informative_word_columns]\n",
    "    handled_text_feature = handled_text_feature.fillna('EmptyStr')\n",
    "    handled_text_feature.columns = pd.Series(vectorizer.get_feature_names_out())[informative_word_columns]\n",
    "    return handled_text_feature"
   ]
  },
  {
   "cell_type": "code",
   "execution_count": 138,
   "id": "7c36d91b",
   "metadata": {},
   "outputs": [],
   "source": [
    "from sklearn.preprocessing import LabelEncoder\n",
    "\n",
    "def handle_cat_feature(cat_feature: pd.Series):\n",
    "    cat_feature = cat_feature.astype(str)\n",
    "    unique_values_count = cat_feature.drop_duplicates().size\n",
    "    if unique_values_count <= OneHotEncodingLimit:\n",
    "        #OneHotEncoding\n",
    "        cat_feature_encoded = pd.get_dummies(cat_feature)\n",
    "    else:\n",
    "        #LabelEncoding - чтобы сильно не увеличивать количество факторов\n",
    "        le = LabelEncoder()\n",
    "        cat_feature_encoded = pd.DataFrame(le.fit_transform(cat_feature))\n",
    "    return cat_feature_encoded"
   ]
  },
  {
   "cell_type": "code",
   "execution_count": 139,
   "id": "f53ad5b4",
   "metadata": {},
   "outputs": [
    {
     "name": "stderr",
     "output_type": "stream",
     "text": [
      "g:\\Apps\\anaconda3\\envs\\qlever\\Lib\\site-packages\\sklearn\\utils\\validation.py:605: FutureWarning: is_sparse is deprecated and will be removed in a future version. Check `isinstance(dtype, pd.SparseDtype)` instead.\n",
      "  if is_sparse(pd_dtype):\n",
      "g:\\Apps\\anaconda3\\envs\\qlever\\Lib\\site-packages\\sklearn\\utils\\validation.py:614: FutureWarning: is_sparse is deprecated and will be removed in a future version. Check `isinstance(dtype, pd.SparseDtype)` instead.\n",
      "  if is_sparse(pd_dtype) or not is_extension_array_dtype(pd_dtype):\n"
     ]
    }
   ],
   "source": [
    "trainset = pd.DataFrame()\n",
    "copy_df = not_empty_factors_df.copy()\n",
    "\n",
    "for feature in feature_types_dict:\n",
    "    if feature_types_dict.get(feature) == 'Стр':\n",
    "        handled_feature = handle_text_feature(not_empty_factors_df[feature])\n",
    "        handled_feature = handled_feature.fillna('')\n",
    "        #handled_feature = handle_text_feature(copy_df[feature])\n",
    "    elif feature_types_dict.get(feature) == 'Кат':\n",
    "        handled_feature = handle_cat_feature(not_empty_factors_df[feature])\n",
    "        #handled_feature = handle_cat_feature(copy_df[feature])\n",
    "    else:\n",
    "        handled_feature = pd.DataFrame(not_empty_factors_df[feature])\n",
    "        #handled_feature = pd.DataFrame(copy_df[feature])\n",
    "    handled_feature.columns = [str(col)+'_'+str(feature) for col in handled_feature.columns]  \n",
    "    trainset = pd.concat([trainset,handled_feature],axis=1)"
   ]
  },
  {
   "cell_type": "code",
   "execution_count": 140,
   "id": "f7d1d167",
   "metadata": {},
   "outputs": [
    {
     "data": {
      "text/html": [
       "<div>\n",
       "<style scoped>\n",
       "    .dataframe tbody tr th:only-of-type {\n",
       "        vertical-align: middle;\n",
       "    }\n",
       "\n",
       "    .dataframe tbody tr th {\n",
       "        vertical-align: top;\n",
       "    }\n",
       "\n",
       "    .dataframe thead th {\n",
       "        text-align: right;\n",
       "    }\n",
       "</style>\n",
       "<table border=\"1\" class=\"dataframe\">\n",
       "  <thead>\n",
       "    <tr style=\"text-align: right;\">\n",
       "      <th></th>\n",
       "      <th>0м_Историческое наименование</th>\n",
       "      <th>10704_Историческое наименование</th>\n",
       "      <th>1шт_Историческое наименование</th>\n",
       "      <th>30245_Историческое наименование</th>\n",
       "      <th>304_Историческое наименование</th>\n",
       "      <th>6м_Историческое наименование</th>\n",
       "      <th>aisi_Историческое наименование</th>\n",
       "      <th>бесшовн_Историческое наименование</th>\n",
       "      <th>вес_Историческое наименование</th>\n",
       "      <th>гост_Историческое наименование</th>\n",
       "      <th>...</th>\n",
       "      <th>86_Значение ХК_Стр_05</th>\n",
       "      <th>8639_Значение ХК_Стр_05</th>\n",
       "      <th>8645_Значение ХК_Стр_05</th>\n",
       "      <th>8732_Значение ХК_Стр_05</th>\n",
       "      <th>91_Значение ХК_Стр_05</th>\n",
       "      <th>гост_Значение ХК_Стр_05</th>\n",
       "      <th>EmptyCat_ХК_Стр_06</th>\n",
       "      <th>Производитель_ХК_Стр_06</th>\n",
       "      <th>вмз_Значение ХК_Стр_06</th>\n",
       "      <th>северстал_Значение ХК_Стр_06</th>\n",
       "    </tr>\n",
       "  </thead>\n",
       "  <tbody>\n",
       "    <tr>\n",
       "      <th>0</th>\n",
       "      <td>0.0</td>\n",
       "      <td>0.0</td>\n",
       "      <td>0.642845</td>\n",
       "      <td>0.631067</td>\n",
       "      <td>0.0</td>\n",
       "      <td>0.0</td>\n",
       "      <td>0.0</td>\n",
       "      <td>0.0</td>\n",
       "      <td>0.0</td>\n",
       "      <td>0.381094</td>\n",
       "      <td>...</td>\n",
       "      <td>0.0</td>\n",
       "      <td>0.000000</td>\n",
       "      <td>0.0</td>\n",
       "      <td>0.0</td>\n",
       "      <td>0.0</td>\n",
       "      <td>0.521247</td>\n",
       "      <td>True</td>\n",
       "      <td>False</td>\n",
       "      <td>0.0</td>\n",
       "      <td>0.0</td>\n",
       "    </tr>\n",
       "    <tr>\n",
       "      <th>1</th>\n",
       "      <td>0.0</td>\n",
       "      <td>0.0</td>\n",
       "      <td>0.642845</td>\n",
       "      <td>0.631067</td>\n",
       "      <td>0.0</td>\n",
       "      <td>0.0</td>\n",
       "      <td>0.0</td>\n",
       "      <td>0.0</td>\n",
       "      <td>0.0</td>\n",
       "      <td>0.381094</td>\n",
       "      <td>...</td>\n",
       "      <td>0.0</td>\n",
       "      <td>0.000000</td>\n",
       "      <td>0.0</td>\n",
       "      <td>0.0</td>\n",
       "      <td>0.0</td>\n",
       "      <td>0.521247</td>\n",
       "      <td>True</td>\n",
       "      <td>False</td>\n",
       "      <td>0.0</td>\n",
       "      <td>0.0</td>\n",
       "    </tr>\n",
       "    <tr>\n",
       "      <th>2</th>\n",
       "      <td>0.0</td>\n",
       "      <td>0.0</td>\n",
       "      <td>0.527774</td>\n",
       "      <td>0.518104</td>\n",
       "      <td>0.0</td>\n",
       "      <td>0.0</td>\n",
       "      <td>0.0</td>\n",
       "      <td>0.0</td>\n",
       "      <td>0.0</td>\n",
       "      <td>0.312878</td>\n",
       "      <td>...</td>\n",
       "      <td>0.0</td>\n",
       "      <td>0.000000</td>\n",
       "      <td>0.0</td>\n",
       "      <td>0.0</td>\n",
       "      <td>0.0</td>\n",
       "      <td>0.521247</td>\n",
       "      <td>True</td>\n",
       "      <td>False</td>\n",
       "      <td>0.0</td>\n",
       "      <td>0.0</td>\n",
       "    </tr>\n",
       "    <tr>\n",
       "      <th>3</th>\n",
       "      <td>0.0</td>\n",
       "      <td>0.0</td>\n",
       "      <td>0.000000</td>\n",
       "      <td>0.000000</td>\n",
       "      <td>0.0</td>\n",
       "      <td>0.0</td>\n",
       "      <td>0.0</td>\n",
       "      <td>0.0</td>\n",
       "      <td>0.0</td>\n",
       "      <td>0.464852</td>\n",
       "      <td>...</td>\n",
       "      <td>0.0</td>\n",
       "      <td>0.629137</td>\n",
       "      <td>0.0</td>\n",
       "      <td>0.0</td>\n",
       "      <td>0.0</td>\n",
       "      <td>0.317842</td>\n",
       "      <td>True</td>\n",
       "      <td>False</td>\n",
       "      <td>0.0</td>\n",
       "      <td>0.0</td>\n",
       "    </tr>\n",
       "    <tr>\n",
       "      <th>4</th>\n",
       "      <td>0.0</td>\n",
       "      <td>0.0</td>\n",
       "      <td>0.642845</td>\n",
       "      <td>0.631067</td>\n",
       "      <td>0.0</td>\n",
       "      <td>0.0</td>\n",
       "      <td>0.0</td>\n",
       "      <td>0.0</td>\n",
       "      <td>0.0</td>\n",
       "      <td>0.381094</td>\n",
       "      <td>...</td>\n",
       "      <td>0.0</td>\n",
       "      <td>0.000000</td>\n",
       "      <td>0.0</td>\n",
       "      <td>0.0</td>\n",
       "      <td>0.0</td>\n",
       "      <td>0.521247</td>\n",
       "      <td>True</td>\n",
       "      <td>False</td>\n",
       "      <td>0.0</td>\n",
       "      <td>0.0</td>\n",
       "    </tr>\n",
       "  </tbody>\n",
       "</table>\n",
       "<p>5 rows × 136 columns</p>\n",
       "</div>"
      ],
      "text/plain": [
       "   0м_Историческое наименование  10704_Историческое наименование  \\\n",
       "0                           0.0                              0.0   \n",
       "1                           0.0                              0.0   \n",
       "2                           0.0                              0.0   \n",
       "3                           0.0                              0.0   \n",
       "4                           0.0                              0.0   \n",
       "\n",
       "   1шт_Историческое наименование  30245_Историческое наименование  \\\n",
       "0                       0.642845                         0.631067   \n",
       "1                       0.642845                         0.631067   \n",
       "2                       0.527774                         0.518104   \n",
       "3                       0.000000                         0.000000   \n",
       "4                       0.642845                         0.631067   \n",
       "\n",
       "   304_Историческое наименование  6м_Историческое наименование  \\\n",
       "0                            0.0                           0.0   \n",
       "1                            0.0                           0.0   \n",
       "2                            0.0                           0.0   \n",
       "3                            0.0                           0.0   \n",
       "4                            0.0                           0.0   \n",
       "\n",
       "   aisi_Историческое наименование  бесшовн_Историческое наименование  \\\n",
       "0                             0.0                                0.0   \n",
       "1                             0.0                                0.0   \n",
       "2                             0.0                                0.0   \n",
       "3                             0.0                                0.0   \n",
       "4                             0.0                                0.0   \n",
       "\n",
       "   вес_Историческое наименование  гост_Историческое наименование  ...  \\\n",
       "0                            0.0                        0.381094  ...   \n",
       "1                            0.0                        0.381094  ...   \n",
       "2                            0.0                        0.312878  ...   \n",
       "3                            0.0                        0.464852  ...   \n",
       "4                            0.0                        0.381094  ...   \n",
       "\n",
       "   86_Значение ХК_Стр_05  8639_Значение ХК_Стр_05  8645_Значение ХК_Стр_05  \\\n",
       "0                    0.0                 0.000000                      0.0   \n",
       "1                    0.0                 0.000000                      0.0   \n",
       "2                    0.0                 0.000000                      0.0   \n",
       "3                    0.0                 0.629137                      0.0   \n",
       "4                    0.0                 0.000000                      0.0   \n",
       "\n",
       "   8732_Значение ХК_Стр_05  91_Значение ХК_Стр_05  гост_Значение ХК_Стр_05  \\\n",
       "0                      0.0                    0.0                 0.521247   \n",
       "1                      0.0                    0.0                 0.521247   \n",
       "2                      0.0                    0.0                 0.521247   \n",
       "3                      0.0                    0.0                 0.317842   \n",
       "4                      0.0                    0.0                 0.521247   \n",
       "\n",
       "   EmptyCat_ХК_Стр_06  Производитель_ХК_Стр_06  вмз_Значение ХК_Стр_06  \\\n",
       "0                True                    False                     0.0   \n",
       "1                True                    False                     0.0   \n",
       "2                True                    False                     0.0   \n",
       "3                True                    False                     0.0   \n",
       "4                True                    False                     0.0   \n",
       "\n",
       "   северстал_Значение ХК_Стр_06  \n",
       "0                           0.0  \n",
       "1                           0.0  \n",
       "2                           0.0  \n",
       "3                           0.0  \n",
       "4                           0.0  \n",
       "\n",
       "[5 rows x 136 columns]"
      ]
     },
     "execution_count": 140,
     "metadata": {},
     "output_type": "execute_result"
    }
   ],
   "source": [
    "trainset.head()"
   ]
  },
  {
   "cell_type": "code",
   "execution_count": 28,
   "id": "84bfdd78",
   "metadata": {},
   "outputs": [
    {
     "ename": "TypeError",
     "evalue": "chi2() missing 1 required positional argument: 'y'",
     "output_type": "error",
     "traceback": [
      "\u001b[1;31m---------------------------------------------------------------------------\u001b[0m",
      "\u001b[1;31mTypeError\u001b[0m                                 Traceback (most recent call last)",
      "\u001b[1;32mc:\\Users\\user\\Desktop\\qlever\\research\\TNVED_classification.ipynb Cell 24\u001b[0m line \u001b[0;36m3\n\u001b[0;32m      <a href='vscode-notebook-cell:/c%3A/Users/user/Desktop/qlever/research/TNVED_classification.ipynb#Y105sZmlsZQ%3D%3D?line=0'>1</a>\u001b[0m \u001b[39mfrom\u001b[39;00m \u001b[39msklearn\u001b[39;00m\u001b[39m.\u001b[39;00m\u001b[39mfeature_selection\u001b[39;00m \u001b[39mimport\u001b[39;00m chi2\n\u001b[1;32m----> <a href='vscode-notebook-cell:/c%3A/Users/user/Desktop/qlever/research/TNVED_classification.ipynb#Y105sZmlsZQ%3D%3D?line=2'>3</a>\u001b[0m features_chi2 \u001b[39m=\u001b[39m chi2(vectorizer\u001b[39m.\u001b[39mget_feature_names_out())\n\u001b[0;32m      <a href='vscode-notebook-cell:/c%3A/Users/user/Desktop/qlever/research/TNVED_classification.ipynb#Y105sZmlsZQ%3D%3D?line=3'>4</a>\u001b[0m indices \u001b[39m=\u001b[39m np\u001b[39m.\u001b[39margsort(features_chi2[\u001b[39m0\u001b[39m])\n\u001b[0;32m      <a href='vscode-notebook-cell:/c%3A/Users/user/Desktop/qlever/research/TNVED_classification.ipynb#Y105sZmlsZQ%3D%3D?line=4'>5</a>\u001b[0m feature_names \u001b[39m=\u001b[39m np\u001b[39m.\u001b[39marray(vectorizer\u001b[39m.\u001b[39mget_feature_names_out())[indices]\n",
      "\u001b[1;31mTypeError\u001b[0m: chi2() missing 1 required positional argument: 'y'"
     ]
    }
   ],
   "source": [
    "from sklearn.feature_selection import chi2\n",
    "\n",
    "features_chi2 = chi2(vectorizer.get_feature_names_out())\n",
    "indices = np.argsort(features_chi2[0])\n",
    "feature_names = np.array(vectorizer.get_feature_names_out())[indices]"
   ]
  },
  {
   "cell_type": "markdown",
   "id": "ae9baf2f",
   "metadata": {},
   "source": [
    "#### Сэмплируем классы, в которых всего 1 экземпляр и делим на обучающую и тестовую выборки"
   ]
  },
  {
   "cell_type": "code",
   "execution_count": 141,
   "id": "db43b13a",
   "metadata": {},
   "outputs": [
    {
     "data": {
      "text/plain": [
       "ID класса\n",
       "100110    408\n",
       "100120    338\n",
       "100204    249\n",
       "100201    221\n",
       "100100    151\n",
       "100200    111\n",
       "100111     72\n",
       "100101     44\n",
       "100105     28\n",
       "100103     18\n",
       "100102     10\n",
       "100301      6\n",
       "100104      3\n",
       "100203      2\n",
       "100113      1\n",
       "100202      1\n",
       "100112      1\n",
       "100121      1\n",
       "Name: count, dtype: int64"
      ]
     },
     "execution_count": 141,
     "metadata": {},
     "output_type": "execute_result"
    }
   ],
   "source": [
    "target.value_counts()"
   ]
  },
  {
   "cell_type": "code",
   "execution_count": 142,
   "id": "abc36992",
   "metadata": {},
   "outputs": [
    {
     "name": "stderr",
     "output_type": "stream",
     "text": [
      "g:\\Apps\\anaconda3\\envs\\qlever\\Lib\\site-packages\\sklearn\\utils\\validation.py:605: FutureWarning: is_sparse is deprecated and will be removed in a future version. Check `isinstance(dtype, pd.SparseDtype)` instead.\n",
      "  if is_sparse(pd_dtype):\n",
      "g:\\Apps\\anaconda3\\envs\\qlever\\Lib\\site-packages\\sklearn\\utils\\validation.py:614: FutureWarning: is_sparse is deprecated and will be removed in a future version. Check `isinstance(dtype, pd.SparseDtype)` instead.\n",
      "  if is_sparse(pd_dtype) or not is_extension_array_dtype(pd_dtype):\n",
      "g:\\Apps\\anaconda3\\envs\\qlever\\Lib\\site-packages\\sklearn\\utils\\validation.py:605: FutureWarning: is_sparse is deprecated and will be removed in a future version. Check `isinstance(dtype, pd.SparseDtype)` instead.\n",
      "  if is_sparse(pd_dtype):\n",
      "g:\\Apps\\anaconda3\\envs\\qlever\\Lib\\site-packages\\sklearn\\utils\\validation.py:614: FutureWarning: is_sparse is deprecated and will be removed in a future version. Check `isinstance(dtype, pd.SparseDtype)` instead.\n",
      "  if is_sparse(pd_dtype) or not is_extension_array_dtype(pd_dtype):\n",
      "g:\\Apps\\anaconda3\\envs\\qlever\\Lib\\site-packages\\sklearn\\utils\\validation.py:605: FutureWarning: is_sparse is deprecated and will be removed in a future version. Check `isinstance(dtype, pd.SparseDtype)` instead.\n",
      "  if is_sparse(pd_dtype):\n",
      "g:\\Apps\\anaconda3\\envs\\qlever\\Lib\\site-packages\\sklearn\\utils\\validation.py:614: FutureWarning: is_sparse is deprecated and will be removed in a future version. Check `isinstance(dtype, pd.SparseDtype)` instead.\n",
      "  if is_sparse(pd_dtype) or not is_extension_array_dtype(pd_dtype):\n",
      "g:\\Apps\\anaconda3\\envs\\qlever\\Lib\\site-packages\\sklearn\\utils\\validation.py:605: FutureWarning: is_sparse is deprecated and will be removed in a future version. Check `isinstance(dtype, pd.SparseDtype)` instead.\n",
      "  if is_sparse(pd_dtype):\n",
      "g:\\Apps\\anaconda3\\envs\\qlever\\Lib\\site-packages\\sklearn\\utils\\validation.py:614: FutureWarning: is_sparse is deprecated and will be removed in a future version. Check `isinstance(dtype, pd.SparseDtype)` instead.\n",
      "  if is_sparse(pd_dtype) or not is_extension_array_dtype(pd_dtype):\n",
      "g:\\Apps\\anaconda3\\envs\\qlever\\Lib\\site-packages\\sklearn\\utils\\validation.py:605: FutureWarning: is_sparse is deprecated and will be removed in a future version. Check `isinstance(dtype, pd.SparseDtype)` instead.\n",
      "  if is_sparse(pd_dtype):\n",
      "g:\\Apps\\anaconda3\\envs\\qlever\\Lib\\site-packages\\sklearn\\utils\\validation.py:614: FutureWarning: is_sparse is deprecated and will be removed in a future version. Check `isinstance(dtype, pd.SparseDtype)` instead.\n",
      "  if is_sparse(pd_dtype) or not is_extension_array_dtype(pd_dtype):\n"
     ]
    },
    {
     "data": {
      "text/plain": [
       "ID класса\n",
       "100100    408\n",
       "100110    408\n",
       "100113    408\n",
       "100204    408\n",
       "100301    408\n",
       "100120    408\n",
       "100112    408\n",
       "100111    408\n",
       "100104    408\n",
       "100202    408\n",
       "100102    408\n",
       "100103    408\n",
       "100101    408\n",
       "100201    408\n",
       "100203    408\n",
       "100105    408\n",
       "100200    408\n",
       "100121    408\n",
       "Name: count, dtype: int64"
      ]
     },
     "execution_count": 142,
     "metadata": {},
     "output_type": "execute_result"
    }
   ],
   "source": [
    "from imblearn.over_sampling import RandomOverSampler\n",
    "\n",
    "ros = RandomOverSampler()\n",
    "trainset_res, target_res = ros.fit_resample(trainset, target)\n",
    "target_res.value_counts()"
   ]
  },
  {
   "cell_type": "markdown",
   "id": "1004a332",
   "metadata": {},
   "source": [
    "#### Уменьшаем размерность"
   ]
  },
  {
   "cell_type": "code",
   "execution_count": 115,
   "id": "fe2c6906",
   "metadata": {},
   "outputs": [],
   "source": [
    "import matplotlib.pyplot as plt\n",
    "import seaborn as sns"
   ]
  },
  {
   "cell_type": "code",
   "execution_count": 169,
   "id": "9ce22c4d",
   "metadata": {},
   "outputs": [
    {
     "name": "stderr",
     "output_type": "stream",
     "text": [
      "g:\\Apps\\anaconda3\\envs\\qlever\\Lib\\site-packages\\sklearn\\utils\\validation.py:767: FutureWarning: is_sparse is deprecated and will be removed in a future version. Check `isinstance(dtype, pd.SparseDtype)` instead.\n",
      "  if not hasattr(array, \"sparse\") and array.dtypes.apply(is_sparse).any():\n",
      "g:\\Apps\\anaconda3\\envs\\qlever\\Lib\\site-packages\\sklearn\\utils\\validation.py:605: FutureWarning: is_sparse is deprecated and will be removed in a future version. Check `isinstance(dtype, pd.SparseDtype)` instead.\n",
      "  if is_sparse(pd_dtype):\n",
      "g:\\Apps\\anaconda3\\envs\\qlever\\Lib\\site-packages\\sklearn\\utils\\validation.py:614: FutureWarning: is_sparse is deprecated and will be removed in a future version. Check `isinstance(dtype, pd.SparseDtype)` instead.\n",
      "  if is_sparse(pd_dtype) or not is_extension_array_dtype(pd_dtype):\n"
     ]
    }
   ],
   "source": [
    "from sklearn.decomposition import PCA\n",
    "\n",
    "pca = PCA(n_components = 5)\n",
    "reproduced_trainset = pca.fit_transform(trainset_res)"
   ]
  },
  {
   "cell_type": "code",
   "execution_count": 170,
   "id": "f6f25998",
   "metadata": {},
   "outputs": [
    {
     "data": {
      "image/png": "[encoded data removed]",
      "text/plain": [
       "<Figure size 640x480 with 1 Axes>"
      ]
     },
     "metadata": {},
     "output_type": "display_data"
    }
   ],
   "source": [
    "plt.plot(pca.explained_variance_ratio_)\n",
    "plt.xlabel('number of components')\n",
    "plt.ylabel('cumulative explained variance')\n",
    "plt.show()"
   ]
  },
  {
   "cell_type": "code",
   "execution_count": 171,
   "id": "2f421d60",
   "metadata": {},
   "outputs": [
    {
     "data": {
      "text/plain": [
       "(7344, 5)"
      ]
     },
     "execution_count": 171,
     "metadata": {},
     "output_type": "execute_result"
    }
   ],
   "source": [
    "reproduced_trainset.shape"
   ]
  },
  {
   "cell_type": "code",
   "execution_count": 172,
   "id": "14dad948",
   "metadata": {},
   "outputs": [
    {
     "data": {
      "text/plain": [
       "(7344, 136)"
      ]
     },
     "execution_count": 172,
     "metadata": {},
     "output_type": "execute_result"
    }
   ],
   "source": [
    "trainset_res.shape"
   ]
  },
  {
   "cell_type": "code",
   "execution_count": 173,
   "id": "9a1d9ed2",
   "metadata": {},
   "outputs": [
    {
     "data": {
      "text/plain": [
       "(7344,)"
      ]
     },
     "execution_count": 173,
     "metadata": {},
     "output_type": "execute_result"
    }
   ],
   "source": [
    "target_res.shape"
   ]
  },
  {
   "cell_type": "code",
   "execution_count": 182,
   "id": "3fecd360",
   "metadata": {},
   "outputs": [],
   "source": [
    "from sklearn.model_selection import train_test_split\n",
    "\n",
    "train_data, test_data, train_labels, test_labels = train_test_split(\n",
    "    trainset_res,\n",
    "    #reproduced_trainset, \n",
    "    target_res, \n",
    "    test_size=0.3, \n",
    "    random_state=42,\n",
    "    #stratify=target    \n",
    ") "
   ]
  },
  {
   "cell_type": "code",
   "execution_count": 183,
   "id": "c4c8e1c1",
   "metadata": {},
   "outputs": [
    {
     "data": {
      "text/plain": [
       "(5140, 136)"
      ]
     },
     "execution_count": 183,
     "metadata": {},
     "output_type": "execute_result"
    }
   ],
   "source": [
    "train_data.shape"
   ]
  },
  {
   "cell_type": "markdown",
   "id": "5dd5b990",
   "metadata": {},
   "source": [
    "#### RandomForestClassifier"
   ]
  },
  {
   "cell_type": "code",
   "execution_count": 184,
   "id": "143d0a9d",
   "metadata": {},
   "outputs": [],
   "source": [
    "from sklearn.ensemble import RandomForestClassifier"
   ]
  },
  {
   "cell_type": "code",
   "execution_count": 185,
   "id": "7396a917",
   "metadata": {},
   "outputs": [
    {
     "name": "stderr",
     "output_type": "stream",
     "text": [
      "g:\\Apps\\anaconda3\\envs\\qlever\\Lib\\site-packages\\sklearn\\utils\\validation.py:767: FutureWarning: is_sparse is deprecated and will be removed in a future version. Check `isinstance(dtype, pd.SparseDtype)` instead.\n",
      "  if not hasattr(array, \"sparse\") and array.dtypes.apply(is_sparse).any():\n",
      "g:\\Apps\\anaconda3\\envs\\qlever\\Lib\\site-packages\\sklearn\\utils\\validation.py:605: FutureWarning: is_sparse is deprecated and will be removed in a future version. Check `isinstance(dtype, pd.SparseDtype)` instead.\n",
      "  if is_sparse(pd_dtype):\n",
      "g:\\Apps\\anaconda3\\envs\\qlever\\Lib\\site-packages\\sklearn\\utils\\validation.py:614: FutureWarning: is_sparse is deprecated and will be removed in a future version. Check `isinstance(dtype, pd.SparseDtype)` instead.\n",
      "  if is_sparse(pd_dtype) or not is_extension_array_dtype(pd_dtype):\n",
      "g:\\Apps\\anaconda3\\envs\\qlever\\Lib\\site-packages\\sklearn\\utils\\validation.py:605: FutureWarning: is_sparse is deprecated and will be removed in a future version. Check `isinstance(dtype, pd.SparseDtype)` instead.\n",
      "  if is_sparse(pd_dtype):\n",
      "g:\\Apps\\anaconda3\\envs\\qlever\\Lib\\site-packages\\sklearn\\utils\\validation.py:614: FutureWarning: is_sparse is deprecated and will be removed in a future version. Check `isinstance(dtype, pd.SparseDtype)` instead.\n",
      "  if is_sparse(pd_dtype) or not is_extension_array_dtype(pd_dtype):\n"
     ]
    },
    {
     "data": {
      "text/html": [
       "<style>#sk-container-id-9 {color: black;background-color: white;}#sk-container-id-9 pre{padding: 0;}#sk-container-id-9 div.sk-toggleable {background-color: white;}#sk-container-id-9 label.sk-toggleable__label {cursor: pointer;display: block;width: 100%;margin-bottom: 0;padding: 0.3em;box-sizing: border-box;text-align: center;}#sk-container-id-9 label.sk-toggleable__label-arrow:before {content: \"▸\";float: left;margin-right: 0.25em;color: #696969;}#sk-container-id-9 label.sk-toggleable__label-arrow:hover:before {color: black;}#sk-container-id-9 div.sk-estimator:hover label.sk-toggleable__label-arrow:before {color: black;}#sk-container-id-9 div.sk-toggleable__content {max-height: 0;max-width: 0;overflow: hidden;text-align: left;background-color: #f0f8ff;}#sk-container-id-9 div.sk-toggleable__content pre {margin: 0.2em;color: black;border-radius: 0.25em;background-color: #f0f8ff;}#sk-container-id-9 input.sk-toggleable__control:checked~div.sk-toggleable__content {max-height: 200px;max-width: 100%;overflow: auto;}#sk-container-id-9 input.sk-toggleable__control:checked~label.sk-toggleable__label-arrow:before {content: \"▾\";}#sk-container-id-9 div.sk-estimator input.sk-toggleable__control:checked~label.sk-toggleable__label {background-color: #d4ebff;}#sk-container-id-9 div.sk-label input.sk-toggleable__control:checked~label.sk-toggleable__label {background-color: #d4ebff;}#sk-container-id-9 input.sk-hidden--visually {border: 0;clip: rect(1px 1px 1px 1px);clip: rect(1px, 1px, 1px, 1px);height: 1px;margin: -1px;overflow: hidden;padding: 0;position: absolute;width: 1px;}#sk-container-id-9 div.sk-estimator {font-family: monospace;background-color: #f0f8ff;border: 1px dotted black;border-radius: 0.25em;box-sizing: border-box;margin-bottom: 0.5em;}#sk-container-id-9 div.sk-estimator:hover {background-color: #d4ebff;}#sk-container-id-9 div.sk-parallel-item::after {content: \"\";width: 100%;border-bottom: 1px solid gray;flex-grow: 1;}#sk-container-id-9 div.sk-label:hover label.sk-toggleable__label {background-color: #d4ebff;}#sk-container-id-9 div.sk-serial::before {content: \"\";position: absolute;border-left: 1px solid gray;box-sizing: border-box;top: 0;bottom: 0;left: 50%;z-index: 0;}#sk-container-id-9 div.sk-serial {display: flex;flex-direction: column;align-items: center;background-color: white;padding-right: 0.2em;padding-left: 0.2em;position: relative;}#sk-container-id-9 div.sk-item {position: relative;z-index: 1;}#sk-container-id-9 div.sk-parallel {display: flex;align-items: stretch;justify-content: center;background-color: white;position: relative;}#sk-container-id-9 div.sk-item::before, #sk-container-id-9 div.sk-parallel-item::before {content: \"\";position: absolute;border-left: 1px solid gray;box-sizing: border-box;top: 0;bottom: 0;left: 50%;z-index: -1;}#sk-container-id-9 div.sk-parallel-item {display: flex;flex-direction: column;z-index: 1;position: relative;background-color: white;}#sk-container-id-9 div.sk-parallel-item:first-child::after {align-self: flex-end;width: 50%;}#sk-container-id-9 div.sk-parallel-item:last-child::after {align-self: flex-start;width: 50%;}#sk-container-id-9 div.sk-parallel-item:only-child::after {width: 0;}#sk-container-id-9 div.sk-dashed-wrapped {border: 1px dashed gray;margin: 0 0.4em 0.5em 0.4em;box-sizing: border-box;padding-bottom: 0.4em;background-color: white;}#sk-container-id-9 div.sk-label label {font-family: monospace;font-weight: bold;display: inline-block;line-height: 1.2em;}#sk-container-id-9 div.sk-label-container {text-align: center;}#sk-container-id-9 div.sk-container {/* jupyter's `normalize.less` sets `[hidden] { display: none; }` but bootstrap.min.css set `[hidden] { display: none !important; }` so we also need the `!important` here to be able to override the default hidden behavior on the sphinx rendered scikit-learn.org. See: https://github.com/scikit-learn/scikit-learn/issues/21755 */display: inline-block !important;position: relative;}#sk-container-id-9 div.sk-text-repr-fallback {display: none;}</style><div id=\"sk-container-id-9\" class=\"sk-top-container\"><div class=\"sk-text-repr-fallback\"><pre>RandomForestClassifier(random_state=0)</pre><b>In a Jupyter environment, please rerun this cell to show the HTML representation or trust the notebook. <br />On GitHub, the HTML representation is unable to render, please try loading this page with nbviewer.org.</b></div><div class=\"sk-container\" hidden><div class=\"sk-item\"><div class=\"sk-estimator sk-toggleable\"><input class=\"sk-toggleable__control sk-hidden--visually\" id=\"sk-estimator-id-9\" type=\"checkbox\" checked><label for=\"sk-estimator-id-9\" class=\"sk-toggleable__label sk-toggleable__label-arrow\">RandomForestClassifier</label><div class=\"sk-toggleable__content\"><pre>RandomForestClassifier(random_state=0)</pre></div></div></div></div></div>"
      ],
      "text/plain": [
       "RandomForestClassifier(random_state=0)"
      ]
     },
     "execution_count": 185,
     "metadata": {},
     "output_type": "execute_result"
    }
   ],
   "source": [
    "rfc = RandomForestClassifier(random_state=0)\n",
    "rfc.fit(train_data, train_labels)"
   ]
  },
  {
   "cell_type": "code",
   "execution_count": 186,
   "id": "aebb7531",
   "metadata": {},
   "outputs": [
    {
     "name": "stderr",
     "output_type": "stream",
     "text": [
      "g:\\Apps\\anaconda3\\envs\\qlever\\Lib\\site-packages\\sklearn\\utils\\validation.py:767: FutureWarning: is_sparse is deprecated and will be removed in a future version. Check `isinstance(dtype, pd.SparseDtype)` instead.\n",
      "  if not hasattr(array, \"sparse\") and array.dtypes.apply(is_sparse).any():\n",
      "g:\\Apps\\anaconda3\\envs\\qlever\\Lib\\site-packages\\sklearn\\utils\\validation.py:605: FutureWarning: is_sparse is deprecated and will be removed in a future version. Check `isinstance(dtype, pd.SparseDtype)` instead.\n",
      "  if is_sparse(pd_dtype):\n",
      "g:\\Apps\\anaconda3\\envs\\qlever\\Lib\\site-packages\\sklearn\\utils\\validation.py:614: FutureWarning: is_sparse is deprecated and will be removed in a future version. Check `isinstance(dtype, pd.SparseDtype)` instead.\n",
      "  if is_sparse(pd_dtype) or not is_extension_array_dtype(pd_dtype):\n"
     ]
    }
   ],
   "source": [
    "predicted_labels = rfc.predict(test_data)"
   ]
  },
  {
   "cell_type": "code",
   "execution_count": 187,
   "id": "dee944e8",
   "metadata": {},
   "outputs": [
    {
     "name": "stdout",
     "output_type": "stream",
     "text": [
      "Accuracy: 0.9986388384754991\n",
      "Classification Report:\n",
      "               precision    recall  f1-score   support\n",
      "\n",
      "      100100       1.00      1.00      1.00       128\n",
      "      100101       1.00      1.00      1.00       115\n",
      "      100102       1.00      1.00      1.00       126\n",
      "      100103       1.00      1.00      1.00       119\n",
      "      100104       1.00      1.00      1.00       117\n",
      "      100105       1.00      1.00      1.00       118\n",
      "      100110       1.00      1.00      1.00       114\n",
      "      100111       1.00      1.00      1.00       114\n",
      "      100112       1.00      1.00      1.00       121\n",
      "      100113       1.00      1.00      1.00       129\n",
      "      100120       0.99      0.98      0.99       122\n",
      "      100121       1.00      1.00      1.00       119\n",
      "      100200       1.00      1.00      1.00       121\n",
      "      100201       1.00      1.00      1.00       131\n",
      "      100202       1.00      1.00      1.00       132\n",
      "      100203       1.00      1.00      1.00       119\n",
      "      100204       0.99      0.99      0.99       137\n",
      "      100301       1.00      1.00      1.00       122\n",
      "\n",
      "    accuracy                           1.00      2204\n",
      "   macro avg       1.00      1.00      1.00      2204\n",
      "weighted avg       1.00      1.00      1.00      2204\n",
      "\n"
     ]
    },
    {
     "name": "stderr",
     "output_type": "stream",
     "text": [
      "g:\\Apps\\anaconda3\\envs\\qlever\\Lib\\site-packages\\sklearn\\utils\\validation.py:605: FutureWarning: is_sparse is deprecated and will be removed in a future version. Check `isinstance(dtype, pd.SparseDtype)` instead.\n",
      "  if is_sparse(pd_dtype):\n",
      "g:\\Apps\\anaconda3\\envs\\qlever\\Lib\\site-packages\\sklearn\\utils\\validation.py:614: FutureWarning: is_sparse is deprecated and will be removed in a future version. Check `isinstance(dtype, pd.SparseDtype)` instead.\n",
      "  if is_sparse(pd_dtype) or not is_extension_array_dtype(pd_dtype):\n",
      "g:\\Apps\\anaconda3\\envs\\qlever\\Lib\\site-packages\\sklearn\\utils\\validation.py:605: FutureWarning: is_sparse is deprecated and will be removed in a future version. Check `isinstance(dtype, pd.SparseDtype)` instead.\n",
      "  if is_sparse(pd_dtype):\n",
      "g:\\Apps\\anaconda3\\envs\\qlever\\Lib\\site-packages\\sklearn\\utils\\validation.py:614: FutureWarning: is_sparse is deprecated and will be removed in a future version. Check `isinstance(dtype, pd.SparseDtype)` instead.\n",
      "  if is_sparse(pd_dtype) or not is_extension_array_dtype(pd_dtype):\n",
      "g:\\Apps\\anaconda3\\envs\\qlever\\Lib\\site-packages\\sklearn\\utils\\validation.py:605: FutureWarning: is_sparse is deprecated and will be removed in a future version. Check `isinstance(dtype, pd.SparseDtype)` instead.\n",
      "  if is_sparse(pd_dtype):\n",
      "g:\\Apps\\anaconda3\\envs\\qlever\\Lib\\site-packages\\sklearn\\utils\\validation.py:614: FutureWarning: is_sparse is deprecated and will be removed in a future version. Check `isinstance(dtype, pd.SparseDtype)` instead.\n",
      "  if is_sparse(pd_dtype) or not is_extension_array_dtype(pd_dtype):\n",
      "g:\\Apps\\anaconda3\\envs\\qlever\\Lib\\site-packages\\sklearn\\utils\\validation.py:605: FutureWarning: is_sparse is deprecated and will be removed in a future version. Check `isinstance(dtype, pd.SparseDtype)` instead.\n",
      "  if is_sparse(pd_dtype):\n",
      "g:\\Apps\\anaconda3\\envs\\qlever\\Lib\\site-packages\\sklearn\\utils\\validation.py:614: FutureWarning: is_sparse is deprecated and will be removed in a future version. Check `isinstance(dtype, pd.SparseDtype)` instead.\n",
      "  if is_sparse(pd_dtype) or not is_extension_array_dtype(pd_dtype):\n",
      "g:\\Apps\\anaconda3\\envs\\qlever\\Lib\\site-packages\\sklearn\\utils\\validation.py:605: FutureWarning: is_sparse is deprecated and will be removed in a future version. Check `isinstance(dtype, pd.SparseDtype)` instead.\n",
      "  if is_sparse(pd_dtype):\n",
      "g:\\Apps\\anaconda3\\envs\\qlever\\Lib\\site-packages\\sklearn\\utils\\validation.py:614: FutureWarning: is_sparse is deprecated and will be removed in a future version. Check `isinstance(dtype, pd.SparseDtype)` instead.\n",
      "  if is_sparse(pd_dtype) or not is_extension_array_dtype(pd_dtype):\n",
      "g:\\Apps\\anaconda3\\envs\\qlever\\Lib\\site-packages\\sklearn\\utils\\validation.py:605: FutureWarning: is_sparse is deprecated and will be removed in a future version. Check `isinstance(dtype, pd.SparseDtype)` instead.\n",
      "  if is_sparse(pd_dtype):\n",
      "g:\\Apps\\anaconda3\\envs\\qlever\\Lib\\site-packages\\sklearn\\utils\\validation.py:614: FutureWarning: is_sparse is deprecated and will be removed in a future version. Check `isinstance(dtype, pd.SparseDtype)` instead.\n",
      "  if is_sparse(pd_dtype) or not is_extension_array_dtype(pd_dtype):\n"
     ]
    }
   ],
   "source": [
    "from sklearn.metrics import accuracy_score, classification_report\n",
    "\n",
    "accuracy = accuracy_score(test_labels, predicted_labels)\n",
    "report = classification_report(test_labels, predicted_labels)\n",
    "\n",
    "print(f\"Accuracy: {accuracy}\")\n",
    "print(\"Classification Report:\\n\", report)"
   ]
  },
  {
   "cell_type": "code",
   "execution_count": 188,
   "id": "05336ad1",
   "metadata": {},
   "outputs": [
    {
     "data": {
      "text/html": [
       "<div>\n",
       "<style scoped>\n",
       "    .dataframe tbody tr th:only-of-type {\n",
       "        vertical-align: middle;\n",
       "    }\n",
       "\n",
       "    .dataframe tbody tr th {\n",
       "        vertical-align: top;\n",
       "    }\n",
       "\n",
       "    .dataframe thead th {\n",
       "        text-align: right;\n",
       "    }\n",
       "</style>\n",
       "<table border=\"1\" class=\"dataframe\">\n",
       "  <thead>\n",
       "    <tr style=\"text-align: right;\">\n",
       "      <th></th>\n",
       "      <th>importance</th>\n",
       "    </tr>\n",
       "  </thead>\n",
       "  <tbody>\n",
       "    <tr>\n",
       "      <th>профильн_Историческое наименование</th>\n",
       "      <td>0.043749</td>\n",
       "    </tr>\n",
       "    <tr>\n",
       "      <th>0_Значение ХК_Кат_06</th>\n",
       "      <td>0.041681</td>\n",
       "    </tr>\n",
       "    <tr>\n",
       "      <th>EmptyCat_Значение ХК_Кат_02</th>\n",
       "      <td>0.034463</td>\n",
       "    </tr>\n",
       "    <tr>\n",
       "      <th>Технология изготовления_ХК_Кат_02</th>\n",
       "      <td>0.032796</td>\n",
       "    </tr>\n",
       "    <tr>\n",
       "      <th>электросварн_Историческое наименование</th>\n",
       "      <td>0.031900</td>\n",
       "    </tr>\n",
       "    <tr>\n",
       "      <th>электросварная_Значение ХК_Кат_02</th>\n",
       "      <td>0.030975</td>\n",
       "    </tr>\n",
       "    <tr>\n",
       "      <th>EmptyCat_ХК_Кат_02</th>\n",
       "      <td>0.028465</td>\n",
       "    </tr>\n",
       "    <tr>\n",
       "      <th>EmptyCat_Значение ХК_Кат_01</th>\n",
       "      <td>0.028206</td>\n",
       "    </tr>\n",
       "    <tr>\n",
       "      <th>труб_Историческое наименование</th>\n",
       "      <td>0.027966</td>\n",
       "    </tr>\n",
       "    <tr>\n",
       "      <th>профильная_Значение ХК_Кат_01</th>\n",
       "      <td>0.025954</td>\n",
       "    </tr>\n",
       "    <tr>\n",
       "      <th>гост_Значение ХК_Стр_05</th>\n",
       "      <td>0.024898</td>\n",
       "    </tr>\n",
       "    <tr>\n",
       "      <th>г/к_Значение ХК_Кат_02</th>\n",
       "      <td>0.024755</td>\n",
       "    </tr>\n",
       "    <tr>\n",
       "      <th>гост_Историческое наименование</th>\n",
       "      <td>0.022463</td>\n",
       "    </tr>\n",
       "    <tr>\n",
       "      <th>EmptyCat_ХК_Кат_01</th>\n",
       "      <td>0.022137</td>\n",
       "    </tr>\n",
       "    <tr>\n",
       "      <th>Тип трубы_ХК_Кат_01</th>\n",
       "      <td>0.021208</td>\n",
       "    </tr>\n",
       "    <tr>\n",
       "      <th>EmptyCat_ХК_Стр_05</th>\n",
       "      <td>0.019802</td>\n",
       "    </tr>\n",
       "    <tr>\n",
       "      <th>5м_Значение ХК_Стр_03</th>\n",
       "      <td>0.019692</td>\n",
       "    </tr>\n",
       "    <tr>\n",
       "      <th>НТД_ХК_Стр_05</th>\n",
       "      <td>0.018749</td>\n",
       "    </tr>\n",
       "    <tr>\n",
       "      <th>бесшовная_Значение ХК_Кат_04</th>\n",
       "      <td>0.017923</td>\n",
       "    </tr>\n",
       "    <tr>\n",
       "      <th>оцинкованная_Значение ХК_Кат_05</th>\n",
       "      <td>0.017428</td>\n",
       "    </tr>\n",
       "  </tbody>\n",
       "</table>\n",
       "</div>"
      ],
      "text/plain": [
       "                                        importance\n",
       "профильн_Историческое наименование        0.043749\n",
       "0_Значение ХК_Кат_06                      0.041681\n",
       "EmptyCat_Значение ХК_Кат_02               0.034463\n",
       "Технология изготовления_ХК_Кат_02         0.032796\n",
       "электросварн_Историческое наименование    0.031900\n",
       "электросварная_Значение ХК_Кат_02         0.030975\n",
       "EmptyCat_ХК_Кат_02                        0.028465\n",
       "EmptyCat_Значение ХК_Кат_01               0.028206\n",
       "труб_Историческое наименование            0.027966\n",
       "профильная_Значение ХК_Кат_01             0.025954\n",
       "гост_Значение ХК_Стр_05                   0.024898\n",
       "г/к_Значение ХК_Кат_02                    0.024755\n",
       "гост_Историческое наименование            0.022463\n",
       "EmptyCat_ХК_Кат_01                        0.022137\n",
       "Тип трубы_ХК_Кат_01                       0.021208\n",
       "EmptyCat_ХК_Стр_05                        0.019802\n",
       "5м_Значение ХК_Стр_03                     0.019692\n",
       "НТД_ХК_Стр_05                             0.018749\n",
       "бесшовная_Значение ХК_Кат_04              0.017923\n",
       "оцинкованная_Значение ХК_Кат_05           0.017428"
      ]
     },
     "execution_count": 188,
     "metadata": {},
     "output_type": "execute_result"
    }
   ],
   "source": [
    "feature_importances = pd.DataFrame(rfc.feature_importances_, columns=['importance'])\n",
    "feature_importances.index = train_data.columns\n",
    "feature_importances.sort_values(by=['importance'], ascending=False)[:20]"
   ]
  },
  {
   "cell_type": "code",
   "execution_count": 89,
   "id": "5c0c59c7",
   "metadata": {},
   "outputs": [
    {
     "data": {
      "text/plain": [
       "ID класса (ТАРГЕТ)\n",
       "20000414    15\n",
       "20000205    15\n",
       "20000258    17\n",
       "20000430    17\n",
       "20000040    18\n",
       "            ..\n",
       "20000419    40\n",
       "20000019    40\n",
       "20000559    41\n",
       "9240416     41\n",
       "20000170    44\n",
       "Name: count, Length: 645, dtype: int64"
      ]
     },
     "execution_count": 89,
     "metadata": {},
     "output_type": "execute_result"
    }
   ],
   "source": [
    "test_labels.value_counts().sort_values()"
   ]
  },
  {
   "cell_type": "code",
   "execution_count": 93,
   "id": "8af37eb7",
   "metadata": {},
   "outputs": [],
   "source": [
    "predictions_df = test_data.copy()\n",
    "predictions_df['predicted_class'] = predicted_labels\n",
    "predictions_df['correct_class'] = test_labels\n",
    "predictions_df = predictions_df.sort_values(by = ['predicted_class','correct_class'])\n",
    "#predictions_df.to_csv('tire_predictions_df.csv', sep = ';', encoding='cp1251')"
   ]
  },
  {
   "cell_type": "code",
   "execution_count": 124,
   "id": "4d61fcd1",
   "metadata": {},
   "outputs": [
    {
     "data": {
      "text/html": [
       "<div>\n",
       "<style scoped>\n",
       "    .dataframe tbody tr th:only-of-type {\n",
       "        vertical-align: middle;\n",
       "    }\n",
       "\n",
       "    .dataframe tbody tr th {\n",
       "        vertical-align: top;\n",
       "    }\n",
       "\n",
       "    .dataframe thead th {\n",
       "        text-align: right;\n",
       "    }\n",
       "</style>\n",
       "<table border=\"1\" class=\"dataframe\">\n",
       "  <thead>\n",
       "    <tr style=\"text-align: right;\">\n",
       "      <th></th>\n",
       "      <th>100t_Историческое наименование</th>\n",
       "      <th>175_Историческое наименование</th>\n",
       "      <th>185_Историческое наименование</th>\n",
       "      <th>195_Историческое наименование</th>\n",
       "      <th>205_Историческое наименование</th>\n",
       "      <th>215_Историческое наименование</th>\n",
       "      <th>225_Историческое наименование</th>\n",
       "      <th>235_Историческое наименование</th>\n",
       "      <th>245_Историческое наименование</th>\n",
       "      <th>255_Историческое наименование</th>\n",
       "      <th>...</th>\n",
       "      <th>wintercraft_Значение ХК_Стр_01</th>\n",
       "      <th>wr_Значение ХК_Стр_01</th>\n",
       "      <th>xl_Значение ХК_Стр_01</th>\n",
       "      <th>zen_Значение ХК_Стр_01</th>\n",
       "      <th>zero_Значение ХК_Стр_01</th>\n",
       "      <th>EmptyCat_ХК_Булево_01</th>\n",
       "      <th>Шипы_ХК_Булево_01</th>\n",
       "      <th>Значение ХК_Булево_01_Значение ХК_Булево_01</th>\n",
       "      <th>predicted_class</th>\n",
       "      <th>correct_class</th>\n",
       "    </tr>\n",
       "  </thead>\n",
       "  <tbody>\n",
       "    <tr>\n",
       "      <th>9195</th>\n",
       "      <td>0.0</td>\n",
       "      <td>0.0</td>\n",
       "      <td>0.0</td>\n",
       "      <td>0.0</td>\n",
       "      <td>0.0</td>\n",
       "      <td>0.0</td>\n",
       "      <td>0.408651</td>\n",
       "      <td>0.0</td>\n",
       "      <td>0.0</td>\n",
       "      <td>0.0</td>\n",
       "      <td>...</td>\n",
       "      <td>0.0</td>\n",
       "      <td>0.0</td>\n",
       "      <td>0.0</td>\n",
       "      <td>0.0</td>\n",
       "      <td>0.0</td>\n",
       "      <td>False</td>\n",
       "      <td>True</td>\n",
       "      <td>True</td>\n",
       "      <td>3284155</td>\n",
       "      <td>3284155</td>\n",
       "    </tr>\n",
       "    <tr>\n",
       "      <th>8361</th>\n",
       "      <td>0.0</td>\n",
       "      <td>0.0</td>\n",
       "      <td>0.0</td>\n",
       "      <td>0.0</td>\n",
       "      <td>0.0</td>\n",
       "      <td>0.0</td>\n",
       "      <td>0.353611</td>\n",
       "      <td>0.0</td>\n",
       "      <td>0.0</td>\n",
       "      <td>0.0</td>\n",
       "      <td>...</td>\n",
       "      <td>0.0</td>\n",
       "      <td>0.0</td>\n",
       "      <td>0.0</td>\n",
       "      <td>0.0</td>\n",
       "      <td>0.0</td>\n",
       "      <td>False</td>\n",
       "      <td>True</td>\n",
       "      <td>True</td>\n",
       "      <td>3284155</td>\n",
       "      <td>3284155</td>\n",
       "    </tr>\n",
       "    <tr>\n",
       "      <th>9206</th>\n",
       "      <td>0.0</td>\n",
       "      <td>0.0</td>\n",
       "      <td>0.0</td>\n",
       "      <td>0.0</td>\n",
       "      <td>0.0</td>\n",
       "      <td>0.0</td>\n",
       "      <td>0.359104</td>\n",
       "      <td>0.0</td>\n",
       "      <td>0.0</td>\n",
       "      <td>0.0</td>\n",
       "      <td>...</td>\n",
       "      <td>0.0</td>\n",
       "      <td>0.0</td>\n",
       "      <td>0.0</td>\n",
       "      <td>0.0</td>\n",
       "      <td>0.0</td>\n",
       "      <td>False</td>\n",
       "      <td>True</td>\n",
       "      <td>True</td>\n",
       "      <td>3284155</td>\n",
       "      <td>3284155</td>\n",
       "    </tr>\n",
       "    <tr>\n",
       "      <th>7677</th>\n",
       "      <td>0.0</td>\n",
       "      <td>0.0</td>\n",
       "      <td>0.0</td>\n",
       "      <td>0.0</td>\n",
       "      <td>0.0</td>\n",
       "      <td>0.0</td>\n",
       "      <td>0.350837</td>\n",
       "      <td>0.0</td>\n",
       "      <td>0.0</td>\n",
       "      <td>0.0</td>\n",
       "      <td>...</td>\n",
       "      <td>0.0</td>\n",
       "      <td>0.0</td>\n",
       "      <td>0.0</td>\n",
       "      <td>0.0</td>\n",
       "      <td>0.0</td>\n",
       "      <td>False</td>\n",
       "      <td>True</td>\n",
       "      <td>True</td>\n",
       "      <td>3284155</td>\n",
       "      <td>3284155</td>\n",
       "    </tr>\n",
       "    <tr>\n",
       "      <th>9169</th>\n",
       "      <td>0.0</td>\n",
       "      <td>0.0</td>\n",
       "      <td>0.0</td>\n",
       "      <td>0.0</td>\n",
       "      <td>0.0</td>\n",
       "      <td>0.0</td>\n",
       "      <td>0.398426</td>\n",
       "      <td>0.0</td>\n",
       "      <td>0.0</td>\n",
       "      <td>0.0</td>\n",
       "      <td>...</td>\n",
       "      <td>0.0</td>\n",
       "      <td>0.0</td>\n",
       "      <td>0.0</td>\n",
       "      <td>0.0</td>\n",
       "      <td>0.0</td>\n",
       "      <td>False</td>\n",
       "      <td>True</td>\n",
       "      <td>True</td>\n",
       "      <td>3284155</td>\n",
       "      <td>3284155</td>\n",
       "    </tr>\n",
       "  </tbody>\n",
       "</table>\n",
       "<p>5 rows × 253 columns</p>\n",
       "</div>"
      ],
      "text/plain": [
       "      100t_Историческое наименование  175_Историческое наименование  \\\n",
       "9195                             0.0                            0.0   \n",
       "8361                             0.0                            0.0   \n",
       "9206                             0.0                            0.0   \n",
       "7677                             0.0                            0.0   \n",
       "9169                             0.0                            0.0   \n",
       "\n",
       "      185_Историческое наименование  195_Историческое наименование  \\\n",
       "9195                            0.0                            0.0   \n",
       "8361                            0.0                            0.0   \n",
       "9206                            0.0                            0.0   \n",
       "7677                            0.0                            0.0   \n",
       "9169                            0.0                            0.0   \n",
       "\n",
       "      205_Историческое наименование  215_Историческое наименование  \\\n",
       "9195                            0.0                            0.0   \n",
       "8361                            0.0                            0.0   \n",
       "9206                            0.0                            0.0   \n",
       "7677                            0.0                            0.0   \n",
       "9169                            0.0                            0.0   \n",
       "\n",
       "      225_Историческое наименование  235_Историческое наименование  \\\n",
       "9195                       0.408651                            0.0   \n",
       "8361                       0.353611                            0.0   \n",
       "9206                       0.359104                            0.0   \n",
       "7677                       0.350837                            0.0   \n",
       "9169                       0.398426                            0.0   \n",
       "\n",
       "      245_Историческое наименование  255_Историческое наименование  ...  \\\n",
       "9195                            0.0                            0.0  ...   \n",
       "8361                            0.0                            0.0  ...   \n",
       "9206                            0.0                            0.0  ...   \n",
       "7677                            0.0                            0.0  ...   \n",
       "9169                            0.0                            0.0  ...   \n",
       "\n",
       "      wintercraft_Значение ХК_Стр_01  wr_Значение ХК_Стр_01  \\\n",
       "9195                             0.0                    0.0   \n",
       "8361                             0.0                    0.0   \n",
       "9206                             0.0                    0.0   \n",
       "7677                             0.0                    0.0   \n",
       "9169                             0.0                    0.0   \n",
       "\n",
       "      xl_Значение ХК_Стр_01  zen_Значение ХК_Стр_01  zero_Значение ХК_Стр_01  \\\n",
       "9195                    0.0                     0.0                      0.0   \n",
       "8361                    0.0                     0.0                      0.0   \n",
       "9206                    0.0                     0.0                      0.0   \n",
       "7677                    0.0                     0.0                      0.0   \n",
       "9169                    0.0                     0.0                      0.0   \n",
       "\n",
       "      EmptyCat_ХК_Булево_01  Шипы_ХК_Булево_01  \\\n",
       "9195                  False               True   \n",
       "8361                  False               True   \n",
       "9206                  False               True   \n",
       "7677                  False               True   \n",
       "9169                  False               True   \n",
       "\n",
       "      Значение ХК_Булево_01_Значение ХК_Булево_01  predicted_class  \\\n",
       "9195                                         True          3284155   \n",
       "8361                                         True          3284155   \n",
       "9206                                         True          3284155   \n",
       "7677                                         True          3284155   \n",
       "9169                                         True          3284155   \n",
       "\n",
       "      correct_class  \n",
       "9195        3284155  \n",
       "8361        3284155  \n",
       "9206        3284155  \n",
       "7677        3284155  \n",
       "9169        3284155  \n",
       "\n",
       "[5 rows x 253 columns]"
      ]
     },
     "execution_count": 124,
     "metadata": {},
     "output_type": "execute_result"
    }
   ],
   "source": [
    "predictions_df.head()"
   ]
  },
  {
   "cell_type": "markdown",
   "id": "93d7be5b",
   "metadata": {},
   "source": [
    "#### Обучим модель CatBoostClassifier на подготовленных данных"
   ]
  },
  {
   "cell_type": "code",
   "execution_count": 113,
   "id": "a1443d67",
   "metadata": {},
   "outputs": [],
   "source": [
    "from catboost import CatBoostClassifier"
   ]
  },
  {
   "cell_type": "code",
   "execution_count": 145,
   "id": "c000462e",
   "metadata": {},
   "outputs": [
    {
     "name": "stdout",
     "output_type": "stream",
     "text": [
      "0:\tlearn: 5.8021328\ttest: 5.8028781\tbest: 5.8028781 (0)\ttotal: 4.36s\tremaining: 1h 12m 36s\n",
      "1:\tlearn: 5.7600391\ttest: 5.7615252\tbest: 5.7615252 (1)\ttotal: 8.73s\tremaining: 1h 12m 36s\n",
      "2:\tlearn: 5.7070225\ttest: 5.7088004\tbest: 5.7088004 (2)\ttotal: 13.3s\tremaining: 1h 13m 40s\n",
      "3:\tlearn: 5.6601069\ttest: 5.6619228\tbest: 5.6619228 (3)\ttotal: 17.8s\tremaining: 1h 13m 55s\n",
      "4:\tlearn: 5.6294886\ttest: 5.6320792\tbest: 5.6320792 (4)\ttotal: 22.2s\tremaining: 1h 13m 40s\n",
      "5:\tlearn: 5.5898019\ttest: 5.5922128\tbest: 5.5922128 (5)\ttotal: 26.7s\tremaining: 1h 13m 44s\n",
      "6:\tlearn: 5.5461853\ttest: 5.5487469\tbest: 5.5487469 (6)\ttotal: 31.3s\tremaining: 1h 13m 58s\n",
      "7:\tlearn: 5.5087435\ttest: 5.5118871\tbest: 5.5118871 (7)\ttotal: 35.8s\tremaining: 1h 14m 4s\n",
      "8:\tlearn: 5.4728678\ttest: 5.4764603\tbest: 5.4764603 (8)\ttotal: 40.5s\tremaining: 1h 14m 24s\n",
      "9:\tlearn: 5.4400767\ttest: 5.4432583\tbest: 5.4432583 (9)\ttotal: 45.3s\tremaining: 1h 14m 42s\n",
      "10:\tlearn: 5.3952072\ttest: 5.3984957\tbest: 5.3984957 (10)\ttotal: 50s\tremaining: 1h 14m 52s\n",
      "11:\tlearn: 5.3746788\ttest: 5.3780192\tbest: 5.3780192 (11)\ttotal: 54.8s\tremaining: 1h 15m 10s\n",
      "12:\tlearn: 5.3439429\ttest: 5.3478626\tbest: 5.3478626 (12)\ttotal: 59s\tremaining: 1h 14m 36s\n",
      "13:\tlearn: 5.3019149\ttest: 5.3059202\tbest: 5.3059202 (13)\ttotal: 1m 4s\tremaining: 1h 15m 38s\n"
     ]
    },
    {
     "ename": "KeyboardInterrupt",
     "evalue": "",
     "output_type": "error",
     "traceback": [
      "\u001b[1;31m---------------------------------------------------------------------------\u001b[0m",
      "\u001b[1;31mKeyboardInterrupt\u001b[0m                         Traceback (most recent call last)",
      "\u001b[1;32mc:\\Users\\User\\Desktop\\qlever\\qlever_ml_classification\\TNVED_classification.ipynb Cell 37\u001b[0m line \u001b[0;36m1\n\u001b[0;32m      <a href='vscode-notebook-cell:/c%3A/Users/User/Desktop/qlever/qlever_ml_classification/TNVED_classification.ipynb#X46sZmlsZQ%3D%3D?line=4'>5</a>\u001b[0m grid_small \u001b[39m=\u001b[39m {\u001b[39m'\u001b[39m\u001b[39mlearning_rate\u001b[39m\u001b[39m'\u001b[39m: [\u001b[39m0.01\u001b[39m],\u001b[39m# 0.03, 0.09],\u001b[39;00m\n\u001b[0;32m      <a href='vscode-notebook-cell:/c%3A/Users/User/Desktop/qlever/qlever_ml_classification/TNVED_classification.ipynb#X46sZmlsZQ%3D%3D?line=5'>6</a>\u001b[0m         \u001b[39m'\u001b[39m\u001b[39mdepth\u001b[39m\u001b[39m'\u001b[39m: [ \u001b[39m3\u001b[39m]\n\u001b[0;32m      <a href='vscode-notebook-cell:/c%3A/Users/User/Desktop/qlever/qlever_ml_classification/TNVED_classification.ipynb#X46sZmlsZQ%3D%3D?line=6'>7</a>\u001b[0m         \u001b[39m#'l2_leaf_reg': [1, 3, 5, 7, 9]\u001b[39;00m\n\u001b[0;32m      <a href='vscode-notebook-cell:/c%3A/Users/User/Desktop/qlever/qlever_ml_classification/TNVED_classification.ipynb#X46sZmlsZQ%3D%3D?line=7'>8</a>\u001b[0m         }\n\u001b[0;32m     <a href='vscode-notebook-cell:/c%3A/Users/User/Desktop/qlever/qlever_ml_classification/TNVED_classification.ipynb#X46sZmlsZQ%3D%3D?line=10'>11</a>\u001b[0m grid_full \u001b[39m=\u001b[39m {\u001b[39m'\u001b[39m\u001b[39mlearning_rate\u001b[39m\u001b[39m'\u001b[39m: [\u001b[39m0.01\u001b[39m, \u001b[39m0.03\u001b[39m, \u001b[39m0.05\u001b[39m, \u001b[39m0.07\u001b[39m, \u001b[39m0.09\u001b[39m],\n\u001b[0;32m     <a href='vscode-notebook-cell:/c%3A/Users/User/Desktop/qlever/qlever_ml_classification/TNVED_classification.ipynb#X46sZmlsZQ%3D%3D?line=11'>12</a>\u001b[0m         \u001b[39m'\u001b[39m\u001b[39mdepth\u001b[39m\u001b[39m'\u001b[39m: [\u001b[39m3\u001b[39m, \u001b[39m4\u001b[39m, \u001b[39m6\u001b[39m, \u001b[39m7\u001b[39m, \u001b[39m8\u001b[39m, \u001b[39m9\u001b[39m, \u001b[39m10\u001b[39m],\n\u001b[0;32m     <a href='vscode-notebook-cell:/c%3A/Users/User/Desktop/qlever/qlever_ml_classification/TNVED_classification.ipynb#X46sZmlsZQ%3D%3D?line=12'>13</a>\u001b[0m         \u001b[39m#'early_stopping_rounds': True,\u001b[39;00m\n\u001b[0;32m     <a href='vscode-notebook-cell:/c%3A/Users/User/Desktop/qlever/qlever_ml_classification/TNVED_classification.ipynb#X46sZmlsZQ%3D%3D?line=13'>14</a>\u001b[0m         \u001b[39m'\u001b[39m\u001b[39ml2_leaf_reg\u001b[39m\u001b[39m'\u001b[39m: [\u001b[39m1\u001b[39m, \u001b[39m3\u001b[39m, \u001b[39m5\u001b[39m, \u001b[39m7\u001b[39m, \u001b[39m9\u001b[39m]\n\u001b[0;32m     <a href='vscode-notebook-cell:/c%3A/Users/User/Desktop/qlever/qlever_ml_classification/TNVED_classification.ipynb#X46sZmlsZQ%3D%3D?line=14'>15</a>\u001b[0m         }\n\u001b[1;32m---> <a href='vscode-notebook-cell:/c%3A/Users/User/Desktop/qlever/qlever_ml_classification/TNVED_classification.ipynb#X46sZmlsZQ%3D%3D?line=16'>17</a>\u001b[0m grid_search_result \u001b[39m=\u001b[39m model\u001b[39m.\u001b[39;49mgrid_search(\n\u001b[0;32m     <a href='vscode-notebook-cell:/c%3A/Users/User/Desktop/qlever/qlever_ml_classification/TNVED_classification.ipynb#X46sZmlsZQ%3D%3D?line=17'>18</a>\u001b[0m         grid_small,\n\u001b[0;32m     <a href='vscode-notebook-cell:/c%3A/Users/User/Desktop/qlever/qlever_ml_classification/TNVED_classification.ipynb#X46sZmlsZQ%3D%3D?line=18'>19</a>\u001b[0m         X\u001b[39m=\u001b[39;49mtrain_data,\n\u001b[0;32m     <a href='vscode-notebook-cell:/c%3A/Users/User/Desktop/qlever/qlever_ml_classification/TNVED_classification.ipynb#X46sZmlsZQ%3D%3D?line=19'>20</a>\u001b[0m         y\u001b[39m=\u001b[39;49mtrain_labels,\n\u001b[0;32m     <a href='vscode-notebook-cell:/c%3A/Users/User/Desktop/qlever/qlever_ml_classification/TNVED_classification.ipynb#X46sZmlsZQ%3D%3D?line=20'>21</a>\u001b[0m )\n",
      "File \u001b[1;32mg:\\Apps\\anaconda3\\envs\\qlever\\Lib\\site-packages\\catboost\\core.py:4124\u001b[0m, in \u001b[0;36mCatBoost.grid_search\u001b[1;34m(self, param_grid, X, y, cv, partition_random_seed, calc_cv_statistics, search_by_train_test_split, refit, shuffle, stratified, train_size, verbose, plot, plot_file, log_cout, log_cerr)\u001b[0m\n\u001b[0;32m   4121\u001b[0m         \u001b[39mif\u001b[39;00m \u001b[39mnot\u001b[39;00m \u001b[39misinstance\u001b[39m(grid[key], Iterable):\n\u001b[0;32m   4122\u001b[0m             \u001b[39mraise\u001b[39;00m \u001b[39mTypeError\u001b[39;00m(\u001b[39m'\u001b[39m\u001b[39mParameter grid value is not iterable (key=\u001b[39m\u001b[39m{!r}\u001b[39;00m\u001b[39m, value=\u001b[39m\u001b[39m{!r}\u001b[39;00m\u001b[39m)\u001b[39m\u001b[39m'\u001b[39m\u001b[39m.\u001b[39mformat(key, grid[key]))\n\u001b[1;32m-> 4124\u001b[0m \u001b[39mreturn\u001b[39;00m \u001b[39mself\u001b[39;49m\u001b[39m.\u001b[39;49m_tune_hyperparams(\n\u001b[0;32m   4125\u001b[0m     param_grid\u001b[39m=\u001b[39;49mparam_grid, X\u001b[39m=\u001b[39;49mX, y\u001b[39m=\u001b[39;49my, cv\u001b[39m=\u001b[39;49mcv, n_iter\u001b[39m=\u001b[39;49m\u001b[39m-\u001b[39;49m\u001b[39m1\u001b[39;49m,\n\u001b[0;32m   4126\u001b[0m     partition_random_seed\u001b[39m=\u001b[39;49mpartition_random_seed, calc_cv_statistics\u001b[39m=\u001b[39;49mcalc_cv_statistics,\n\u001b[0;32m   4127\u001b[0m     search_by_train_test_split\u001b[39m=\u001b[39;49msearch_by_train_test_split, refit\u001b[39m=\u001b[39;49mrefit, shuffle\u001b[39m=\u001b[39;49mshuffle,\n\u001b[0;32m   4128\u001b[0m     stratified\u001b[39m=\u001b[39;49mstratified, train_size\u001b[39m=\u001b[39;49mtrain_size, verbose\u001b[39m=\u001b[39;49mverbose, plot\u001b[39m=\u001b[39;49mplot, plot_file\u001b[39m=\u001b[39;49mplot_file,\n\u001b[0;32m   4129\u001b[0m     log_cout\u001b[39m=\u001b[39;49mlog_cout, log_cerr\u001b[39m=\u001b[39;49mlog_cerr,\n\u001b[0;32m   4130\u001b[0m )\n",
      "File \u001b[1;32mg:\\Apps\\anaconda3\\envs\\qlever\\Lib\\site-packages\\catboost\\core.py:4018\u001b[0m, in \u001b[0;36mCatBoost._tune_hyperparams\u001b[1;34m(self, param_grid, X, y, cv, n_iter, partition_random_seed, calc_cv_statistics, search_by_train_test_split, refit, shuffle, stratified, train_size, verbose, plot, plot_file, log_cout, log_cerr)\u001b[0m\n\u001b[0;32m   4015\u001b[0m     stratified \u001b[39m=\u001b[39m \u001b[39misinstance\u001b[39m(loss_function, STRING_TYPES) \u001b[39mand\u001b[39;00m is_cv_stratified_objective(loss_function)\n\u001b[0;32m   4017\u001b[0m \u001b[39mwith\u001b[39;00m log_fixup(log_cout, log_cerr), plot_wrapper(plot, plot_file, \u001b[39m'\u001b[39m\u001b[39mHyperparameters search plot\u001b[39m\u001b[39m'\u001b[39m, [_get_train_dir(params)]):\n\u001b[1;32m-> 4018\u001b[0m     cv_result \u001b[39m=\u001b[39m \u001b[39mself\u001b[39;49m\u001b[39m.\u001b[39;49m_object\u001b[39m.\u001b[39;49m_tune_hyperparams(\n\u001b[0;32m   4019\u001b[0m         param_grid, train_params[\u001b[39m\"\u001b[39;49m\u001b[39mtrain_pool\u001b[39;49m\u001b[39m\"\u001b[39;49m], params, n_iter,\n\u001b[0;32m   4020\u001b[0m         fold_count, partition_random_seed, shuffle, stratified, train_size,\n\u001b[0;32m   4021\u001b[0m         search_by_train_test_split, calc_cv_statistics, custom_folds, verbose\n\u001b[0;32m   4022\u001b[0m     )\n\u001b[0;32m   4024\u001b[0m \u001b[39mif\u001b[39;00m refit:\n\u001b[0;32m   4025\u001b[0m     \u001b[39massert\u001b[39;00m \u001b[39mnot\u001b[39;00m \u001b[39mself\u001b[39m\u001b[39m.\u001b[39mis_fitted()\n",
      "File \u001b[1;32m_catboost.pyx:5128\u001b[0m, in \u001b[0;36m_catboost._CatBoost._tune_hyperparams\u001b[1;34m()\u001b[0m\n",
      "File \u001b[1;32m_catboost.pyx:5166\u001b[0m, in \u001b[0;36m_catboost._CatBoost._tune_hyperparams\u001b[1;34m()\u001b[0m\n",
      "\u001b[1;31mKeyboardInterrupt\u001b[0m: "
     ]
    }
   ],
   "source": [
    "model = CatBoostClassifier(loss_function='MultiClass', logging_level='Verbose')\n",
    "\n",
    "#Нужно контролить переобоучение, правильно выставить learning_rate\n",
    "\n",
    "grid_small = {'learning_rate': [0.01],# 0.03, 0.09],\n",
    "        'depth': [ 3]\n",
    "        #'l2_leaf_reg': [1, 3, 5, 7, 9]\n",
    "        }\n",
    "\n",
    "\n",
    "grid_full = {'learning_rate': [0.01, 0.03, 0.05, 0.07, 0.09],\n",
    "        'depth': [3, 4, 6, 7, 8, 9, 10],\n",
    "        #'early_stopping_rounds': True,\n",
    "        'l2_leaf_reg': [1, 3, 5, 7, 9]\n",
    "        }\n",
    "\n",
    "grid_search_result = model.grid_search(\n",
    "        grid_small,\n",
    "        X=train_data,\n",
    "        y=train_labels,\n",
    ")"
   ]
  },
  {
   "cell_type": "code",
   "execution_count": null,
   "id": "c3c2dc88",
   "metadata": {},
   "outputs": [],
   "source": [
    "model.fit(train_data, train_labels)\n",
    "preds_labels = model.predict(test_data)"
   ]
  },
  {
   "cell_type": "code",
   "execution_count": 73,
   "id": "25a403ad",
   "metadata": {},
   "outputs": [
    {
     "name": "stdout",
     "output_type": "stream",
     "text": [
      "0:\tlearn: 4.4773927\ttotal: 27.6s\tremaining: 7h 40m 22s\n",
      "1:\tlearn: 4.1295189\ttotal: 54.8s\tremaining: 7h 35m 20s\n",
      "2:\tlearn: 3.5977834\ttotal: 1m 21s\tremaining: 7h 33m 10s\n"
     ]
    },
    {
     "ename": "KeyboardInterrupt",
     "evalue": "",
     "output_type": "error",
     "traceback": [
      "\u001b[1;31m---------------------------------------------------------------------------\u001b[0m",
      "\u001b[1;31mKeyboardInterrupt\u001b[0m                         Traceback (most recent call last)",
      "\u001b[1;32m<ipython-input-73-b4b3f2764b55>\u001b[0m in \u001b[0;36m<module>\u001b[1;34m\u001b[0m\n\u001b[0;32m      2\u001b[0m \u001b[1;33m\u001b[0m\u001b[0m\n\u001b[0;32m      3\u001b[0m \u001b[1;31m#Нужно контролить переобоучение, правильно выставить learning_rate, метрика и функция потерь\u001b[0m\u001b[1;33m\u001b[0m\u001b[1;33m\u001b[0m\u001b[1;33m\u001b[0m\u001b[0m\n\u001b[1;32m----> 4\u001b[1;33m \u001b[0mmodel_2\u001b[0m\u001b[1;33m.\u001b[0m\u001b[0mfit\u001b[0m\u001b[1;33m(\u001b[0m\u001b[0mtrain_data\u001b[0m\u001b[1;33m,\u001b[0m \u001b[0mtrain_labels\u001b[0m\u001b[1;33m)\u001b[0m\u001b[1;33m\u001b[0m\u001b[1;33m\u001b[0m\u001b[0m\n\u001b[0m\u001b[0;32m      5\u001b[0m \u001b[0mpreds_labels\u001b[0m \u001b[1;33m=\u001b[0m \u001b[0mmodel_2\u001b[0m\u001b[1;33m.\u001b[0m\u001b[0mpredict\u001b[0m\u001b[1;33m(\u001b[0m\u001b[0mtest_data\u001b[0m\u001b[1;33m)\u001b[0m\u001b[1;33m\u001b[0m\u001b[1;33m\u001b[0m\u001b[0m\n",
      "\u001b[1;32mG:\\Apps\\anaconda3\\lib\\site-packages\\catboost\\core.py\u001b[0m in \u001b[0;36mfit\u001b[1;34m(self, X, y, cat_features, text_features, embedding_features, sample_weight, baseline, use_best_model, eval_set, verbose, logging_level, plot, plot_file, column_description, verbose_eval, metric_period, silent, early_stopping_rounds, save_snapshot, snapshot_file, snapshot_interval, init_model, callbacks, log_cout, log_cerr)\u001b[0m\n\u001b[0;32m   5098\u001b[0m             \u001b[0mCatBoostClassifier\u001b[0m\u001b[1;33m.\u001b[0m\u001b[0m_check_is_compatible_loss\u001b[0m\u001b[1;33m(\u001b[0m\u001b[0mparams\u001b[0m\u001b[1;33m[\u001b[0m\u001b[1;34m'loss_function'\u001b[0m\u001b[1;33m]\u001b[0m\u001b[1;33m)\u001b[0m\u001b[1;33m\u001b[0m\u001b[1;33m\u001b[0m\u001b[0m\n\u001b[0;32m   5099\u001b[0m \u001b[1;33m\u001b[0m\u001b[0m\n\u001b[1;32m-> 5100\u001b[1;33m         self._fit(X, y, cat_features, text_features, embedding_features, None, sample_weight, None, None, None, None, baseline, use_best_model,\n\u001b[0m\u001b[0;32m   5101\u001b[0m                   \u001b[0meval_set\u001b[0m\u001b[1;33m,\u001b[0m \u001b[0mverbose\u001b[0m\u001b[1;33m,\u001b[0m \u001b[0mlogging_level\u001b[0m\u001b[1;33m,\u001b[0m \u001b[0mplot\u001b[0m\u001b[1;33m,\u001b[0m \u001b[0mplot_file\u001b[0m\u001b[1;33m,\u001b[0m \u001b[0mcolumn_description\u001b[0m\u001b[1;33m,\u001b[0m \u001b[0mverbose_eval\u001b[0m\u001b[1;33m,\u001b[0m \u001b[0mmetric_period\u001b[0m\u001b[1;33m,\u001b[0m\u001b[1;33m\u001b[0m\u001b[1;33m\u001b[0m\u001b[0m\n\u001b[0;32m   5102\u001b[0m                   silent, early_stopping_rounds, save_snapshot, snapshot_file, snapshot_interval, init_model, callbacks, log_cout, log_cerr)\n",
      "\u001b[1;32mG:\\Apps\\anaconda3\\lib\\site-packages\\catboost\\core.py\u001b[0m in \u001b[0;36m_fit\u001b[1;34m(self, X, y, cat_features, text_features, embedding_features, pairs, sample_weight, group_id, group_weight, subgroup_id, pairs_weight, baseline, use_best_model, eval_set, verbose, logging_level, plot, plot_file, column_description, verbose_eval, metric_period, silent, early_stopping_rounds, save_snapshot, snapshot_file, snapshot_interval, init_model, callbacks, log_cout, log_cerr)\u001b[0m\n\u001b[0;32m   2317\u001b[0m         \u001b[1;32mwith\u001b[0m \u001b[0mlog_fixup\u001b[0m\u001b[1;33m(\u001b[0m\u001b[0mlog_cout\u001b[0m\u001b[1;33m,\u001b[0m \u001b[0mlog_cerr\u001b[0m\u001b[1;33m)\u001b[0m\u001b[1;33m,\u001b[0m\u001b[0;31m \u001b[0m\u001b[0;31m\\\u001b[0m\u001b[1;33m\u001b[0m\u001b[1;33m\u001b[0m\u001b[0m\n\u001b[0;32m   2318\u001b[0m             \u001b[0mplot_wrapper\u001b[0m\u001b[1;33m(\u001b[0m\u001b[0mplot\u001b[0m\u001b[1;33m,\u001b[0m \u001b[0mplot_file\u001b[0m\u001b[1;33m,\u001b[0m \u001b[1;34m'Training plots'\u001b[0m\u001b[1;33m,\u001b[0m \u001b[1;33m[\u001b[0m\u001b[0m_get_train_dir\u001b[0m\u001b[1;33m(\u001b[0m\u001b[0mself\u001b[0m\u001b[1;33m.\u001b[0m\u001b[0mget_params\u001b[0m\u001b[1;33m(\u001b[0m\u001b[1;33m)\u001b[0m\u001b[1;33m)\u001b[0m\u001b[1;33m]\u001b[0m\u001b[1;33m)\u001b[0m\u001b[1;33m:\u001b[0m\u001b[1;33m\u001b[0m\u001b[1;33m\u001b[0m\u001b[0m\n\u001b[1;32m-> 2319\u001b[1;33m             self._train(\n\u001b[0m\u001b[0;32m   2320\u001b[0m                 \u001b[0mtrain_pool\u001b[0m\u001b[1;33m,\u001b[0m\u001b[1;33m\u001b[0m\u001b[1;33m\u001b[0m\u001b[0m\n\u001b[0;32m   2321\u001b[0m                 \u001b[0mtrain_params\u001b[0m\u001b[1;33m[\u001b[0m\u001b[1;34m\"eval_sets\"\u001b[0m\u001b[1;33m]\u001b[0m\u001b[1;33m,\u001b[0m\u001b[1;33m\u001b[0m\u001b[1;33m\u001b[0m\u001b[0m\n",
      "\u001b[1;32mG:\\Apps\\anaconda3\\lib\\site-packages\\catboost\\core.py\u001b[0m in \u001b[0;36m_train\u001b[1;34m(self, train_pool, test_pool, params, allow_clear_pool, init_model)\u001b[0m\n\u001b[0;32m   1721\u001b[0m \u001b[1;33m\u001b[0m\u001b[0m\n\u001b[0;32m   1722\u001b[0m     \u001b[1;32mdef\u001b[0m \u001b[0m_train\u001b[0m\u001b[1;33m(\u001b[0m\u001b[0mself\u001b[0m\u001b[1;33m,\u001b[0m \u001b[0mtrain_pool\u001b[0m\u001b[1;33m,\u001b[0m \u001b[0mtest_pool\u001b[0m\u001b[1;33m,\u001b[0m \u001b[0mparams\u001b[0m\u001b[1;33m,\u001b[0m \u001b[0mallow_clear_pool\u001b[0m\u001b[1;33m,\u001b[0m \u001b[0minit_model\u001b[0m\u001b[1;33m)\u001b[0m\u001b[1;33m:\u001b[0m\u001b[1;33m\u001b[0m\u001b[1;33m\u001b[0m\u001b[0m\n\u001b[1;32m-> 1723\u001b[1;33m         \u001b[0mself\u001b[0m\u001b[1;33m.\u001b[0m\u001b[0m_object\u001b[0m\u001b[1;33m.\u001b[0m\u001b[0m_train\u001b[0m\u001b[1;33m(\u001b[0m\u001b[0mtrain_pool\u001b[0m\u001b[1;33m,\u001b[0m \u001b[0mtest_pool\u001b[0m\u001b[1;33m,\u001b[0m \u001b[0mparams\u001b[0m\u001b[1;33m,\u001b[0m \u001b[0mallow_clear_pool\u001b[0m\u001b[1;33m,\u001b[0m \u001b[0minit_model\u001b[0m\u001b[1;33m.\u001b[0m\u001b[0m_object\u001b[0m \u001b[1;32mif\u001b[0m \u001b[0minit_model\u001b[0m \u001b[1;32melse\u001b[0m \u001b[1;32mNone\u001b[0m\u001b[1;33m)\u001b[0m\u001b[1;33m\u001b[0m\u001b[1;33m\u001b[0m\u001b[0m\n\u001b[0m\u001b[0;32m   1724\u001b[0m         \u001b[0mself\u001b[0m\u001b[1;33m.\u001b[0m\u001b[0m_set_trained_model_attributes\u001b[0m\u001b[1;33m(\u001b[0m\u001b[1;33m)\u001b[0m\u001b[1;33m\u001b[0m\u001b[1;33m\u001b[0m\u001b[0m\n\u001b[0;32m   1725\u001b[0m \u001b[1;33m\u001b[0m\u001b[0m\n",
      "\u001b[1;32m_catboost.pyx\u001b[0m in \u001b[0;36m_catboost._CatBoost._train\u001b[1;34m()\u001b[0m\n",
      "\u001b[1;32m_catboost.pyx\u001b[0m in \u001b[0;36m_catboost._CatBoost._train\u001b[1;34m()\u001b[0m\n",
      "\u001b[1;31mKeyboardInterrupt\u001b[0m: "
     ]
    }
   ],
   "source": [
    "model_2 = CatBoostClassifier(loss_function='MultiClass', logging_level='Verbose', learning_rate = 0.3, depth = 4)\n",
    "\n",
    "#Нужно контролить переобоучение, правильно выставить learning_rate, метрика и функция потерь\n",
    "model_2.fit(train_data, train_labels)\n",
    "preds_labels = model_2.predict(test_data)"
   ]
  },
  {
   "cell_type": "code",
   "execution_count": 71,
   "id": "1acf3d1d",
   "metadata": {},
   "outputs": [
    {
     "ename": "ValueError",
     "evalue": "Found input variables with inconsistent numbers of samples: [18770, 437]",
     "output_type": "error",
     "traceback": [
      "\u001b[1;31m---------------------------------------------------------------------------\u001b[0m",
      "\u001b[1;31mValueError\u001b[0m                                Traceback (most recent call last)",
      "\u001b[1;32m<ipython-input-71-81b4ed1a1848>\u001b[0m in \u001b[0;36m<module>\u001b[1;34m\u001b[0m\n\u001b[0;32m      1\u001b[0m \u001b[1;32mfrom\u001b[0m \u001b[0msklearn\u001b[0m\u001b[1;33m.\u001b[0m\u001b[0mmetrics\u001b[0m \u001b[1;32mimport\u001b[0m \u001b[0maccuracy_score\u001b[0m\u001b[1;33m,\u001b[0m \u001b[0mclassification_report\u001b[0m\u001b[1;33m\u001b[0m\u001b[1;33m\u001b[0m\u001b[0m\n\u001b[0;32m      2\u001b[0m \u001b[1;33m\u001b[0m\u001b[0m\n\u001b[1;32m----> 3\u001b[1;33m \u001b[0maccuracy\u001b[0m \u001b[1;33m=\u001b[0m \u001b[0maccuracy_score\u001b[0m\u001b[1;33m(\u001b[0m\u001b[0mtest_labels\u001b[0m\u001b[1;33m,\u001b[0m \u001b[0mpreds_labels\u001b[0m\u001b[1;33m)\u001b[0m\u001b[1;33m\u001b[0m\u001b[1;33m\u001b[0m\u001b[0m\n\u001b[0m\u001b[0;32m      4\u001b[0m \u001b[0mreport\u001b[0m \u001b[1;33m=\u001b[0m \u001b[0mclassification_report\u001b[0m\u001b[1;33m(\u001b[0m\u001b[0mtest_labels\u001b[0m\u001b[1;33m,\u001b[0m \u001b[0mpreds_labels\u001b[0m\u001b[1;33m)\u001b[0m\u001b[1;33m\u001b[0m\u001b[1;33m\u001b[0m\u001b[0m\n\u001b[0;32m      5\u001b[0m \u001b[1;33m\u001b[0m\u001b[0m\n",
      "\u001b[1;32mG:\\Apps\\anaconda3\\lib\\site-packages\\sklearn\\utils\\_param_validation.py\u001b[0m in \u001b[0;36mwrapper\u001b[1;34m(*args, **kwargs)\u001b[0m\n\u001b[0;32m    209\u001b[0m                     )\n\u001b[0;32m    210\u001b[0m                 ):\n\u001b[1;32m--> 211\u001b[1;33m                     \u001b[1;32mreturn\u001b[0m \u001b[0mfunc\u001b[0m\u001b[1;33m(\u001b[0m\u001b[1;33m*\u001b[0m\u001b[0margs\u001b[0m\u001b[1;33m,\u001b[0m \u001b[1;33m**\u001b[0m\u001b[0mkwargs\u001b[0m\u001b[1;33m)\u001b[0m\u001b[1;33m\u001b[0m\u001b[1;33m\u001b[0m\u001b[0m\n\u001b[0m\u001b[0;32m    212\u001b[0m             \u001b[1;32mexcept\u001b[0m \u001b[0mInvalidParameterError\u001b[0m \u001b[1;32mas\u001b[0m \u001b[0me\u001b[0m\u001b[1;33m:\u001b[0m\u001b[1;33m\u001b[0m\u001b[1;33m\u001b[0m\u001b[0m\n\u001b[0;32m    213\u001b[0m                 \u001b[1;31m# When the function is just a wrapper around an estimator, we allow\u001b[0m\u001b[1;33m\u001b[0m\u001b[1;33m\u001b[0m\u001b[1;33m\u001b[0m\u001b[0m\n",
      "\u001b[1;32mG:\\Apps\\anaconda3\\lib\\site-packages\\sklearn\\metrics\\_classification.py\u001b[0m in \u001b[0;36maccuracy_score\u001b[1;34m(y_true, y_pred, normalize, sample_weight)\u001b[0m\n\u001b[0;32m    218\u001b[0m \u001b[1;33m\u001b[0m\u001b[0m\n\u001b[0;32m    219\u001b[0m     \u001b[1;31m# Compute accuracy for each possible representation\u001b[0m\u001b[1;33m\u001b[0m\u001b[1;33m\u001b[0m\u001b[1;33m\u001b[0m\u001b[0m\n\u001b[1;32m--> 220\u001b[1;33m     \u001b[0my_type\u001b[0m\u001b[1;33m,\u001b[0m \u001b[0my_true\u001b[0m\u001b[1;33m,\u001b[0m \u001b[0my_pred\u001b[0m \u001b[1;33m=\u001b[0m \u001b[0m_check_targets\u001b[0m\u001b[1;33m(\u001b[0m\u001b[0my_true\u001b[0m\u001b[1;33m,\u001b[0m \u001b[0my_pred\u001b[0m\u001b[1;33m)\u001b[0m\u001b[1;33m\u001b[0m\u001b[1;33m\u001b[0m\u001b[0m\n\u001b[0m\u001b[0;32m    221\u001b[0m     \u001b[0mcheck_consistent_length\u001b[0m\u001b[1;33m(\u001b[0m\u001b[0my_true\u001b[0m\u001b[1;33m,\u001b[0m \u001b[0my_pred\u001b[0m\u001b[1;33m,\u001b[0m \u001b[0msample_weight\u001b[0m\u001b[1;33m)\u001b[0m\u001b[1;33m\u001b[0m\u001b[1;33m\u001b[0m\u001b[0m\n\u001b[0;32m    222\u001b[0m     \u001b[1;32mif\u001b[0m \u001b[0my_type\u001b[0m\u001b[1;33m.\u001b[0m\u001b[0mstartswith\u001b[0m\u001b[1;33m(\u001b[0m\u001b[1;34m\"multilabel\"\u001b[0m\u001b[1;33m)\u001b[0m\u001b[1;33m:\u001b[0m\u001b[1;33m\u001b[0m\u001b[1;33m\u001b[0m\u001b[0m\n",
      "\u001b[1;32mG:\\Apps\\anaconda3\\lib\\site-packages\\sklearn\\metrics\\_classification.py\u001b[0m in \u001b[0;36m_check_targets\u001b[1;34m(y_true, y_pred)\u001b[0m\n\u001b[0;32m     82\u001b[0m     \u001b[0my_pred\u001b[0m \u001b[1;33m:\u001b[0m \u001b[0marray\u001b[0m \u001b[1;32mor\u001b[0m \u001b[0mindicator\u001b[0m \u001b[0mmatrix\u001b[0m\u001b[1;33m\u001b[0m\u001b[1;33m\u001b[0m\u001b[0m\n\u001b[0;32m     83\u001b[0m     \"\"\"\n\u001b[1;32m---> 84\u001b[1;33m     \u001b[0mcheck_consistent_length\u001b[0m\u001b[1;33m(\u001b[0m\u001b[0my_true\u001b[0m\u001b[1;33m,\u001b[0m \u001b[0my_pred\u001b[0m\u001b[1;33m)\u001b[0m\u001b[1;33m\u001b[0m\u001b[1;33m\u001b[0m\u001b[0m\n\u001b[0m\u001b[0;32m     85\u001b[0m     \u001b[0mtype_true\u001b[0m \u001b[1;33m=\u001b[0m \u001b[0mtype_of_target\u001b[0m\u001b[1;33m(\u001b[0m\u001b[0my_true\u001b[0m\u001b[1;33m,\u001b[0m \u001b[0minput_name\u001b[0m\u001b[1;33m=\u001b[0m\u001b[1;34m\"y_true\"\u001b[0m\u001b[1;33m)\u001b[0m\u001b[1;33m\u001b[0m\u001b[1;33m\u001b[0m\u001b[0m\n\u001b[0;32m     86\u001b[0m     \u001b[0mtype_pred\u001b[0m \u001b[1;33m=\u001b[0m \u001b[0mtype_of_target\u001b[0m\u001b[1;33m(\u001b[0m\u001b[0my_pred\u001b[0m\u001b[1;33m,\u001b[0m \u001b[0minput_name\u001b[0m\u001b[1;33m=\u001b[0m\u001b[1;34m\"y_pred\"\u001b[0m\u001b[1;33m)\u001b[0m\u001b[1;33m\u001b[0m\u001b[1;33m\u001b[0m\u001b[0m\n",
      "\u001b[1;32mG:\\Apps\\anaconda3\\lib\\site-packages\\sklearn\\utils\\validation.py\u001b[0m in \u001b[0;36mcheck_consistent_length\u001b[1;34m(*arrays)\u001b[0m\n\u001b[0;32m    405\u001b[0m     \u001b[0muniques\u001b[0m \u001b[1;33m=\u001b[0m \u001b[0mnp\u001b[0m\u001b[1;33m.\u001b[0m\u001b[0munique\u001b[0m\u001b[1;33m(\u001b[0m\u001b[0mlengths\u001b[0m\u001b[1;33m)\u001b[0m\u001b[1;33m\u001b[0m\u001b[1;33m\u001b[0m\u001b[0m\n\u001b[0;32m    406\u001b[0m     \u001b[1;32mif\u001b[0m \u001b[0mlen\u001b[0m\u001b[1;33m(\u001b[0m\u001b[0muniques\u001b[0m\u001b[1;33m)\u001b[0m \u001b[1;33m>\u001b[0m \u001b[1;36m1\u001b[0m\u001b[1;33m:\u001b[0m\u001b[1;33m\u001b[0m\u001b[1;33m\u001b[0m\u001b[0m\n\u001b[1;32m--> 407\u001b[1;33m         raise ValueError(\n\u001b[0m\u001b[0;32m    408\u001b[0m             \u001b[1;34m\"Found input variables with inconsistent numbers of samples: %r\"\u001b[0m\u001b[1;33m\u001b[0m\u001b[1;33m\u001b[0m\u001b[0m\n\u001b[0;32m    409\u001b[0m             \u001b[1;33m%\u001b[0m \u001b[1;33m[\u001b[0m\u001b[0mint\u001b[0m\u001b[1;33m(\u001b[0m\u001b[0ml\u001b[0m\u001b[1;33m)\u001b[0m \u001b[1;32mfor\u001b[0m \u001b[0ml\u001b[0m \u001b[1;32min\u001b[0m \u001b[0mlengths\u001b[0m\u001b[1;33m]\u001b[0m\u001b[1;33m\u001b[0m\u001b[1;33m\u001b[0m\u001b[0m\n",
      "\u001b[1;31mValueError\u001b[0m: Found input variables with inconsistent numbers of samples: [18770, 437]"
     ]
    }
   ],
   "source": [
    "from sklearn.metrics import accuracy_score, classification_report\n",
    "\n",
    "accuracy = accuracy_score(test_labels, preds_labels)\n",
    "report = classification_report(test_labels, preds_labels)\n",
    "\n",
    "print(f\"Accuracy: {accuracy}\")\n",
    "print(\"Classification Report:\\n\", report)"
   ]
  },
  {
   "cell_type": "code",
   "execution_count": null,
   "id": "709817bb",
   "metadata": {},
   "outputs": [],
   "source": []
  },
  {
   "cell_type": "markdown",
   "id": "5fa65c4b",
   "metadata": {},
   "source": [
    "#### Удалим бесполезные факторы которые состоят из 1 уникального значения"
   ]
  },
  {
   "cell_type": "code",
   "execution_count": null,
   "id": "4733061e",
   "metadata": {},
   "outputs": [],
   "source": [
    "#Делаем это после кодирования категориалььных переменных\n",
    "#for column in factors_df.columns:\n",
    "#    unique_values_count = factors_df[column].drop_duplicates().size\n",
    "#    if unique_values_count == 1:\n",
    "#        new_factors_df = factors_df.drop(column, axis = 1)"
   ]
  },
  {
   "cell_type": "code",
   "execution_count": null,
   "id": "4b1d6a1d",
   "metadata": {},
   "outputs": [],
   "source": [
    "#new_factors_df.info()"
   ]
  },
  {
   "cell_type": "code",
   "execution_count": null,
   "id": "ff08e1c3",
   "metadata": {},
   "outputs": [],
   "source": [
    "#new_factors_df['Наименование терминального класса'].value_counts()"
   ]
  },
  {
   "cell_type": "code",
   "execution_count": null,
   "id": "d2902a76",
   "metadata": {},
   "outputs": [],
   "source": []
  },
  {
   "cell_type": "markdown",
   "id": "4e819d83",
   "metadata": {},
   "source": [
    "* Удалить колонки для неполного соответствия: если есть [1,2,3,4] - удалить одну, чтобы не было зависимости\n",
    "* Удалить строки без характеристик\n",
    "* Отбор на основе важности признаков"
   ]
  }
 ],
 "metadata": {
  "kernelspec": {
   "display_name": "Python 3",
   "language": "python",
   "name": "python3"
  },
  "language_info": {
   "codemirror_mode": {
    "name": "ipython",
    "version": 3
   },
   "file_extension": ".py",
   "mimetype": "text/x-python",
   "name": "python",
   "nbconvert_exporter": "python",
   "pygments_lexer": "ipython3",
   "version": "3.11.5"
  }
 },
 "nbformat": 4,
 "nbformat_minor": 5
}
