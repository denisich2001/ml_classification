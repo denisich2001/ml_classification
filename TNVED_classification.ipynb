{
 "cells": [
  {
   "cell_type": "markdown",
   "id": "6e7a424c",
   "metadata": {},
   "source": [
    "## Замечания для клевера:\n",
    "Актуально:\n",
    "* Можно улучшить обработку текстовых данных (можно попробовать в сыром виде запихать в кэтбуст)\n",
    "* Если лемматизация будет работать долго (есть такая вероятность) - можно поменять на стеммер\n",
    "\n",
    "Старое:\n",
    "* Вариант с тем, что в одной колонке название характеристики, в другой значение будет работать плохо (вот пример), т.к. модели без разницы на порядок следования колонок\n",
    "* Правильно ли я понимаю, что все колонки кроме ХК 1 и целевой имеют тип данных String?\n",
    "* **Как предсказывать строки с пустыми значениями во всех колонках ХК? (может их сразу откидывать)?**\n",
    "* Названия первой колонки должны быть всегда одинаковые\n",
    "* !!!Важно!!! Будем заменять числовые факторы на категориальные, если в них маленькое количество уникальных значений или одно значение встречается очень часто\n",
    "* Были ошибки в названиях колонок: 'ХК_ка т_01'"
   ]
  },
  {
   "cell_type": "markdown",
   "id": "3c4d3e75-a660-479c-a05e-2dab064987f0",
   "metadata": {},
   "source": [
    "**Проблемы, решение которых нужно будет автоматизировать:**\n",
    "* Несбалансированность классов\n",
    "* Пропуски в данных\n",
    "* Автоматическое кодирование текстовых столбцов"
   ]
  },
  {
   "cell_type": "code",
   "execution_count": 2,
   "id": "04316d65",
   "metadata": {},
   "outputs": [],
   "source": [
    "import pandas as pd\n",
    "import numpy as np\n",
    "import seaborn as sns\n",
    "\n",
    "from loguru import logger"
   ]
  },
  {
   "cell_type": "markdown",
   "id": "994b4d29",
   "metadata": {},
   "source": [
    "### Работа с данными"
   ]
  },
  {
   "cell_type": "code",
   "execution_count": 3,
   "id": "6d87f484",
   "metadata": {},
   "outputs": [],
   "source": [
    "df = pd.read_excel('data/paper_classificator_data.xlsx')"
   ]
  },
  {
   "cell_type": "code",
   "execution_count": 4,
   "id": "b81bd7f7",
   "metadata": {},
   "outputs": [
    {
     "data": {
      "text/html": [
       "<div>\n",
       "<style scoped>\n",
       "    .dataframe tbody tr th:only-of-type {\n",
       "        vertical-align: middle;\n",
       "    }\n",
       "\n",
       "    .dataframe tbody tr th {\n",
       "        vertical-align: top;\n",
       "    }\n",
       "\n",
       "    .dataframe thead th {\n",
       "        text-align: right;\n",
       "    }\n",
       "</style>\n",
       "<table border=\"1\" class=\"dataframe\">\n",
       "  <thead>\n",
       "    <tr style=\"text-align: right;\">\n",
       "      <th></th>\n",
       "      <th>ID класса (ТАРГЕТ)</th>\n",
       "      <th>Наименование терминального класса</th>\n",
       "      <th>Код родительского класса</th>\n",
       "      <th>Наименование родительского класса</th>\n",
       "      <th>Историческое наименование</th>\n",
       "      <th>ХК_Кат_01</th>\n",
       "      <th>Значение ХК_Кат_01</th>\n",
       "      <th>ХК_Кат_02</th>\n",
       "      <th>Значение ХК_Кат_02</th>\n",
       "      <th>ХК_Кат_03</th>\n",
       "      <th>Значение ХК_Кат_03</th>\n",
       "      <th>ХК_Стр_01</th>\n",
       "      <th>Значение ХК_Стр_01</th>\n",
       "      <th>ХК_Числ_01</th>\n",
       "      <th>Значение ХК_Числ_01</th>\n",
       "      <th>ХК_Числ_02</th>\n",
       "      <th>Значение ХК_Числ_02</th>\n",
       "      <th>ХК_Числ_03</th>\n",
       "      <th>Значение ХК_Числ_03</th>\n",
       "    </tr>\n",
       "  </thead>\n",
       "  <tbody>\n",
       "    <tr>\n",
       "      <th>0</th>\n",
       "      <td>12326143.0</td>\n",
       "      <td>Бумага для офисной техники листовая цветная, А4</td>\n",
       "      <td>01.15.01</td>\n",
       "      <td>БУМАГА</td>\n",
       "      <td>Бумага д/принтера цветная IQ Color, А4, 80г/м2...</td>\n",
       "      <td>Производитель</td>\n",
       "      <td>IQ Color</td>\n",
       "      <td>Формат</td>\n",
       "      <td>A4</td>\n",
       "      <td>Цвет</td>\n",
       "      <td>розовый</td>\n",
       "      <td>NaN</td>\n",
       "      <td>NaN</td>\n",
       "      <td>Листов в пачке</td>\n",
       "      <td>100.0</td>\n",
       "      <td>Плотность, г/м2</td>\n",
       "      <td>80.0</td>\n",
       "      <td>NaN</td>\n",
       "      <td>NaN</td>\n",
       "    </tr>\n",
       "  </tbody>\n",
       "</table>\n",
       "</div>"
      ],
      "text/plain": [
       "   ID класса (ТАРГЕТ)                Наименование терминального класса  \\\n",
       "0          12326143.0  Бумага для офисной техники листовая цветная, А4   \n",
       "\n",
       "  Код родительского класса Наименование родительского класса  \\\n",
       "0                 01.15.01                            БУМАГА   \n",
       "\n",
       "                           Историческое наименование      ХК_Кат_01  \\\n",
       "0  Бумага д/принтера цветная IQ Color, А4, 80г/м2...  Производитель   \n",
       "\n",
       "  Значение ХК_Кат_01 ХК_Кат_02 Значение ХК_Кат_02 ХК_Кат_03  \\\n",
       "0           IQ Color    Формат                 A4      Цвет   \n",
       "\n",
       "  Значение ХК_Кат_03 ХК_Стр_01 Значение ХК_Стр_01      ХК_Числ_01  \\\n",
       "0            розовый       NaN                NaN  Листов в пачке   \n",
       "\n",
       "   Значение ХК_Числ_01       ХК_Числ_02  Значение ХК_Числ_02 ХК_Числ_03  \\\n",
       "0                100.0  Плотность, г/м2                 80.0        NaN   \n",
       "\n",
       "   Значение ХК_Числ_03  \n",
       "0                  NaN  "
      ]
     },
     "execution_count": 4,
     "metadata": {},
     "output_type": "execute_result"
    }
   ],
   "source": [
    "df.head(1)"
   ]
  },
  {
   "cell_type": "code",
   "execution_count": 5,
   "id": "f9af1d63",
   "metadata": {},
   "outputs": [],
   "source": [
    "target_df = df['ID класса (ТАРГЕТ)']\n",
    "factors_df = df.drop('ID класса (ТАРГЕТ)', axis = 1)"
   ]
  },
  {
   "cell_type": "markdown",
   "id": "f9c2355b",
   "metadata": {},
   "source": [
    "#### Работаем с типами данных столбцов"
   ]
  },
  {
   "cell_type": "code",
   "execution_count": 6,
   "id": "32670d74",
   "metadata": {},
   "outputs": [
    {
     "data": {
      "text/plain": [
       "Index(['Наименование терминального класса', 'Код родительского класса',\n",
       "       'Наименование родительского класса', 'Историческое наименование',\n",
       "       'ХК_Кат_01', 'Значение ХК_Кат_01', 'ХК_Кат_02', 'Значение ХК_Кат_02',\n",
       "       'ХК_Кат_03', 'Значение ХК_Кат_03', 'ХК_Стр_01', 'Значение ХК_Стр_01',\n",
       "       'ХК_Числ_01', 'Значение ХК_Числ_01', 'ХК_Числ_02',\n",
       "       'Значение ХК_Числ_02', 'ХК_Числ_03', 'Значение ХК_Числ_03'],\n",
       "      dtype='object')"
      ]
     },
     "execution_count": 6,
     "metadata": {},
     "output_type": "execute_result"
    }
   ],
   "source": [
    "factors_df.columns"
   ]
  },
  {
   "cell_type": "code",
   "execution_count": 9,
   "id": "0cee265f",
   "metadata": {},
   "outputs": [],
   "source": [
    "import re\n",
    "\n",
    "def format_column_types(columns: list):\n",
    "    '''\n",
    "    Обрабатывает названия колонок из массива columns.\n",
    "    Возвращает словарь с парами: название колонки - ее тип данных  \n",
    "    '''\n",
    "    column_types_dict = {}\n",
    "    for column in columns:\n",
    "        type_pattern = r'ХК_([^_]+)_.*'\n",
    "        if column[0:2] == 'ХК':\n",
    "            column_types_dict[column] = 'Кат'\n",
    "        elif column[0:8]=='Значение':\n",
    "            column_type = re.findall(type_pattern, column)[0]\n",
    "            column_types_dict[column] = column_type\n",
    "        else:\n",
    "            column_types_dict[column] = 'Стр'\n",
    "            \n",
    "            \n",
    "    return column_types_dict"
   ]
  },
  {
   "cell_type": "code",
   "execution_count": 10,
   "id": "79196d3b",
   "metadata": {},
   "outputs": [
    {
     "name": "stderr",
     "output_type": "stream",
     "text": [
      "2023-10-05 16:15:28.325 | DEBUG    | __main__:<module>:28 - Категориальный фактор: ХК_Кат_01\n",
      "2023-10-05 16:15:28.326 | DEBUG    | __main__:<module>:28 - Категориальный фактор: Значение ХК_Кат_01\n",
      "2023-10-05 16:15:28.327 | DEBUG    | __main__:<module>:28 - Категориальный фактор: ХК_Кат_02\n",
      "2023-10-05 16:15:28.328 | DEBUG    | __main__:<module>:28 - Категориальный фактор: Значение ХК_Кат_02\n",
      "2023-10-05 16:15:28.329 | DEBUG    | __main__:<module>:28 - Категориальный фактор: ХК_Кат_03\n",
      "2023-10-05 16:15:28.330 | DEBUG    | __main__:<module>:28 - Категориальный фактор: Значение ХК_Кат_03\n",
      "2023-10-05 16:15:28.331 | DEBUG    | __main__:<module>:28 - Категориальный фактор: ХК_Стр_01\n",
      "2023-10-05 16:15:28.333 | DEBUG    | __main__:<module>:28 - Категориальный фактор: ХК_Числ_01\n",
      "2023-10-05 16:15:28.334 | INFO     | __main__:check_number_to_categorical:2 - Начинаем проверку численного фактора Значение ХК_Числ_01\n",
      "\n",
      "2023-10-05 16:15:28.336 | DEBUG    | __main__:check_number_to_categorical:3 - Размер фактора:309\n",
      "2023-10-05 16:15:28.343 | DEBUG    | __main__:check_number_to_categorical:4 - Количество уникальных значений: 5\n",
      "2023-10-05 16:15:28.346 | DEBUG    | __main__:check_number_to_categorical:5 - Процент заполненности фактора: 35.92233009708738%\n",
      "2023-10-05 16:15:28.351 | DEBUG    | __main__:check_number_to_categorical:8 - Cамое частое значение фактора: \n",
      "                       Частота\n",
      "Значение ХК_Числ_01           \n",
      "500.0                75.675676\n",
      "C:\\Users\\user\\AppData\\Local\\Temp\\ipykernel_16892\\4179220584.py:10: FutureWarning: Calling float on a single element Series is deprecated and will raise a TypeError in the future. Use float(ser.iloc[0]) instead\n",
      "  if float(popular_value.iloc[0])>=50:\n",
      "2023-10-05 16:15:28.359 | INFO     | __main__:check_number_to_categorical:11 - Переводим числовой фактор Значение ХК_Числ_01 в категориальный\n",
      "2023-10-05 16:15:28.363 | DEBUG    | __main__:<module>:28 - Категориальный фактор: ХК_Числ_02\n",
      "2023-10-05 16:15:28.364 | INFO     | __main__:check_number_to_categorical:2 - Начинаем проверку численного фактора Значение ХК_Числ_02\n",
      "\n",
      "2023-10-05 16:15:28.365 | DEBUG    | __main__:check_number_to_categorical:3 - Размер фактора:309\n",
      "2023-10-05 16:15:28.368 | DEBUG    | __main__:check_number_to_categorical:4 - Количество уникальных значений: 8\n",
      "2023-10-05 16:15:28.371 | DEBUG    | __main__:check_number_to_categorical:5 - Процент заполненности фактора: 37.86407766990291%\n",
      "2023-10-05 16:15:28.380 | DEBUG    | __main__:check_number_to_categorical:8 - Cамое частое значение фактора: \n",
      "                       Частота\n",
      "Значение ХК_Числ_02           \n",
      "80.0                 78.632479\n",
      "C:\\Users\\user\\AppData\\Local\\Temp\\ipykernel_16892\\4179220584.py:10: FutureWarning: Calling float on a single element Series is deprecated and will raise a TypeError in the future. Use float(ser.iloc[0]) instead\n",
      "  if float(popular_value.iloc[0])>=50:\n",
      "2023-10-05 16:15:28.382 | INFO     | __main__:check_number_to_categorical:11 - Переводим числовой фактор Значение ХК_Числ_02 в категориальный\n",
      "2023-10-05 16:15:28.384 | DEBUG    | __main__:<module>:28 - Категориальный фактор: ХК_Числ_03\n",
      "2023-10-05 16:15:28.385 | INFO     | __main__:check_number_to_categorical:2 - Начинаем проверку численного фактора Значение ХК_Числ_03\n",
      "\n",
      "2023-10-05 16:15:28.389 | DEBUG    | __main__:check_number_to_categorical:3 - Размер фактора:309\n",
      "2023-10-05 16:15:28.390 | DEBUG    | __main__:check_number_to_categorical:4 - Количество уникальных значений: 25\n",
      "2023-10-05 16:15:28.391 | DEBUG    | __main__:check_number_to_categorical:5 - Процент заполненности фактора: 40.1294498381877%\n",
      "2023-10-05 16:15:28.395 | DEBUG    | __main__:check_number_to_categorical:8 - Cамое частое значение фактора: \n",
      "                       Частота\n",
      "Значение ХК_Числ_03           \n",
      "100.0                17.741935\n",
      "C:\\Users\\user\\AppData\\Local\\Temp\\ipykernel_16892\\4179220584.py:10: FutureWarning: Calling float on a single element Series is deprecated and will raise a TypeError in the future. Use float(ser.iloc[0]) instead\n",
      "  if float(popular_value.iloc[0])>=50:\n"
     ]
    }
   ],
   "source": [
    "def check_number_to_categorical(column: str, factor: pd.Series):\n",
    "    logger.info(f'Начинаем проверку численного фактора {column}\\n')\n",
    "    logger.debug(f'Размер фактора:{factor.size}')\n",
    "    logger.debug(f'Количество уникальных значений: {factor.drop_duplicates().size}')\n",
    "    logger.debug(f'Процент заполненности фактора: {factor[factor.notnull()].size / factor.size * 100}%')\n",
    "    popular_value = pd.DataFrame(factor.value_counts().sort_values(ascending=False).head(1)/factor[factor.notnull()].size*100)\n",
    "    popular_value.columns = ['Частота']\n",
    "    logger.debug(f'Cамое частое значение фактора: \\n{popular_value}')\n",
    "    \n",
    "    if float(popular_value.iloc[0])>=50:\n",
    "        logger.info(f'Переводим числовой фактор {column} в категориальный')\n",
    "        return True\n",
    "\n",
    "\n",
    "column_types_dict = format_column_types(factors_df.columns)\n",
    "for column in column_types_dict.keys():\n",
    "    if column_types_dict.get(column) == 'Стр':\n",
    "        factors_df[column] = factors_df[column].astype(str)\n",
    "    elif column_types_dict.get(column) == 'Булево':\n",
    "        factors_df[column] = factors_df[column].astype(bool)\n",
    "    elif column_types_dict.get(column) == 'Числ':\n",
    "        if check_number_to_categorical(column, factors_df[column]):\n",
    "            column_types_dict[column] = 'Кат'\n",
    "            factors_df[column] = factors_df[column].astype(object)\n",
    "        else:   \n",
    "            factors_df[column] = factors_df[column].astype(float)\n",
    "    elif column_types_dict.get(column) == 'Кат':\n",
    "        logger.debug(f'Категориальный фактор: {column}')\n",
    "        #todo ДОДЕЛАТЬ преобразование категориальных колонок (пока не делаем, т.к. возможно будет catboost)\n"
   ]
  },
  {
   "cell_type": "code",
   "execution_count": 11,
   "id": "30d1cb5e",
   "metadata": {},
   "outputs": [
    {
     "data": {
      "text/plain": [
       "{'Наименование терминального класса': 'Стр',\n",
       " 'Код родительского класса': 'Стр',\n",
       " 'Наименование родительского класса': 'Стр',\n",
       " 'Историческое наименование': 'Стр',\n",
       " 'ХК_Кат_01': 'Кат',\n",
       " 'Значение ХК_Кат_01': 'Кат',\n",
       " 'ХК_Кат_02': 'Кат',\n",
       " 'Значение ХК_Кат_02': 'Кат',\n",
       " 'ХК_Кат_03': 'Кат',\n",
       " 'Значение ХК_Кат_03': 'Кат',\n",
       " 'ХК_Стр_01': 'Кат',\n",
       " 'Значение ХК_Стр_01': 'Стр',\n",
       " 'ХК_Числ_01': 'Кат',\n",
       " 'Значение ХК_Числ_01': 'Кат',\n",
       " 'ХК_Числ_02': 'Кат',\n",
       " 'Значение ХК_Числ_02': 'Кат',\n",
       " 'ХК_Числ_03': 'Кат',\n",
       " 'Значение ХК_Числ_03': 'Числ'}"
      ]
     },
     "execution_count": 11,
     "metadata": {},
     "output_type": "execute_result"
    }
   ],
   "source": [
    "column_types_dict"
   ]
  },
  {
   "cell_type": "markdown",
   "id": "f84ae2be",
   "metadata": {},
   "source": [
    "#### Кодируем строковые переменные\n",
    "Возможные варианты:\n",
    "* bag_of_words - пока остановимся на нем\n",
    "* tf_idf "
   ]
  },
  {
   "cell_type": "code",
   "execution_count": 31,
   "id": "c1306278",
   "metadata": {},
   "outputs": [],
   "source": [
    "import nltk\n",
    "from nltk.corpus import stopwords\n",
    "from pymystem3 import Mystem\n",
    "from string import punctuation\n",
    "from sklearn.feature_extraction.text import CountVectorizer"
   ]
  },
  {
   "cell_type": "code",
   "execution_count": 16,
   "id": "7db54a9d",
   "metadata": {},
   "outputs": [
    {
     "name": "stderr",
     "output_type": "stream",
     "text": [
      "[nltk_data] Downloading package punkt to\n",
      "[nltk_data]     C:\\Users\\user\\AppData\\Roaming\\nltk_data...\n",
      "[nltk_data]   Package punkt is already up-to-date!\n",
      "[nltk_data] Downloading package stopwords to\n",
      "[nltk_data]     C:\\Users\\user\\AppData\\Roaming\\nltk_data...\n",
      "[nltk_data]   Unzipping corpora\\stopwords.zip.\n"
     ]
    },
    {
     "data": {
      "text/plain": [
       "True"
      ]
     },
     "execution_count": 16,
     "metadata": {},
     "output_type": "execute_result"
    }
   ],
   "source": [
    "nltk.download('punkt')\n",
    "nltk.download('stopwords')"
   ]
  },
  {
   "cell_type": "code",
   "execution_count": 56,
   "id": "406e478d",
   "metadata": {},
   "outputs": [],
   "source": [
    "mystem = Mystem() \n",
    "russian_stopwords = stopwords.words(\"russian\")\n",
    "\n",
    "def text_preprocessing(text):\n",
    "    tokens = mystem.lemmatize(text)\n",
    "    tokens = [token for token in tokens if token not in russian_stopwords and token != \" \"  and token.strip() not in punctuation]\n",
    "    return tokens\n",
    "\n",
    "def text_feature_preprocessing(text_feature):\n",
    "    '''\n",
    "    Функция преобразования текстовых факторов\n",
    "    - Переводим в нижний регистр\n",
    "    - Удаляем знаки препинания\n",
    "    - Удаляем стоп слова\n",
    "    - Проводим лемматизацию\n",
    "    '''\n",
    "    processed_feature = []\n",
    "    text_feature = text_feature.replace(r'[^\\w\\s]',' ', regex=True).replace(r'\\s+',' ', regex=True).str.lower()\n",
    "    '''for text in text_feature.values:\n",
    "        tokens = mystem.lemmatize(text)\n",
    "        tokens = [token for token in tokens if token not in russian_stopwords and token != \" \"  and token.strip() not in punctuation]\n",
    "    \n",
    "        processed_feature.append(tokens)\n",
    "    '''\n",
    "    processed_text_feature = text_feature.apply(text_preprocessing)\n",
    "    return processed_text_feature\n",
    "\n",
    "\n"
   ]
  },
  {
   "cell_type": "code",
   "execution_count": 59,
   "id": "cfd3eaf0",
   "metadata": {},
   "outputs": [],
   "source": [
    "#print(f\"Before:\\n {factors_df['Историческое наименование'][0:20]}\")\n",
    "processed_historical_name = text_feature_preprocessing(factors_df['Историческое наименование'][0:20])\n",
    "#print(f\"After:\\n {processed_historical_name}\")"
   ]
  },
  {
   "cell_type": "code",
   "execution_count": 60,
   "id": "2177e929",
   "metadata": {},
   "outputs": [
    {
     "ename": "AttributeError",
     "evalue": "'list' object has no attribute 'lower'",
     "output_type": "error",
     "traceback": [
      "\u001b[1;31m---------------------------------------------------------------------------\u001b[0m",
      "\u001b[1;31mAttributeError\u001b[0m                            Traceback (most recent call last)",
      "\u001b[1;32mc:\\Users\\user\\Desktop\\qlever\\TNVED_classification.ipynb Cell 18\u001b[0m line \u001b[0;36m2\n\u001b[0;32m      <a href='vscode-notebook-cell:/c%3A/Users/user/Desktop/qlever/TNVED_classification.ipynb#X40sZmlsZQ%3D%3D?line=0'>1</a>\u001b[0m vectorizer \u001b[39m=\u001b[39m CountVectorizer()\n\u001b[1;32m----> <a href='vscode-notebook-cell:/c%3A/Users/user/Desktop/qlever/TNVED_classification.ipynb#X40sZmlsZQ%3D%3D?line=1'>2</a>\u001b[0m vectorizer\u001b[39m.\u001b[39mfit(processed_historical_name)\n\u001b[0;32m      <a href='vscode-notebook-cell:/c%3A/Users/user/Desktop/qlever/TNVED_classification.ipynb#X40sZmlsZQ%3D%3D?line=2'>3</a>\u001b[0m bow_model \u001b[39m=\u001b[39m vectorizer\u001b[39m.\u001b[39mtransform()\n",
      "File \u001b[1;32mc:\\Users\\denis\\anaconda3\\envs\\qlever\\Lib\\site-packages\\sklearn\\feature_extraction\\text.py:1339\u001b[0m, in \u001b[0;36mCountVectorizer.fit\u001b[1;34m(self, raw_documents, y)\u001b[0m\n\u001b[0;32m   1323\u001b[0m \u001b[39mdef\u001b[39;00m \u001b[39mfit\u001b[39m(\u001b[39mself\u001b[39m, raw_documents, y\u001b[39m=\u001b[39m\u001b[39mNone\u001b[39;00m):\n\u001b[0;32m   1324\u001b[0m \u001b[39m    \u001b[39m\u001b[39m\"\"\"Learn a vocabulary dictionary of all tokens in the raw documents.\u001b[39;00m\n\u001b[0;32m   1325\u001b[0m \n\u001b[0;32m   1326\u001b[0m \u001b[39m    Parameters\u001b[39;00m\n\u001b[1;32m   (...)\u001b[0m\n\u001b[0;32m   1337\u001b[0m \u001b[39m        Fitted vectorizer.\u001b[39;00m\n\u001b[0;32m   1338\u001b[0m \u001b[39m    \"\"\"\u001b[39;00m\n\u001b[1;32m-> 1339\u001b[0m     \u001b[39mself\u001b[39m\u001b[39m.\u001b[39mfit_transform(raw_documents)\n\u001b[0;32m   1340\u001b[0m     \u001b[39mreturn\u001b[39;00m \u001b[39mself\u001b[39m\n",
      "File \u001b[1;32mc:\\Users\\denis\\anaconda3\\envs\\qlever\\Lib\\site-packages\\sklearn\\feature_extraction\\text.py:1388\u001b[0m, in \u001b[0;36mCountVectorizer.fit_transform\u001b[1;34m(self, raw_documents, y)\u001b[0m\n\u001b[0;32m   1380\u001b[0m             warnings\u001b[39m.\u001b[39mwarn(\n\u001b[0;32m   1381\u001b[0m                 \u001b[39m\"\u001b[39m\u001b[39mUpper case characters found in\u001b[39m\u001b[39m\"\u001b[39m\n\u001b[0;32m   1382\u001b[0m                 \u001b[39m\"\u001b[39m\u001b[39m vocabulary while \u001b[39m\u001b[39m'\u001b[39m\u001b[39mlowercase\u001b[39m\u001b[39m'\u001b[39m\u001b[39m\"\u001b[39m\n\u001b[0;32m   1383\u001b[0m                 \u001b[39m\"\u001b[39m\u001b[39m is True. These entries will not\u001b[39m\u001b[39m\"\u001b[39m\n\u001b[0;32m   1384\u001b[0m                 \u001b[39m\"\u001b[39m\u001b[39m be matched with any documents\u001b[39m\u001b[39m\"\u001b[39m\n\u001b[0;32m   1385\u001b[0m             )\n\u001b[0;32m   1386\u001b[0m             \u001b[39mbreak\u001b[39;00m\n\u001b[1;32m-> 1388\u001b[0m vocabulary, X \u001b[39m=\u001b[39m \u001b[39mself\u001b[39m\u001b[39m.\u001b[39m_count_vocab(raw_documents, \u001b[39mself\u001b[39m\u001b[39m.\u001b[39mfixed_vocabulary_)\n\u001b[0;32m   1390\u001b[0m \u001b[39mif\u001b[39;00m \u001b[39mself\u001b[39m\u001b[39m.\u001b[39mbinary:\n\u001b[0;32m   1391\u001b[0m     X\u001b[39m.\u001b[39mdata\u001b[39m.\u001b[39mfill(\u001b[39m1\u001b[39m)\n",
      "File \u001b[1;32mc:\\Users\\denis\\anaconda3\\envs\\qlever\\Lib\\site-packages\\sklearn\\feature_extraction\\text.py:1275\u001b[0m, in \u001b[0;36mCountVectorizer._count_vocab\u001b[1;34m(self, raw_documents, fixed_vocab)\u001b[0m\n\u001b[0;32m   1273\u001b[0m \u001b[39mfor\u001b[39;00m doc \u001b[39min\u001b[39;00m raw_documents:\n\u001b[0;32m   1274\u001b[0m     feature_counter \u001b[39m=\u001b[39m {}\n\u001b[1;32m-> 1275\u001b[0m     \u001b[39mfor\u001b[39;00m feature \u001b[39min\u001b[39;00m analyze(doc):\n\u001b[0;32m   1276\u001b[0m         \u001b[39mtry\u001b[39;00m:\n\u001b[0;32m   1277\u001b[0m             feature_idx \u001b[39m=\u001b[39m vocabulary[feature]\n",
      "File \u001b[1;32mc:\\Users\\denis\\anaconda3\\envs\\qlever\\Lib\\site-packages\\sklearn\\feature_extraction\\text.py:111\u001b[0m, in \u001b[0;36m_analyze\u001b[1;34m(doc, analyzer, tokenizer, ngrams, preprocessor, decoder, stop_words)\u001b[0m\n\u001b[0;32m    109\u001b[0m \u001b[39melse\u001b[39;00m:\n\u001b[0;32m    110\u001b[0m     \u001b[39mif\u001b[39;00m preprocessor \u001b[39mis\u001b[39;00m \u001b[39mnot\u001b[39;00m \u001b[39mNone\u001b[39;00m:\n\u001b[1;32m--> 111\u001b[0m         doc \u001b[39m=\u001b[39m preprocessor(doc)\n\u001b[0;32m    112\u001b[0m     \u001b[39mif\u001b[39;00m tokenizer \u001b[39mis\u001b[39;00m \u001b[39mnot\u001b[39;00m \u001b[39mNone\u001b[39;00m:\n\u001b[0;32m    113\u001b[0m         doc \u001b[39m=\u001b[39m tokenizer(doc)\n",
      "File \u001b[1;32mc:\\Users\\denis\\anaconda3\\envs\\qlever\\Lib\\site-packages\\sklearn\\feature_extraction\\text.py:69\u001b[0m, in \u001b[0;36m_preprocess\u001b[1;34m(doc, accent_function, lower)\u001b[0m\n\u001b[0;32m     50\u001b[0m \u001b[39m\u001b[39m\u001b[39m\"\"\"Chain together an optional series of text preprocessing steps to\u001b[39;00m\n\u001b[0;32m     51\u001b[0m \u001b[39mapply to a document.\u001b[39;00m\n\u001b[0;32m     52\u001b[0m \n\u001b[1;32m   (...)\u001b[0m\n\u001b[0;32m     66\u001b[0m \u001b[39m    preprocessed string\u001b[39;00m\n\u001b[0;32m     67\u001b[0m \u001b[39m\"\"\"\u001b[39;00m\n\u001b[0;32m     68\u001b[0m \u001b[39mif\u001b[39;00m lower:\n\u001b[1;32m---> 69\u001b[0m     doc \u001b[39m=\u001b[39m doc\u001b[39m.\u001b[39mlower()\n\u001b[0;32m     70\u001b[0m \u001b[39mif\u001b[39;00m accent_function \u001b[39mis\u001b[39;00m \u001b[39mnot\u001b[39;00m \u001b[39mNone\u001b[39;00m:\n\u001b[0;32m     71\u001b[0m     doc \u001b[39m=\u001b[39m accent_function(doc)\n",
      "\u001b[1;31mAttributeError\u001b[0m: 'list' object has no attribute 'lower'"
     ]
    }
   ],
   "source": [
    "vectorizer = CountVectorizer()\n",
    "vectorizer.fit(processed_historical_name)\n",
    "bow_model = vectorizer.transform()"
   ]
  },
  {
   "cell_type": "code",
   "execution_count": null,
   "id": "346dbb6c",
   "metadata": {},
   "outputs": [
    {
     "name": "stdout",
     "output_type": "stream",
     "text": [
      "{'бумага': 337, 'принтера': 483, 'цветная': 569, 'iq': 253, 'color': 218, 'а4': 318, '80г': 183, 'м2': 416, 'pi25': 283, 'розовый': 492, '100л': 9, 'op174': 278, 'фламинго': 551, 'ye23': 313, 'желтый': 378, 'zg34': 314, 'лимонно': 413, 'печати': 469, 'офисной': 453, 'техники': 538, 'colorcode': 219, 'intensive': 252, 'микс': 428, 'цветов': 571, 'по': 478, '20л': 96, 'or43': 279, 'оранжевый': 448, 'техникиcolorcode': 539, 'creative': 225, 'креатив': 403, '80': 182, '100': 7, 'цв': 564, 'х20': 561, 'интенсив': 385, 'a4': 200, 'снегурочка': 524, 'белизна': 329, '146': 49, 'cie': 215, '500л': 148, 'mondi': 268, 'пач': 461, '96': 198, 'сыктывкар': 535, 'data': 227, 'copy': 223, 'svetocopy': 305, 'класс': 391, 'canon': 214, 'black': 208, 'lable': 257, 'extra': 238, 'premium': 286, 'label': 256, '8169b011aa': 185, '8169b001aa': 184, 'офтех': 456, 'red': 293, 'professional': 289, '172cie': 68, 'шт': 577, 'epson': 237, 'струй': 533, 's041256': 295, '167г': 61, 'матов': 419, '50л': 149, 'hp': 249, 'office': 277, '153': 53, 'kym': 255, 'lux': 260, 'classic': 216, 'упак': 544, '5шт': 157, 'business': 211, '70г': 176, '164': 59, 'fi': 240, 'digi': 228, 'laser': 258, '160г': 55, '170cie': 66, 'пач250л': 463, '250г': 113, 'пач125л': 462, '300г': 127, 'nota': 276, 'финская': 550, 'xerox': 312, 'perfect': 281, 'финляндия': 549, '003r97759p': 2, 'colotech': 220, 'gloss': 242, 'coated': 217, '120г': 27, '135': 44, '170г': 67, 'silk': 299, 'premier': 285, '170': 65, 'лазер': 410, 'plus': 284, '250л': 114, '90г': 194, 'документная': 373, 'ма': 417, '90': 193, 'офсет': 454, '5кг': 150, 'цветн': 568, 'symphony': 306, 'небесно': 436, 'голуб': 360, '003r91932': 0, 'солнечный': 528, 'желт': 377, '003r94070': 1, '65г': 171, 'белая': 328, 'термопл': 537, '200л': 88, 'пастель': 459, 'гознак': 359, '95': 197, 'папир': 457, 'краснокамск': 402, 'с1': 500, 'радуга': 489, 'неон': 440, 'копи': 398, 'принт': 482, 'ксерокопирования': 405, 'colour': 221, 'интенсивный': 386, 'цвета': 567, 'пастельная': 460, 'right': 294, '138': 45, 'ксерокса': 406, '36': 132, 'кр': 401, 'с36': 504, 'офисмаг': 451, 'стандарт': 530, '110532': 23, 'плотн': 474, '98': 199, 'эконом': 578, 'print': 288, 'снежинка': 526, '75г': 178, '128': 41, 'ballet': 207, '161': 56, 'офисная': 452, 'а5': 319, '500': 147, 'германия': 355, '167': 60, 'a5': 201, 'флипчартов': 553, '67': 172, '5х98': 154, 'см': 523, '20': 85, 'листов': 415, 'клетку': 392, 'блоков': 334, 'упаковке': 546, 'attache': 206, 'флипчарта': 552, 'блоке': 333, 'блок': 332, 'белый': 330, 'упаковка': 545, '70': 175, 'ватман': 339, 'чертежная': 573, 'а1': 315, 'размер': 491, '610x860': 164, 'мм': 431, 'плотность': 475, '200г': 87, 'mega': 266, 'engineer': 236, '5л': 151, '610х860мм': 167, 'пл': 473, 'пишущих': 472, 'машин': 421, '48': 143, '8г': 188, 'газетная': 352, 'кондопога': 396, '68': 174, 'потребительская': 481, '60': 158, 'миллиметровая': 429, '40г': 135, 'ширина': 576, '640мм': 169, 'рулоне': 496, '10': 6, 'метров': 427, 'оранжевая': 447, 'масштабно': 418, 'координатная': 397, 'рулон': 495, '878': 186, 'х10': 560, '878мм': 187, '10м': 18, '122811': 32, '640': 168, 'перфорированная': 468, 'drescher': 231, '240мм': 111, 'слоя': 522, 'шаг': 575, '12': 26, 'самокопирующая': 506, 'непрер': 441, 'пачка': 464, '600л': 160, 'самокоп': 505, 'компьютерная': 395, '240х12': 112, 'сл': 517, 'цвет': 566, '600экз': 161, 'уп': 543, '240': 109, '305': 128, 'слойная': 519, '600': 159, 'комплектов': 394, 'дюймов': 374, '210мм': 100, '610м': 165, '60г': 162, 'слой': 518, 'нп': 442, '2000л': 86, 'однослойная': 444, 'promega': 290, '210': 98, '610': 163, 'оп': 446, 'писчая': 470, '65': 170, '132': 43, 'туринск': 541, 'калька': 387, 'чертежных': 574, 'дизайнерских': 371, 'работ': 488, 'а3': 317, '40': 134, 'папке': 458, '40л': 136, 'формат': 557, '297': 126, '420': 138, 'а2': 316, 'под': 479, 'карандаш': 388, 'tz': 307, '9305': 196, 'тушь': 542, 'длина': 372, '40м': 137, 'картон': 389, 'school': 296, 'бабочка': 326, '200х280мм': 89, 'хатбер': 562, 'мелованный': 424, '10л': 17, 'set': 298, '10кб4_05806': 11, 'n049716': 271, 'немелов': 438, '280г': 125, 'цветной': 570, 'гофрирированный': 361, 'гофрированный': 362, 'brauberg': 209, 'флуоресцентный': 554, '5листов': 152, 'fancy': 239, 'металлизированный': 426, '5цв': 155, 'набор': 435, 'ктс': 408, 'про': 484, 'радужный': 490, '200х285мм': 91, 'апплика': 321, 'двусторонний': 364, '7л': 180, 'лакиров': 411, 'обл': 443, 'с0261': 499, '20цв': 97, 'мелов': 423, 'двустор': 363, 'мультики': 433, 'детского': 368, 'труда': 540, '420мм': 139, '8л': 189, 'веселые': 342, 'человечки': 572, 'artspace': 205, '8цв': 192, 'ассортименте': 325, 'мелованый': 425, 'kids': 254, 'series': 297, 'цва4': 565, 'волшебный': 348, '10цв': 21, 'staff': 302, '200х283мм': 90, '127052': 40, '140х195мм': 48, 'vk': 310, 'дельфины': 366, '10кц5к_04323': 16, 'n000281': 269, '1school': 84, 'маяк': 422, '198х288мм': 83, 'пифагор': 471, 'лисенок': 414, 'на': 434, 'скейте': 515, '121321': 30, 'слон': 520, 'птичка': 485, '121319': 28, 'заяц': 380, 'джипе': 369, '121320': 29, 'восточная': 349, 'сказка': 514, '121322': 31, 'лакированный': 412, 'арт': 322, '1160': 25, '201': 93, '195х275мм': 81, 'веер': 340, '10кц4': 13, 'n135570': 272, '200х290мм': 92, 'детская': 367, 'серия': 513, 'волшеб': 347, 'кот': 400, 'сапогах124769': 508, '185х280мм': 78, 'склейка': 516, 'быстр': 338, 'тачки': 536, '10кц4к_08069': 15, 'n83680': 273, '195х280мм': 82, '10кц4_05809': 14, 'n049600': 270, '210х297мм': 101, '124749': 35, 'перламутровый': 466, '124746': 33, 'marvel': 263, 'стражи': 532, 'галактики': 353, '25483': 119, 'disney': 230, 'самолеты': 507, '25350': 115, 'золушка': 384, '26795': 122, 'слоники': 521, 'немел': 437, 'graffiti': 244, 'солнышко': 529, 'puzzle': 291, 'феи': 548, '25428': 117, 'золото': 383, 'серебро': 512, 'холодное': 563, 'сердце': 511, '26749': 121, 'мстители': 432, '25465': 118, 'совы': 527, 'magic': 262, 'forest': 241, 'минни': 430, '25383': 116, 'ассорти': 324, 'двухсторонний': 365, 'hatber': 248, 'фольгин': 555, 'перлам': 465, 'фольгированный': 556, 'европодвесом': 375, '205х290мм': 95, 'веселый': 343, 'пэт': 487, 'с2536': 503, 'блестками': 331, 'с1438': 501, 'волна': 346, 'бархатный': 327, '5цветов': 156, 'с1721': 502, '127050': 39, 'немелованный': 439, 'ежик': 376, '124766': 37, 'рыболов': 497, '124765': 36, 'с0003': 498, '8листов': 190, 'куклы': 409, '2058': 94, 'зеркальный': 381, '124747': 34, 'фотобумага': 559, 'lomond': 259, 'а6': 320, '10х15': 19, 'глянцевая': 357, '0102035': 3, '230': 106, 'гг': 354, '50': 146, 'односторонняя': 445, 'струйной': 534, '0102073': 4, '1104202': 22, 'фото': 558, 'карточка': 390, 'матовая': 420, 'сатин': 509, '10x15': 10, '280': 124, 'дизайнерская': 370, 'кожа': 393, '230г': 107, '0918141': 5, 'глянцевое': 358, '10х15см': 20, 'высокоглянцевая': 351, 'q1426b': 292, 'c6033a': 213, '610мм': 166, '30м': 130, 'втулка': 350, '8мм': 191, '150г': 51, 'покрытие': 480, 'плоттера': 476, 'presentation': 287, 'matte': 264, 'paper': 280, '24': 108, 'c13s041295': 212, 'inksystem': 251, 'плоттеров': 477, '180g': 76, '914мм': 195, '30m': 129, 'артикул': 323, '6736': 173, '150': 50, 'architect': 204, '175мх297мм': 69, '76мм': 179, 'рул': 494, '175мх310мм': 70, '175мх420мм': 71, '175мх594мм': 72, '175мх620мм': 73, '175мх841мм': 74, '175мх914мм': 75, 'sra3': 301, '140г': 47, '210г': 99, 'impressions': 250, '100г': 8, '130г': 42, '115г': 24, '350г': 131, 'performer': 282, '220г': 105, '10кг': 12, 'ксероксная': 407, 'визиток': 344, 'curious': 226, 'matter': 265, 'dryt': 232, '270г': 123, 'andina': 203, 'grey': 246, 'granite': 245, 'embossed': 235, 'white': 311, 'gsm': 247, 'персиковая': 467, 'new': 275, 'свет': 510, 'урб': 547, 'brilliant': 210, '168': 62, 'universal': 309, 'conqueror': 222, 'верже': 341, 'вод': 345, 'знак': 382, 'cream': 224, 'кремовый': 404, 'dw': 233, 'бриллиант': 335, '3пач': 133, 'кор': 399, 'discovery': 229, 'allround': 202, '162': 58, 'economy': 234, '169cie': 64, 'smooth': 300, 'ultra': 308, 'maestro': 261, 'standard': 303, 'navigator': 274, '169': 63, 'sveto': 304, '161cie': 57, '5пач': 153, '150л': 52, '125л': 38, '4пач': 145, '7пач': 181, 'glossy': 243, '139cie': 46, 'megajet': 267, '240г': 110, 'глянц': 356, '15л': 54, 'стор': 531, '180г': 77, '25л': 120, 'отбор': 450, 'от': 449, 'бум': 336, 'пухлой': 486, '75': 177, 'заказ': 379, 'офсетная': 455, 'снеж': 525, '210х70х18': 102, '18х70х50м': 79, 'ролик': 493, '210х90': 103, '210х90х18': 104, '18х90х100м': 80, '420х70х18': 140, '4кг': 144, '420х90': 141, '420х90х18': 142}\n"
     ]
    }
   ],
   "source": [
    "print(vectorizer.vocabulary_)"
   ]
  },
  {
   "cell_type": "markdown",
   "id": "c1b4c3ca",
   "metadata": {},
   "source": [
    "#### Заполняем пропуски в данных\n",
    "В зависимости от типа данных колонки заполняем пропуски по-разному:\n",
    "*   Стр -  т.к. переводим строки в числа, то пропущенные значение пусть будут = 0\n",
    "*   Числ - #todo По умолчанию = 0. Если присутствует значение, количество которого в заполненных строках >=50% => то фактор станет категориальным, а не численным. \n",
    "*   Булево - #todo будем считать, что у нас всегда такие столбцы отвечают на вопрос: \"Есть что-то? - Да/Нет\". Если нет ответа => Нет\n",
    "*   Кат - 'Emptyclass'"
   ]
  },
  {
   "cell_type": "code",
   "execution_count": 1,
   "id": "a60a9131",
   "metadata": {},
   "outputs": [
    {
     "ename": "NameError",
     "evalue": "name 'factors_df' is not defined",
     "output_type": "error",
     "traceback": [
      "\u001b[1;31m---------------------------------------------------------------------------\u001b[0m",
      "\u001b[1;31mNameError\u001b[0m                                 Traceback (most recent call last)",
      "\u001b[1;32mc:\\Users\\user\\Desktop\\qlever\\TNVED_classification.ipynb Cell 20\u001b[0m line \u001b[0;36m1\n\u001b[1;32m----> <a href='vscode-notebook-cell:/c%3A/Users/user/Desktop/qlever/TNVED_classification.ipynb#X25sZmlsZQ%3D%3D?line=0'>1</a>\u001b[0m factors_df\u001b[39m.\u001b[39misna()\u001b[39m.\u001b[39msum()\n",
      "\u001b[1;31mNameError\u001b[0m: name 'factors_df' is not defined"
     ]
    }
   ],
   "source": [
    "factors_df.isna().sum()"
   ]
  },
  {
   "cell_type": "code",
   "execution_count": 19,
   "id": "da3f5ea2",
   "metadata": {},
   "outputs": [],
   "source": [
    "new_factors_df = factors_df.copy()\n",
    "for column in new_factors_df.columns:\n",
    "    if column_types_dict.get(column) == 'Кат':\n",
    "        new_factors_df.loc[new_factors_df[column].isna(), column] = 'EmptyValue'\n",
    "    elif column_types_dict.get(column) == 'Числ':\n",
    "        new_factors_df.loc[new_factors_df[column].isna(), column] = 0\n",
    "    #elif column_types_dict.get(column) == 'Стр':\n",
    "        # Строковых факторов не должно остаться, т.к мы переведем их в числовые\n",
    "        #raise Exception('В датасете присутствуют строковые факторы!')\n",
    "    elif column_types_dict.get(column) == 'Булево':\n",
    "        new_factors_df.loc[new_factors_df[column].isna(), column] = 0\n"
   ]
  },
  {
   "cell_type": "code",
   "execution_count": 20,
   "id": "8643fc11",
   "metadata": {},
   "outputs": [
    {
     "data": {
      "text/plain": [
       "Наименование терминального класса     0\n",
       "Код родительского класса              0\n",
       "Наименование родительского класса     0\n",
       "Историческое наименование             0\n",
       "ХК_Кат_01                             0\n",
       "Значение ХК_Кат_01                    0\n",
       "ХК_Кат_02                             0\n",
       "Значение ХК_Ка т_02                  55\n",
       "ХК_Кат_03                             0\n",
       "Значение ХК_Кат_03                    0\n",
       "ХК_Стр_01                             0\n",
       "Значение ХК_Стр_01                    0\n",
       "ХК_Числ_01                            0\n",
       "Значение ХК_Числ_01                   0\n",
       "ХК_Числ_02                            0\n",
       "Значение ХК_Числ_02                   0\n",
       "ХК_Числ_03                            0\n",
       "Значение ХК_Числ_03                   0\n",
       "dtype: int64"
      ]
     },
     "execution_count": 20,
     "metadata": {},
     "output_type": "execute_result"
    }
   ],
   "source": [
    "new_factors_df.isna().sum()"
   ]
  },
  {
   "cell_type": "markdown",
   "id": "5fa65c4b",
   "metadata": {},
   "source": [
    "#### Удалим бесполезные факторы которые состоят из 1 уникального значения"
   ]
  },
  {
   "cell_type": "code",
   "execution_count": 21,
   "id": "4733061e",
   "metadata": {},
   "outputs": [],
   "source": [
    "#Делаем это после кодирования категориалььных переменных\n",
    "for column in factors_df.columns:\n",
    "    unique_values_count = factors_df[column].drop_duplicates().size\n",
    "    if unique_values_count == 1:\n",
    "        new_factors_df = factors_df.drop(column, axis = 1)\n"
   ]
  },
  {
   "cell_type": "code",
   "execution_count": 1,
   "id": "4b1d6a1d",
   "metadata": {},
   "outputs": [
    {
     "ename": "NameError",
     "evalue": "name 'new_factors_df' is not defined",
     "output_type": "error",
     "traceback": [
      "\u001b[1;31m---------------------------------------------------------------------------\u001b[0m",
      "\u001b[1;31mNameError\u001b[0m                                 Traceback (most recent call last)",
      "\u001b[1;32mc:\\Users\\user\\Desktop\\qlever\\TNVED_classification.ipynb Cell 21\u001b[0m line \u001b[0;36m1\n\u001b[1;32m----> <a href='vscode-notebook-cell:/c%3A/Users/user/Desktop/qlever/TNVED_classification.ipynb#X26sZmlsZQ%3D%3D?line=0'>1</a>\u001b[0m new_factors_df\u001b[39m.\u001b[39minfo()\n",
      "\u001b[1;31mNameError\u001b[0m: name 'new_factors_df' is not defined"
     ]
    }
   ],
   "source": [
    "new_factors_df.info()"
   ]
  },
  {
   "cell_type": "code",
   "execution_count": 25,
   "id": "ff08e1c3",
   "metadata": {},
   "outputs": [
    {
     "data": {
      "text/plain": [
       "Наименование терминального класса\n",
       "nan                                                                         98\n",
       "Бумага для офисной техники листовая, А4                                     56\n",
       "Картон цветной, А4, 10цветов, упак                                          28\n",
       "Картон цветной, А4, 10 цветов, 10 листов, упак                              16\n",
       "Бумага для офисной техники листовая цветная, А4                             11\n",
       "Картон цветной, А4, 8 цветов, 8 листов, упак                                 9\n",
       "Картон цветной, А3, 8 цветов, 8 лист, упак                                   7\n",
       "Калька для копировальных работ листовая                                      7\n",
       "Картон цветной, А4, 5 цветов, 5 листов, упак                                 7\n",
       "Картон гофрированный A4, 5л, упак                                            6\n",
       "Фотобумага листовая                                                          6\n",
       "Бумага перфорированная однослойная                                           6\n",
       "Фотобумага рулонная                                                          5\n",
       "Бумага для черчения (ватман) листовая                                        5\n",
       "Бумага для флипчарта (блок)                                                  5\n",
       "Бумага для офисной техники листовая, А5                                      4\n",
       "Бумага для черчения (ватман) рулонная                                        4\n",
       "Бумага копировальная для машинописных работ                                  4\n",
       "Калька под карандаш рулонная                                                 4\n",
       "Бумага писчая                                                                4\n",
       "Бумага перфорированная многослойная                                          4\n",
       "Бумага миллиметровая (масштабно-координатная) и логарифмическая рулонная     4\n",
       "Калька под тушь рулонная                                                     4\n",
       "Картон белый, А4, 10 листов                                                  2\n",
       "Картон мелованный двусторонний белый, А4, 7 листов, упак                     1\n",
       "Картон цветной двухсторонний, 10 л, 20 цветов, упак                          1\n",
       "Картон белый, немелованный, А4, 200 л                                        1\n",
       "Name: count, dtype: int64"
      ]
     },
     "execution_count": 25,
     "metadata": {},
     "output_type": "execute_result"
    }
   ],
   "source": [
    "new_factors_df['Наименование терминального класса'].value_counts()"
   ]
  }
 ],
 "metadata": {
  "kernelspec": {
   "display_name": "Python 3 (ipykernel)",
   "language": "python",
   "name": "python3"
  },
  "language_info": {
   "codemirror_mode": {
    "name": "ipython",
    "version": 3
   },
   "file_extension": ".py",
   "mimetype": "text/x-python",
   "name": "python",
   "nbconvert_exporter": "python",
   "pygments_lexer": "ipython3",
   "version": "3.11.5"
  }
 },
 "nbformat": 4,
 "nbformat_minor": 5
}
