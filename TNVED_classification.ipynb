{
 "cells": [
  {
   "cell_type": "markdown",
   "id": "6e7a424c",
   "metadata": {},
   "source": [
    "## Замечания для клевера:\n",
    "Актуально:\n",
    "* Можно улучшить обработку текстовых данных (можно попробовать в сыром виде запихать в кэтбуст)\n",
    "* Если лемматизация будет работать долго (есть такая вероятность) - можно поменять на стеммер\n",
    "\n",
    "Старое:\n",
    "* Вариант с тем, что в одной колонке название характеристики, в другой значение будет работать плохо (вот пример), т.к. модели без разницы на порядок следования колонок\n",
    "* Правильно ли я понимаю, что все колонки кроме ХК 1 и целевой имеют тип данных String?\n",
    "* **Как предсказывать строки с пустыми значениями во всех колонках ХК? (может их сразу откидывать)?**\n",
    "* Названия первой колонки должны быть всегда одинаковые\n",
    "* !!!Важно!!! Будем заменять числовые факторы на категориальные, если в них маленькое количество уникальных значений или одно значение встречается очень часто\n",
    "* Были ошибки в названиях колонок: 'ХК_ка т_01'"
   ]
  },
  {
   "cell_type": "markdown",
   "id": "3c4d3e75-a660-479c-a05e-2dab064987f0",
   "metadata": {},
   "source": [
    "**Проблемы, решение которых нужно будет автоматизировать:**\n",
    "* Несбалансированность классов\n",
    "* Пропуски в данных\n",
    "* Автоматическое кодирование текстовых столбцов"
   ]
  },
  {
   "cell_type": "code",
   "execution_count": 161,
   "id": "04316d65",
   "metadata": {},
   "outputs": [],
   "source": [
    "import pandas as pd\n",
    "import numpy as np\n",
    "from loguru import logger\n",
    "import re\n",
    "from nltk.corpus import stopwords\n",
    "from pymystem3 import Mystem\n",
    "from string import punctuation\n",
    "from sklearn.feature_extraction.text import CountVectorizer\n",
    "\n",
    "#nltk.download('punkt')\n",
    "#nltk.download('stopwords')"
   ]
  },
  {
   "cell_type": "markdown",
   "id": "07a94931",
   "metadata": {},
   "source": [
    "#### Глобальные переменные"
   ]
  },
  {
   "cell_type": "code",
   "execution_count": 162,
   "id": "6121d49e",
   "metadata": {},
   "outputs": [],
   "source": [
    "# Максимальное количество уникальных значений для категориального фактора, при котором он может обрабатываться методом one-hot encoding (добавится максимум столько столбцов)\n",
    "OneHotEncodingLimit = 30"
   ]
  },
  {
   "cell_type": "markdown",
   "id": "994b4d29",
   "metadata": {},
   "source": [
    "### Работа с данными"
   ]
  },
  {
   "cell_type": "code",
   "execution_count": 163,
   "id": "6d87f484",
   "metadata": {},
   "outputs": [],
   "source": [
    "df = pd.read_excel('data/paper_classificator_data.xlsx')"
   ]
  },
  {
   "cell_type": "code",
   "execution_count": 164,
   "id": "e945fa20",
   "metadata": {},
   "outputs": [],
   "source": [
    "df = df[df['ID класса (ТАРГЕТ)'].notna()]"
   ]
  },
  {
   "cell_type": "code",
   "execution_count": 165,
   "id": "b81bd7f7",
   "metadata": {},
   "outputs": [
    {
     "data": {
      "text/html": [
       "<div>\n",
       "<style scoped>\n",
       "    .dataframe tbody tr th:only-of-type {\n",
       "        vertical-align: middle;\n",
       "    }\n",
       "\n",
       "    .dataframe tbody tr th {\n",
       "        vertical-align: top;\n",
       "    }\n",
       "\n",
       "    .dataframe thead th {\n",
       "        text-align: right;\n",
       "    }\n",
       "</style>\n",
       "<table border=\"1\" class=\"dataframe\">\n",
       "  <thead>\n",
       "    <tr style=\"text-align: right;\">\n",
       "      <th></th>\n",
       "      <th>ID класса (ТАРГЕТ)</th>\n",
       "      <th>Наименование терминального класса</th>\n",
       "      <th>Код родительского класса</th>\n",
       "      <th>Наименование родительского класса</th>\n",
       "      <th>Историческое наименование</th>\n",
       "      <th>ХК_Кат_01</th>\n",
       "      <th>Значение ХК_Кат_01</th>\n",
       "      <th>ХК_Кат_02</th>\n",
       "      <th>Значение ХК_Кат_02</th>\n",
       "      <th>ХК_Кат_03</th>\n",
       "      <th>Значение ХК_Кат_03</th>\n",
       "      <th>ХК_Стр_01</th>\n",
       "      <th>Значение ХК_Стр_01</th>\n",
       "      <th>ХК_Числ_01</th>\n",
       "      <th>Значение ХК_Числ_01</th>\n",
       "      <th>ХК_Числ_02</th>\n",
       "      <th>Значение ХК_Числ_02</th>\n",
       "      <th>ХК_Числ_03</th>\n",
       "      <th>Значение ХК_Числ_03</th>\n",
       "    </tr>\n",
       "  </thead>\n",
       "  <tbody>\n",
       "    <tr>\n",
       "      <th>0</th>\n",
       "      <td>12326143.0</td>\n",
       "      <td>Бумага для офисной техники листовая цветная, А4</td>\n",
       "      <td>01.15.01</td>\n",
       "      <td>БУМАГА</td>\n",
       "      <td>Бумага д/принтера цветная IQ Color, А4, 80г/м2...</td>\n",
       "      <td>Производитель</td>\n",
       "      <td>IQ Color</td>\n",
       "      <td>Формат</td>\n",
       "      <td>A4</td>\n",
       "      <td>Цвет</td>\n",
       "      <td>розовый</td>\n",
       "      <td>NaN</td>\n",
       "      <td>NaN</td>\n",
       "      <td>Листов в пачке</td>\n",
       "      <td>100.0</td>\n",
       "      <td>Плотность, г/м2</td>\n",
       "      <td>80.0</td>\n",
       "      <td>NaN</td>\n",
       "      <td>NaN</td>\n",
       "    </tr>\n",
       "  </tbody>\n",
       "</table>\n",
       "</div>"
      ],
      "text/plain": [
       "   ID класса (ТАРГЕТ)                Наименование терминального класса  \\\n",
       "0          12326143.0  Бумага для офисной техники листовая цветная, А4   \n",
       "\n",
       "  Код родительского класса Наименование родительского класса  \\\n",
       "0                 01.15.01                            БУМАГА   \n",
       "\n",
       "                           Историческое наименование      ХК_Кат_01  \\\n",
       "0  Бумага д/принтера цветная IQ Color, А4, 80г/м2...  Производитель   \n",
       "\n",
       "  Значение ХК_Кат_01 ХК_Кат_02 Значение ХК_Кат_02 ХК_Кат_03  \\\n",
       "0           IQ Color    Формат                 A4      Цвет   \n",
       "\n",
       "  Значение ХК_Кат_03 ХК_Стр_01 Значение ХК_Стр_01      ХК_Числ_01  \\\n",
       "0            розовый       NaN                NaN  Листов в пачке   \n",
       "\n",
       "   Значение ХК_Числ_01       ХК_Числ_02  Значение ХК_Числ_02 ХК_Числ_03  \\\n",
       "0                100.0  Плотность, г/м2                 80.0        NaN   \n",
       "\n",
       "   Значение ХК_Числ_03  \n",
       "0                  NaN  "
      ]
     },
     "execution_count": 165,
     "metadata": {},
     "output_type": "execute_result"
    }
   ],
   "source": [
    "df.head(1)"
   ]
  },
  {
   "cell_type": "code",
   "execution_count": 166,
   "id": "f9af1d63",
   "metadata": {},
   "outputs": [],
   "source": [
    "target = df['ID класса (ТАРГЕТ)']\n",
    "\n",
    "# Удалим все лишние текстовые столбцы кроме \"Исторического наименования\"\n",
    "trainset_columns = []\n",
    "for column in df.columns:\n",
    "    if (column == 'Историческое наименование') or (re.fullmatch(r'ХК_.*', column)!=None) or (re.fullmatch(r'Значение.*', column)!=None):\n",
    "        trainset_columns.append(column)\n",
    "\n",
    "factors_df = df[trainset_columns]"
   ]
  },
  {
   "cell_type": "markdown",
   "id": "f9c2355b",
   "metadata": {},
   "source": [
    "#### Работаем с типами данных столбцов"
   ]
  },
  {
   "cell_type": "code",
   "execution_count": 167,
   "id": "0cee265f",
   "metadata": {},
   "outputs": [],
   "source": [
    "def format_column_types(columns: list):\n",
    "    '''\n",
    "    Обрабатывает названия колонок из массива columns.\n",
    "    Возвращает словарь с парами: название колонки - ее тип данных  \n",
    "    '''\n",
    "    feature_types_dict = {}\n",
    "    for column in columns:\n",
    "        type_pattern = r'ХК_([^_]+)_.*'\n",
    "        if column[0:2] == 'ХК':\n",
    "            feature_types_dict[column] = 'Кат'\n",
    "        elif column[0:8]=='Значение':\n",
    "            column_type = re.findall(type_pattern, column)[0]\n",
    "            feature_types_dict[column] = column_type\n",
    "        else:\n",
    "            feature_types_dict[column] = 'Стр'\n",
    "    return feature_types_dict\n",
    "\n",
    "feature_types_dict = format_column_types(factors_df.columns)"
   ]
  },
  {
   "cell_type": "code",
   "execution_count": 169,
   "id": "79196d3b",
   "metadata": {},
   "outputs": [
    {
     "name": "stderr",
     "output_type": "stream",
     "text": [
      "2023-10-09 01:49:36.189 | DEBUG    | __main__:<module>:17 - Строковый фактор: Историческое наименование\n",
      "C:\\Users\\User\\AppData\\Local\\Temp\\ipykernel_588\\133429103.py:19: SettingWithCopyWarning: \n",
      "A value is trying to be set on a copy of a slice from a DataFrame.\n",
      "Try using .loc[row_indexer,col_indexer] = value instead\n",
      "\n",
      "See the caveats in the documentation: https://pandas.pydata.org/pandas-docs/stable/user_guide/indexing.html#returning-a-view-versus-a-copy\n",
      "  factors_df[feature] = factors_df[feature].astype(object)\n",
      "2023-10-09 01:49:36.189 | DEBUG    | __main__:<module>:29 - Категориальный фактор: ХК_Кат_01\n",
      "2023-10-09 01:49:36.189 | DEBUG    | __main__:<module>:29 - Категориальный фактор: Значение ХК_Кат_01\n",
      "2023-10-09 01:49:36.189 | DEBUG    | __main__:<module>:29 - Категориальный фактор: ХК_Кат_02\n",
      "2023-10-09 01:49:36.189 | DEBUG    | __main__:<module>:29 - Категориальный фактор: Значение ХК_Кат_02\n",
      "2023-10-09 01:49:36.189 | DEBUG    | __main__:<module>:29 - Категориальный фактор: ХК_Кат_03\n",
      "2023-10-09 01:49:36.189 | DEBUG    | __main__:<module>:29 - Категориальный фактор: Значение ХК_Кат_03\n",
      "2023-10-09 01:49:36.189 | DEBUG    | __main__:<module>:29 - Категориальный фактор: ХК_Стр_01\n",
      "2023-10-09 01:49:36.189 | DEBUG    | __main__:<module>:17 - Строковый фактор: Значение ХК_Стр_01\n",
      "C:\\Users\\User\\AppData\\Local\\Temp\\ipykernel_588\\133429103.py:19: SettingWithCopyWarning: \n",
      "A value is trying to be set on a copy of a slice from a DataFrame.\n",
      "Try using .loc[row_indexer,col_indexer] = value instead\n",
      "\n",
      "See the caveats in the documentation: https://pandas.pydata.org/pandas-docs/stable/user_guide/indexing.html#returning-a-view-versus-a-copy\n",
      "  factors_df[feature] = factors_df[feature].astype(object)\n",
      "2023-10-09 01:49:36.189 | DEBUG    | __main__:<module>:29 - Категориальный фактор: ХК_Числ_01\n",
      "2023-10-09 01:49:36.198 | DEBUG    | __main__:<module>:29 - Категориальный фактор: Значение ХК_Числ_01\n",
      "2023-10-09 01:49:36.199 | DEBUG    | __main__:<module>:29 - Категориальный фактор: ХК_Числ_02\n",
      "2023-10-09 01:49:36.199 | DEBUG    | __main__:<module>:29 - Категориальный фактор: Значение ХК_Числ_02\n",
      "2023-10-09 01:49:36.200 | DEBUG    | __main__:<module>:29 - Категориальный фактор: ХК_Числ_03\n",
      "2023-10-09 01:49:36.200 | INFO     | __main__:check_number_to_categorical:2 - Начинаем проверку численного фактора Значение ХК_Числ_03\n",
      "\n",
      "2023-10-09 01:49:36.201 | DEBUG    | __main__:check_number_to_categorical:3 - Размер фактора:211\n",
      "2023-10-09 01:49:36.202 | DEBUG    | __main__:check_number_to_categorical:4 - Количество уникальных значений: 19\n",
      "2023-10-09 01:49:36.202 | DEBUG    | __main__:check_number_to_categorical:5 - Процент заполненности фактора: 30.33175355450237%\n",
      "2023-10-09 01:49:36.205 | DEBUG    | __main__:check_number_to_categorical:8 - Cамое частое значение фактора: \n",
      "                     Частота\n",
      "Значение ХК_Числ_03         \n",
      "100.0                29.6875\n",
      "C:\\Users\\User\\AppData\\Local\\Temp\\ipykernel_588\\133429103.py:10: FutureWarning: Calling float on a single element Series is deprecated and will raise a TypeError in the future. Use float(ser.iloc[0]) instead\n",
      "  if float(popular_value.iloc[0])>=50:\n",
      "C:\\Users\\User\\AppData\\Local\\Temp\\ipykernel_588\\133429103.py:27: SettingWithCopyWarning: \n",
      "A value is trying to be set on a copy of a slice from a DataFrame.\n",
      "Try using .loc[row_indexer,col_indexer] = value instead\n",
      "\n",
      "See the caveats in the documentation: https://pandas.pydata.org/pandas-docs/stable/user_guide/indexing.html#returning-a-view-versus-a-copy\n",
      "  factors_df[feature] = factors_df[feature].astype(float)\n"
     ]
    }
   ],
   "source": [
    "def check_number_to_categorical(column: str, factor: pd.Series):\n",
    "    logger.info(f'Начинаем проверку численного фактора {column}\\n')\n",
    "    logger.debug(f'Размер фактора:{factor.size}')\n",
    "    logger.debug(f'Количество уникальных значений: {factor.drop_duplicates().size}')\n",
    "    logger.debug(f'Процент заполненности фактора: {factor[factor.notnull()].size / factor.size * 100}%')\n",
    "    popular_value = pd.DataFrame(factor.value_counts().sort_values(ascending=False).head(1)/factor[factor.notnull()].size*100)\n",
    "    popular_value.columns = ['Частота']\n",
    "    logger.debug(f'Cамое частое значение фактора: \\n{popular_value}')\n",
    "    \n",
    "    if float(popular_value.iloc[0])>=50:\n",
    "        logger.info(f'Переводим числовой фактор {column} в категориальный')\n",
    "        return True\n",
    "    \n",
    "    \n",
    "for feature in feature_types_dict.keys():\n",
    "    if feature_types_dict.get(feature) == 'Стр':\n",
    "        logger.debug(f'Строковый фактор: {feature}')\n",
    "        #todo ДОДЕЛАТЬ пока ничего не делаем, чтобы не потерять пропущенные значения при преобразовании в строковый формат\n",
    "        factors_df[feature] = factors_df[feature].astype(object)\n",
    "    elif feature_types_dict.get(feature) == 'Булево':\n",
    "        factors_df[feature] = factors_df[feature].astype(bool)\n",
    "    elif feature_types_dict.get(feature) == 'Числ':\n",
    "        if check_number_to_categorical(feature, factors_df[feature]):\n",
    "            feature_types_dict[feature] = 'Кат'\n",
    "            factors_df[feature] = factors_df[feature].astype(object)\n",
    "        else:   \n",
    "            factors_df[feature] = factors_df[feature].astype(float)\n",
    "    elif feature_types_dict.get(feature) == 'Кат':\n",
    "        logger.debug(f'Категориальный фактор: {feature}')\n",
    "        #todo ДОДЕЛАТЬ преобразование категориальных колонок (пока не делаем, т.к. возможно будет catboost)\n"
   ]
  },
  {
   "cell_type": "code",
   "execution_count": 129,
   "id": "fcc1e82b",
   "metadata": {},
   "outputs": [],
   "source": [
    "#!pip install pymystem3"
   ]
  },
  {
   "cell_type": "markdown",
   "id": "4cf5a9e5",
   "metadata": {},
   "source": [
    "#### Заполняем пропуски в данных\n",
    "В зависимости от типа данных колонки заполняем пропуски по-разному:\n",
    "*   Стр -  т.к. переводим строки в числа, то пропущенные значение пусть будут = 0\n",
    "*   Числ - #todo По умолчанию = 0. Если присутствует значение, количество которого в заполненных строках >=50% => то фактор станет категориальным, а не численным. \n",
    "*   Булево - #todo будем считать, что у нас всегда такие столбцы отвечают на вопрос: \"Есть что-то? - Да/Нет\". Если нет ответа => Нет\n",
    "*   Кат - 'Emptyclass'"
   ]
  },
  {
   "cell_type": "code",
   "execution_count": 170,
   "id": "5af29dc7",
   "metadata": {},
   "outputs": [
    {
     "data": {
      "text/plain": [
       "Историческое наименование      0\n",
       "ХК_Кат_01                    151\n",
       "Значение ХК_Кат_01           151\n",
       "ХК_Кат_02                     40\n",
       "Значение ХК_Кат_02            40\n",
       "ХК_Кат_03                    130\n",
       "Значение ХК_Кат_03           130\n",
       "ХК_Стр_01                    191\n",
       "Значение ХК_Стр_01           191\n",
       "ХК_Числ_01                   151\n",
       "Значение ХК_Числ_01          151\n",
       "ХК_Числ_02                   137\n",
       "Значение ХК_Числ_02          137\n",
       "ХК_Числ_03                   147\n",
       "Значение ХК_Числ_03          147\n",
       "dtype: int64"
      ]
     },
     "execution_count": 170,
     "metadata": {},
     "output_type": "execute_result"
    }
   ],
   "source": [
    "factors_df.isna().sum()"
   ]
  },
  {
   "cell_type": "code",
   "execution_count": 171,
   "id": "3fcd845c",
   "metadata": {},
   "outputs": [],
   "source": [
    "not_empty_factors_df = factors_df.copy()\n",
    "for column in not_empty_factors_df.columns:\n",
    "    if feature_types_dict.get(column) == 'Кат':\n",
    "        not_empty_factors_df.loc[not_empty_factors_df[column].isna(), column] = f'EmptyValue_{column}'\n",
    "    elif feature_types_dict.get(column) == 'Числ':\n",
    "        not_empty_factors_df.loc[not_empty_factors_df[column].isna(), column] = 0\n",
    "    elif feature_types_dict.get(column) == 'Стр':\n",
    "        not_empty_factors_df.loc[not_empty_factors_df[column].isna(), column] = ''\n",
    "    elif feature_types_dict.get(column) == 'Булево':\n",
    "        not_empty_factors_df.loc[not_empty_factors_df[column].isna(), column] = 0\n"
   ]
  },
  {
   "cell_type": "code",
   "execution_count": 172,
   "id": "06b664ad",
   "metadata": {},
   "outputs": [
    {
     "data": {
      "text/plain": [
       "Историческое наименование    0\n",
       "ХК_Кат_01                    0\n",
       "Значение ХК_Кат_01           0\n",
       "ХК_Кат_02                    0\n",
       "Значение ХК_Кат_02           0\n",
       "ХК_Кат_03                    0\n",
       "Значение ХК_Кат_03           0\n",
       "ХК_Стр_01                    0\n",
       "Значение ХК_Стр_01           0\n",
       "ХК_Числ_01                   0\n",
       "Значение ХК_Числ_01          0\n",
       "ХК_Числ_02                   0\n",
       "Значение ХК_Числ_02          0\n",
       "ХК_Числ_03                   0\n",
       "Значение ХК_Числ_03          0\n",
       "dtype: int64"
      ]
     },
     "execution_count": 172,
     "metadata": {},
     "output_type": "execute_result"
    }
   ],
   "source": [
    "not_empty_factors_df.isna().sum().sort_values()"
   ]
  },
  {
   "cell_type": "markdown",
   "id": "f84ae2be",
   "metadata": {},
   "source": [
    "#### Кодируем строковые переменные\n",
    "Возможные варианты:\n",
    "* bag_of_words - пока остановимся на нем\n",
    "* tf_idf "
   ]
  },
  {
   "cell_type": "code",
   "execution_count": 173,
   "id": "406e478d",
   "metadata": {},
   "outputs": [],
   "source": [
    "russian_stopwords = stopwords.words(\"russian\")\n",
    "mystem = Mystem()\n",
    "\n",
    "def text_preprocessing(text):\n",
    "    tokens = mystem.lemmatize(text)\n",
    "    tokens = [token for token in tokens if token not in russian_stopwords and token != \" \"  and token.strip() not in punctuation]\n",
    "    \n",
    "    return tokens\n",
    "\n",
    "def text_feature_preprocessing(text_feature):\n",
    "    '''\n",
    "    Функция преобразования текстовых факторов\n",
    "    - Переводим в нижний регистр\n",
    "    - Удаляем знаки препинания\n",
    "    - Удаляем стоп слова\n",
    "    - Проводим лемматизацию\n",
    "    '''\n",
    "    processed_feature = []\n",
    "    text_feature = text_feature.replace(r'[^\\w\\s]',' ', regex=True).replace(r'\\s+',' ', regex=True).str.lower()\n",
    "    #processed_text_feature = text_feature.apply(text_preprocessing)\n",
    "    return text_feature\n",
    "\n",
    "def handle_text_feature(text_feature: pd.Series):\n",
    "    '''\n",
    "    Функция обработки строкового фактора:\n",
    "    - Проводим препроцессинг\n",
    "    - Формируем \"Мешок строк\" (bag of words)\n",
    "    '''\n",
    "    processed_text_feature = text_feature_preprocessing(text_feature)\n",
    "\n",
    "    vectorizer = CountVectorizer()\n",
    "    vectorizer.fit(processed_text_feature)\n",
    "    vectorized_text_feature = pd.DataFrame(vectorizer.transform(processed_text_feature).toarray())\n",
    "\n",
    "    # Удалим неинформативные столбцы\n",
    "    informative_word_columns = vectorized_text_feature.sum()[\n",
    "            (vectorized_text_feature.sum()>=vectorized_text_feature.shape[1]*0.01) &\n",
    "            (vectorized_text_feature.sum()!=vectorized_text_feature.shape[1])\n",
    "        ].index \n",
    "    handled_text_feature = vectorized_text_feature[informative_word_columns]\n",
    "    handled_text_feature.columns = pd.Series(vectorizer.get_feature_names_out())[informative_word_columns]\n",
    "    return handled_text_feature"
   ]
  },
  {
   "cell_type": "code",
   "execution_count": 174,
   "id": "7c36d91b",
   "metadata": {},
   "outputs": [],
   "source": [
    "from sklearn.preprocessing import LabelEncoder\n",
    "\n",
    "def handle_cat_feature(cat_feature: pd.Series):\n",
    "    cat_feature = cat_feature.astype(str)\n",
    "    unique_values_count = cat_feature.drop_duplicates().size\n",
    "    if unique_values_count <= OneHotEncodingLimit:\n",
    "        #OneHotEncoding\n",
    "        cat_feature_encoded = pd.get_dummies(cat_feature)\n",
    "    else:\n",
    "        #LabelEncoding - чтобы сильно не увеличивать количество факторов\n",
    "        le = LabelEncoder()\n",
    "        cat_feature_encoded = pd.DataFrame(le.fit_transform(cat_feature))\n",
    "    return cat_feature_encoded"
   ]
  },
  {
   "cell_type": "code",
   "execution_count": 176,
   "id": "f53ad5b4",
   "metadata": {},
   "outputs": [],
   "source": [
    "trainset = pd.DataFrame()\n",
    "\n",
    "for feature in feature_types_dict:\n",
    "    if feature_types_dict.get(feature) == 'Стр':\n",
    "        handled_feature = handle_text_feature(not_empty_factors_df[feature])\n",
    "    elif feature_types_dict.get(feature) == 'Кат':\n",
    "        handled_feature = handle_cat_feature(not_empty_factors_df[feature])\n",
    "    else:\n",
    "        handled_feature = pd.DataFrame(not_empty_factors_df[feature])\n",
    "    handled_feature.columns = [col+'_'+feature for col in handled_feature.columns]\n",
    "        \n",
    "    trainset = pd.concat([trainset,handled_feature],axis=1)"
   ]
  },
  {
   "cell_type": "code",
   "execution_count": 177,
   "id": "80f86f06",
   "metadata": {},
   "outputs": [
    {
     "data": {
      "text/html": [
       "<div>\n",
       "<style scoped>\n",
       "    .dataframe tbody tr th:only-of-type {\n",
       "        vertical-align: middle;\n",
       "    }\n",
       "\n",
       "    .dataframe tbody tr th {\n",
       "        vertical-align: top;\n",
       "    }\n",
       "\n",
       "    .dataframe thead th {\n",
       "        text-align: right;\n",
       "    }\n",
       "</style>\n",
       "<table border=\"1\" class=\"dataframe\">\n",
       "  <thead>\n",
       "    <tr style=\"text-align: right;\">\n",
       "      <th></th>\n",
       "      <th>10_Историческое наименование</th>\n",
       "      <th>100_Историческое наименование</th>\n",
       "      <th>100л_Историческое наименование</th>\n",
       "      <th>10л_Историческое наименование</th>\n",
       "      <th>10цв_Историческое наименование</th>\n",
       "      <th>12_Историческое наименование</th>\n",
       "      <th>146_Историческое наименование</th>\n",
       "      <th>170cie_Историческое наименование</th>\n",
       "      <th>1school_Историческое наименование</th>\n",
       "      <th>20_Историческое наименование</th>\n",
       "      <th>...</th>\n",
       "      <th>170.0_Значение ХК_Числ_02</th>\n",
       "      <th>180.0_Значение ХК_Числ_02</th>\n",
       "      <th>250.0_Значение ХК_Числ_02</th>\n",
       "      <th>280.0_Значение ХК_Числ_02</th>\n",
       "      <th>65.0_Значение ХК_Числ_02</th>\n",
       "      <th>80.0_Значение ХК_Числ_02</th>\n",
       "      <th>EmptyValue_Значение ХК_Числ_02_Значение ХК_Числ_02</th>\n",
       "      <th>EmptyValue_ХК_Числ_03_ХК_Числ_03</th>\n",
       "      <th>Белизна по CIE, %_ХК_Числ_03</th>\n",
       "      <th>Значение ХК_Числ_03_Значение ХК_Числ_03</th>\n",
       "    </tr>\n",
       "  </thead>\n",
       "  <tbody>\n",
       "    <tr>\n",
       "      <th>0</th>\n",
       "      <td>0</td>\n",
       "      <td>0</td>\n",
       "      <td>1</td>\n",
       "      <td>0</td>\n",
       "      <td>0</td>\n",
       "      <td>0</td>\n",
       "      <td>0</td>\n",
       "      <td>0</td>\n",
       "      <td>0</td>\n",
       "      <td>0</td>\n",
       "      <td>...</td>\n",
       "      <td>False</td>\n",
       "      <td>False</td>\n",
       "      <td>False</td>\n",
       "      <td>False</td>\n",
       "      <td>False</td>\n",
       "      <td>True</td>\n",
       "      <td>False</td>\n",
       "      <td>True</td>\n",
       "      <td>False</td>\n",
       "      <td>0.0</td>\n",
       "    </tr>\n",
       "    <tr>\n",
       "      <th>1</th>\n",
       "      <td>0</td>\n",
       "      <td>0</td>\n",
       "      <td>1</td>\n",
       "      <td>0</td>\n",
       "      <td>0</td>\n",
       "      <td>0</td>\n",
       "      <td>0</td>\n",
       "      <td>0</td>\n",
       "      <td>0</td>\n",
       "      <td>0</td>\n",
       "      <td>...</td>\n",
       "      <td>False</td>\n",
       "      <td>False</td>\n",
       "      <td>False</td>\n",
       "      <td>False</td>\n",
       "      <td>False</td>\n",
       "      <td>True</td>\n",
       "      <td>False</td>\n",
       "      <td>True</td>\n",
       "      <td>False</td>\n",
       "      <td>0.0</td>\n",
       "    </tr>\n",
       "    <tr>\n",
       "      <th>2</th>\n",
       "      <td>0</td>\n",
       "      <td>0</td>\n",
       "      <td>1</td>\n",
       "      <td>0</td>\n",
       "      <td>0</td>\n",
       "      <td>0</td>\n",
       "      <td>0</td>\n",
       "      <td>0</td>\n",
       "      <td>0</td>\n",
       "      <td>0</td>\n",
       "      <td>...</td>\n",
       "      <td>False</td>\n",
       "      <td>False</td>\n",
       "      <td>False</td>\n",
       "      <td>False</td>\n",
       "      <td>False</td>\n",
       "      <td>True</td>\n",
       "      <td>False</td>\n",
       "      <td>True</td>\n",
       "      <td>False</td>\n",
       "      <td>0.0</td>\n",
       "    </tr>\n",
       "    <tr>\n",
       "      <th>3</th>\n",
       "      <td>0</td>\n",
       "      <td>0</td>\n",
       "      <td>1</td>\n",
       "      <td>0</td>\n",
       "      <td>0</td>\n",
       "      <td>0</td>\n",
       "      <td>0</td>\n",
       "      <td>0</td>\n",
       "      <td>0</td>\n",
       "      <td>0</td>\n",
       "      <td>...</td>\n",
       "      <td>False</td>\n",
       "      <td>False</td>\n",
       "      <td>False</td>\n",
       "      <td>False</td>\n",
       "      <td>False</td>\n",
       "      <td>True</td>\n",
       "      <td>False</td>\n",
       "      <td>True</td>\n",
       "      <td>False</td>\n",
       "      <td>0.0</td>\n",
       "    </tr>\n",
       "    <tr>\n",
       "      <th>4</th>\n",
       "      <td>0</td>\n",
       "      <td>0</td>\n",
       "      <td>0</td>\n",
       "      <td>0</td>\n",
       "      <td>0</td>\n",
       "      <td>0</td>\n",
       "      <td>0</td>\n",
       "      <td>0</td>\n",
       "      <td>0</td>\n",
       "      <td>0</td>\n",
       "      <td>...</td>\n",
       "      <td>False</td>\n",
       "      <td>False</td>\n",
       "      <td>False</td>\n",
       "      <td>False</td>\n",
       "      <td>False</td>\n",
       "      <td>True</td>\n",
       "      <td>False</td>\n",
       "      <td>True</td>\n",
       "      <td>False</td>\n",
       "      <td>0.0</td>\n",
       "    </tr>\n",
       "  </tbody>\n",
       "</table>\n",
       "<p>5 rows × 175 columns</p>\n",
       "</div>"
      ],
      "text/plain": [
       "   10_Историческое наименование  100_Историческое наименование  \\\n",
       "0                             0                              0   \n",
       "1                             0                              0   \n",
       "2                             0                              0   \n",
       "3                             0                              0   \n",
       "4                             0                              0   \n",
       "\n",
       "   100л_Историческое наименование  10л_Историческое наименование  \\\n",
       "0                               1                              0   \n",
       "1                               1                              0   \n",
       "2                               1                              0   \n",
       "3                               1                              0   \n",
       "4                               0                              0   \n",
       "\n",
       "   10цв_Историческое наименование  12_Историческое наименование  \\\n",
       "0                               0                             0   \n",
       "1                               0                             0   \n",
       "2                               0                             0   \n",
       "3                               0                             0   \n",
       "4                               0                             0   \n",
       "\n",
       "   146_Историческое наименование  170cie_Историческое наименование  \\\n",
       "0                              0                                 0   \n",
       "1                              0                                 0   \n",
       "2                              0                                 0   \n",
       "3                              0                                 0   \n",
       "4                              0                                 0   \n",
       "\n",
       "   1school_Историческое наименование  20_Историческое наименование  ...  \\\n",
       "0                                  0                             0  ...   \n",
       "1                                  0                             0  ...   \n",
       "2                                  0                             0  ...   \n",
       "3                                  0                             0  ...   \n",
       "4                                  0                             0  ...   \n",
       "\n",
       "   170.0_Значение ХК_Числ_02  180.0_Значение ХК_Числ_02  \\\n",
       "0                      False                      False   \n",
       "1                      False                      False   \n",
       "2                      False                      False   \n",
       "3                      False                      False   \n",
       "4                      False                      False   \n",
       "\n",
       "   250.0_Значение ХК_Числ_02  280.0_Значение ХК_Числ_02  \\\n",
       "0                      False                      False   \n",
       "1                      False                      False   \n",
       "2                      False                      False   \n",
       "3                      False                      False   \n",
       "4                      False                      False   \n",
       "\n",
       "   65.0_Значение ХК_Числ_02  80.0_Значение ХК_Числ_02  \\\n",
       "0                     False                      True   \n",
       "1                     False                      True   \n",
       "2                     False                      True   \n",
       "3                     False                      True   \n",
       "4                     False                      True   \n",
       "\n",
       "   EmptyValue_Значение ХК_Числ_02_Значение ХК_Числ_02  \\\n",
       "0                                              False    \n",
       "1                                              False    \n",
       "2                                              False    \n",
       "3                                              False    \n",
       "4                                              False    \n",
       "\n",
       "   EmptyValue_ХК_Числ_03_ХК_Числ_03  Белизна по CIE, %_ХК_Числ_03  \\\n",
       "0                              True                         False   \n",
       "1                              True                         False   \n",
       "2                              True                         False   \n",
       "3                              True                         False   \n",
       "4                              True                         False   \n",
       "\n",
       "   Значение ХК_Числ_03_Значение ХК_Числ_03  \n",
       "0                                      0.0  \n",
       "1                                      0.0  \n",
       "2                                      0.0  \n",
       "3                                      0.0  \n",
       "4                                      0.0  \n",
       "\n",
       "[5 rows x 175 columns]"
      ]
     },
     "execution_count": 177,
     "metadata": {},
     "output_type": "execute_result"
    }
   ],
   "source": [
    "trainset.head()"
   ]
  },
  {
   "cell_type": "markdown",
   "id": "ae9baf2f",
   "metadata": {},
   "source": [
    "#### Делим на обучающую и тестовую выборки"
   ]
  },
  {
   "cell_type": "code",
   "execution_count": 178,
   "id": "3fecd360",
   "metadata": {},
   "outputs": [],
   "source": [
    "from sklearn.model_selection import train_test_split\n",
    "\n",
    "train_data, test_data, train_labels, test_labels = train_test_split(\n",
    "    trainset, \n",
    "    target, \n",
    "    test_size=0.3, \n",
    "    random_state=42,\n",
    "    #stratify=target    \n",
    ") "
   ]
  },
  {
   "cell_type": "markdown",
   "id": "93d7be5b",
   "metadata": {},
   "source": [
    "#### Обучим модель CatBoostClassifier на подготовленных данных"
   ]
  },
  {
   "cell_type": "code",
   "execution_count": 179,
   "id": "a1443d67",
   "metadata": {},
   "outputs": [],
   "source": [
    "from catboost import CatBoostClassifier"
   ]
  },
  {
   "cell_type": "code",
   "execution_count": 184,
   "id": "c000462e",
   "metadata": {},
   "outputs": [
    {
     "name": "stdout",
     "output_type": "stream",
     "text": [
      "0:\tlearn: 2.8523653\ttotal: 2.48ms\tremaining: 2.48ms\n",
      "1:\tlearn: 2.0804879\ttotal: 4.87ms\tremaining: 0us\n"
     ]
    }
   ],
   "source": [
    "model = CatBoostClassifier(iterations=2,\n",
    "                           depth=2,\n",
    "                           learning_rate=1,\n",
    "                           loss_function='MultiClass',\n",
    "                           verbose=True)\n",
    "model.fit(train_data, train_labels)\n",
    "preds_labels = model.predict(test_data)"
   ]
  },
  {
   "cell_type": "code",
   "execution_count": 185,
   "id": "1acf3d1d",
   "metadata": {},
   "outputs": [
    {
     "name": "stdout",
     "output_type": "stream",
     "text": [
      "Accuracy: 0.359375\n",
      "Classification Report:\n",
      "               precision    recall  f1-score   support\n",
      "\n",
      "   3288708.0       0.40      0.89      0.55         9\n",
      "   3293136.0       0.00      0.00      0.00         2\n",
      "   4177853.0       0.00      0.00      0.00         5\n",
      "   4186617.0       0.00      0.00      0.00         3\n",
      "   4283045.0       0.00      0.00      0.00         1\n",
      "   8956452.0       0.00      0.00      0.00         2\n",
      "  12308627.0       0.56      1.00      0.72        14\n",
      "  12308694.0       0.00      0.00      0.00         3\n",
      "  12326143.0       0.00      0.00      0.00         2\n",
      "  12344482.0       0.00      0.00      0.00         4\n",
      "  12344579.0       0.00      0.00      0.00         3\n",
      "  12345190.0       0.00      0.00      0.00         1\n",
      "  12345290.0       0.00      0.00      0.00         2\n",
      "  12362113.0       0.00      0.00      0.00         1\n",
      "  12363146.0       1.00      1.00      1.00         1\n",
      "  12363185.0       0.00      0.00      0.00         2\n",
      "  12363315.0       0.00      0.00      0.00         1\n",
      "  12363346.0       0.00      0.00      0.00         2\n",
      "  12363366.0       0.00      0.00      0.00         1\n",
      "  12363481.0       0.00      0.00      0.00         0\n",
      "  12363576.0       0.00      0.00      0.00         3\n",
      "  12363587.0       0.00      0.00      0.00         2\n",
      "\n",
      "    accuracy                           0.36        64\n",
      "   macro avg       0.09      0.13      0.10        64\n",
      "weighted avg       0.19      0.36      0.25        64\n",
      "\n"
     ]
    },
    {
     "name": "stderr",
     "output_type": "stream",
     "text": [
      "g:\\Apps\\anaconda3\\envs\\qlever\\Lib\\site-packages\\sklearn\\metrics\\_classification.py:1344: UndefinedMetricWarning: Precision and F-score are ill-defined and being set to 0.0 in labels with no predicted samples. Use `zero_division` parameter to control this behavior.\n",
      "  _warn_prf(average, modifier, msg_start, len(result))\n",
      "g:\\Apps\\anaconda3\\envs\\qlever\\Lib\\site-packages\\sklearn\\metrics\\_classification.py:1344: UndefinedMetricWarning: Recall and F-score are ill-defined and being set to 0.0 in labels with no true samples. Use `zero_division` parameter to control this behavior.\n",
      "  _warn_prf(average, modifier, msg_start, len(result))\n",
      "g:\\Apps\\anaconda3\\envs\\qlever\\Lib\\site-packages\\sklearn\\metrics\\_classification.py:1344: UndefinedMetricWarning: Precision and F-score are ill-defined and being set to 0.0 in labels with no predicted samples. Use `zero_division` parameter to control this behavior.\n",
      "  _warn_prf(average, modifier, msg_start, len(result))\n",
      "g:\\Apps\\anaconda3\\envs\\qlever\\Lib\\site-packages\\sklearn\\metrics\\_classification.py:1344: UndefinedMetricWarning: Recall and F-score are ill-defined and being set to 0.0 in labels with no true samples. Use `zero_division` parameter to control this behavior.\n",
      "  _warn_prf(average, modifier, msg_start, len(result))\n",
      "g:\\Apps\\anaconda3\\envs\\qlever\\Lib\\site-packages\\sklearn\\metrics\\_classification.py:1344: UndefinedMetricWarning: Precision and F-score are ill-defined and being set to 0.0 in labels with no predicted samples. Use `zero_division` parameter to control this behavior.\n",
      "  _warn_prf(average, modifier, msg_start, len(result))\n",
      "g:\\Apps\\anaconda3\\envs\\qlever\\Lib\\site-packages\\sklearn\\metrics\\_classification.py:1344: UndefinedMetricWarning: Recall and F-score are ill-defined and being set to 0.0 in labels with no true samples. Use `zero_division` parameter to control this behavior.\n",
      "  _warn_prf(average, modifier, msg_start, len(result))\n"
     ]
    }
   ],
   "source": [
    "from sklearn.metrics import accuracy_score, classification_report\n",
    "\n",
    "accuracy = accuracy_score(test_labels, preds_labels)\n",
    "report = classification_report(test_labels, preds_labels)\n",
    "\n",
    "print(f\"Accuracy: {accuracy}\")\n",
    "print(\"Classification Report:\\n\", report)"
   ]
  },
  {
   "cell_type": "code",
   "execution_count": null,
   "id": "709817bb",
   "metadata": {},
   "outputs": [],
   "source": []
  },
  {
   "cell_type": "markdown",
   "id": "5fa65c4b",
   "metadata": {},
   "source": [
    "#### Удалим бесполезные факторы которые состоят из 1 уникального значения"
   ]
  },
  {
   "cell_type": "code",
   "execution_count": null,
   "id": "4733061e",
   "metadata": {},
   "outputs": [],
   "source": [
    "#Делаем это после кодирования категориалььных переменных\n",
    "for column in factors_df.columns:\n",
    "    unique_values_count = factors_df[column].drop_duplicates().size\n",
    "    if unique_values_count == 1:\n",
    "        new_factors_df = factors_df.drop(column, axis = 1)\n"
   ]
  },
  {
   "cell_type": "code",
   "execution_count": null,
   "id": "4b1d6a1d",
   "metadata": {},
   "outputs": [
    {
     "ename": "NameError",
     "evalue": "name 'new_factors_df' is not defined",
     "output_type": "error",
     "traceback": [
      "\u001b[1;31m---------------------------------------------------------------------------\u001b[0m",
      "\u001b[1;31mNameError\u001b[0m                                 Traceback (most recent call last)",
      "\u001b[1;32mc:\\Users\\user\\Desktop\\qlever\\TNVED_classification.ipynb Cell 21\u001b[0m line \u001b[0;36m1\n\u001b[1;32m----> <a href='vscode-notebook-cell:/c%3A/Users/user/Desktop/qlever/TNVED_classification.ipynb#X26sZmlsZQ%3D%3D?line=0'>1</a>\u001b[0m new_factors_df\u001b[39m.\u001b[39minfo()\n",
      "\u001b[1;31mNameError\u001b[0m: name 'new_factors_df' is not defined"
     ]
    }
   ],
   "source": [
    "new_factors_df.info()"
   ]
  },
  {
   "cell_type": "code",
   "execution_count": null,
   "id": "ff08e1c3",
   "metadata": {},
   "outputs": [
    {
     "data": {
      "text/plain": [
       "Наименование терминального класса\n",
       "nan                                                                         98\n",
       "Бумага для офисной техники листовая, А4                                     56\n",
       "Картон цветной, А4, 10цветов, упак                                          28\n",
       "Картон цветной, А4, 10 цветов, 10 листов, упак                              16\n",
       "Бумага для офисной техники листовая цветная, А4                             11\n",
       "Картон цветной, А4, 8 цветов, 8 листов, упак                                 9\n",
       "Картон цветной, А3, 8 цветов, 8 лист, упак                                   7\n",
       "Калька для копировальных работ листовая                                      7\n",
       "Картон цветной, А4, 5 цветов, 5 листов, упак                                 7\n",
       "Картон гофрированный A4, 5л, упак                                            6\n",
       "Фотобумага листовая                                                          6\n",
       "Бумага перфорированная однослойная                                           6\n",
       "Фотобумага рулонная                                                          5\n",
       "Бумага для черчения (ватман) листовая                                        5\n",
       "Бумага для флипчарта (блок)                                                  5\n",
       "Бумага для офисной техники листовая, А5                                      4\n",
       "Бумага для черчения (ватман) рулонная                                        4\n",
       "Бумага копировальная для машинописных работ                                  4\n",
       "Калька под карандаш рулонная                                                 4\n",
       "Бумага писчая                                                                4\n",
       "Бумага перфорированная многослойная                                          4\n",
       "Бумага миллиметровая (масштабно-координатная) и логарифмическая рулонная     4\n",
       "Калька под тушь рулонная                                                     4\n",
       "Картон белый, А4, 10 листов                                                  2\n",
       "Картон мелованный двусторонний белый, А4, 7 листов, упак                     1\n",
       "Картон цветной двухсторонний, 10 л, 20 цветов, упак                          1\n",
       "Картон белый, немелованный, А4, 200 л                                        1\n",
       "Name: count, dtype: int64"
      ]
     },
     "execution_count": 25,
     "metadata": {},
     "output_type": "execute_result"
    }
   ],
   "source": [
    "new_factors_df['Наименование терминального класса'].value_counts()"
   ]
  },
  {
   "cell_type": "code",
   "execution_count": null,
   "id": "d2902a76",
   "metadata": {},
   "outputs": [],
   "source": []
  },
  {
   "cell_type": "markdown",
   "id": "4e819d83",
   "metadata": {},
   "source": [
    "* Удалить колонки для неполного соответствия: если есть [1,2,3,4] - удалить одну, чтобы не было зависимости\n",
    "* Удалить строки без характеристик\n",
    "* Отбор на основе важности признаков"
   ]
  }
 ],
 "metadata": {
  "kernelspec": {
   "display_name": "Python 3 (ipykernel)",
   "language": "python",
   "name": "python3"
  },
  "language_info": {
   "codemirror_mode": {
    "name": "ipython",
    "version": 3
   },
   "file_extension": ".py",
   "mimetype": "text/x-python",
   "name": "python",
   "nbconvert_exporter": "python",
   "pygments_lexer": "ipython3",
   "version": "3.11.5"
  }
 },
 "nbformat": 4,
 "nbformat_minor": 5
}
